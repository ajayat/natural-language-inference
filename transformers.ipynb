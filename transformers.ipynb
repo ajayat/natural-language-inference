{
 "cells": [
  {
   "cell_type": "markdown",
   "metadata": {
    "id": "9hPbP053j7wy"
   },
   "source": [
    "# Natural Language Inference\n",
    "\n",
    "This Jupyter Notebook fine-tunes `microsoft/xlm-roberta-large` on many NLI datasets.\n",
    "It includes data loading, preprocessing, data augmentation, model training, evaluation, and visualization."
   ]
  },
  {
   "cell_type": "markdown",
   "metadata": {
    "id": "kb4jC0vEj7w0"
   },
   "source": [
    "### Environment Setup\n",
    "\n",
    "This notebook was executed on a local Jupyter server in a LXC connected to 4 GPU NVIDIA A100 80GB to train models."
   ]
  },
  {
   "cell_type": "markdown",
   "metadata": {},
   "source": [
    "#### Install dependencies"
   ]
  },
  {
   "cell_type": "code",
   "execution_count": 1,
   "metadata": {
    "id": "mqhGjxHoj7w0"
   },
   "outputs": [
    {
     "name": "stdout",
     "output_type": "stream",
     "text": [
      "Note: you may need to restart the kernel to use updated packages.\n",
      "Note: you may need to restart the kernel to use updated packages.\n"
     ]
    }
   ],
   "source": [
    "%pip install -qU pandas numpy seaborn matplotlib scikit-learn datasets evaluate\n",
    "%pip install -qU \"transformers[torch]\""
   ]
  },
  {
   "cell_type": "code",
   "execution_count": 2,
   "metadata": {},
   "outputs": [],
   "source": [
    "!export PYTORCH_CUDA_ALLOC_CONF=expandable_segments:True\n",
    "!export TOKENIZERS_PARALLELISM=false"
   ]
  },
  {
   "cell_type": "markdown",
   "metadata": {
    "id": "VbTlBIhLj7w1"
   },
   "source": [
    "#### Import libraries"
   ]
  },
  {
   "cell_type": "code",
   "execution_count": 3,
   "metadata": {
    "id": "tw4RAm1zj7w1"
   },
   "outputs": [],
   "source": [
    "from pathlib import Path\n",
    "from tqdm import tqdm\n",
    "\n",
    "import torch\n",
    "import numpy as np\n",
    "import pandas as pd\n",
    "import matplotlib.pyplot as plt\n",
    "\n",
    "from datasets import Dataset, concatenate_datasets, load_dataset\n",
    "from transformers import AutoTokenizer, Trainer, TrainingArguments"
   ]
  },
  {
   "cell_type": "markdown",
   "metadata": {},
   "source": [
    "#### Constants"
   ]
  },
  {
   "cell_type": "code",
   "execution_count": 4,
   "metadata": {},
   "outputs": [],
   "source": [
    "PRETRAINED_MODEL_NAME = \"FacebookAI/xlm-roberta-large\"\n",
    "ROOT_PATH = Path.cwd()\n",
    "MODEL_DIR = ROOT_PATH / \"models\"\n",
    "MODEL_BASENAME = PRETRAINED_MODEL_NAME.rpartition('/')[2]\n",
    "\n",
    "device = torch.device(\"cuda\" if torch.cuda.is_available() else \"cpu\")\n",
    "# Use fixed seed for results reproducibility\n",
    "np.random.seed(0)"
   ]
  },
  {
   "cell_type": "markdown",
   "metadata": {
    "id": "_U6tDwWAj7w1"
   },
   "source": [
    "### Data Loading"
   ]
  },
  {
   "cell_type": "markdown",
   "metadata": {},
   "source": [
    "#### Challenge dataset"
   ]
  },
  {
   "cell_type": "code",
   "execution_count": 5,
   "metadata": {
    "id": "roW0dM9Mj7w1"
   },
   "outputs": [
    {
     "data": {
      "text/html": [
       "<div>\n",
       "<style scoped>\n",
       "    .dataframe tbody tr th:only-of-type {\n",
       "        vertical-align: middle;\n",
       "    }\n",
       "\n",
       "    .dataframe tbody tr th {\n",
       "        vertical-align: top;\n",
       "    }\n",
       "\n",
       "    .dataframe thead th {\n",
       "        text-align: right;\n",
       "    }\n",
       "</style>\n",
       "<table border=\"1\" class=\"dataframe\">\n",
       "  <thead>\n",
       "    <tr style=\"text-align: right;\">\n",
       "      <th></th>\n",
       "      <th>id</th>\n",
       "      <th>premise</th>\n",
       "      <th>hypothesis</th>\n",
       "      <th>lang_abv</th>\n",
       "      <th>language</th>\n",
       "      <th>label</th>\n",
       "    </tr>\n",
       "  </thead>\n",
       "  <tbody>\n",
       "    <tr>\n",
       "      <th>6543</th>\n",
       "      <td>af77bed638</td>\n",
       "      <td>The experts point out that it is not age alone...</td>\n",
       "      <td>The Qin Dynasty has the most expensive antique...</td>\n",
       "      <td>en</td>\n",
       "      <td>English</td>\n",
       "      <td>1</td>\n",
       "    </tr>\n",
       "    <tr>\n",
       "      <th>9150</th>\n",
       "      <td>285d11dd62</td>\n",
       "      <td>Wear a nicely ventilated hat and keep to the s...</td>\n",
       "      <td>A sun umbrella might help those who really nee...</td>\n",
       "      <td>en</td>\n",
       "      <td>English</td>\n",
       "      <td>1</td>\n",
       "    </tr>\n",
       "    <tr>\n",
       "      <th>8245</th>\n",
       "      <td>00b1f84085</td>\n",
       "      <td>Each working group met several times to develo...</td>\n",
       "      <td>There were no meetings to discuss changes to t...</td>\n",
       "      <td>en</td>\n",
       "      <td>English</td>\n",
       "      <td>2</td>\n",
       "    </tr>\n",
       "    <tr>\n",
       "      <th>3753</th>\n",
       "      <td>e19376a801</td>\n",
       "      <td>farmworkers conducted by the U.S.</td>\n",
       "      <td>A labor survey also considered the views of ag...</td>\n",
       "      <td>en</td>\n",
       "      <td>English</td>\n",
       "      <td>1</td>\n",
       "    </tr>\n",
       "    <tr>\n",
       "      <th>713</th>\n",
       "      <td>b0afb96e00</td>\n",
       "      <td>كلمتا blood و flood ليس بنفس صوت food.</td>\n",
       "      <td>الغذاء هو بالضبط مثل الدم والفيضان.</td>\n",
       "      <td>ar</td>\n",
       "      <td>Arabic</td>\n",
       "      <td>2</td>\n",
       "    </tr>\n",
       "    <tr>\n",
       "      <th>2799</th>\n",
       "      <td>e33f803e46</td>\n",
       "      <td>LSC set a deadline of October 1, 1998, for sub...</td>\n",
       "      <td>LSC set a deadline to submit state reports to ...</td>\n",
       "      <td>en</td>\n",
       "      <td>English</td>\n",
       "      <td>1</td>\n",
       "    </tr>\n",
       "    <tr>\n",
       "      <th>2335</th>\n",
       "      <td>45280f46e8</td>\n",
       "      <td>Bila shaka, azimio lako lilikuwa la thamani, S...</td>\n",
       "      <td>Waspania walipanga kukutupa majini wakati wa u...</td>\n",
       "      <td>sw</td>\n",
       "      <td>Swahili</td>\n",
       "      <td>1</td>\n",
       "    </tr>\n",
       "    <tr>\n",
       "      <th>2397</th>\n",
       "      <td>0a9e0b89ab</td>\n",
       "      <td>Eh! Monsieur Lawrence, called Poirot.</td>\n",
       "      <td>Poirot did not call upon Monsieur Lawrence.</td>\n",
       "      <td>en</td>\n",
       "      <td>English</td>\n",
       "      <td>2</td>\n",
       "    </tr>\n",
       "    <tr>\n",
       "      <th>3959</th>\n",
       "      <td>f093f8733c</td>\n",
       "      <td>Release 2.0: A Design for Living in the Digita...</td>\n",
       "      <td>Esther Dyson is the Author of Release 2.o: A D...</td>\n",
       "      <td>en</td>\n",
       "      <td>English</td>\n",
       "      <td>0</td>\n",
       "    </tr>\n",
       "    <tr>\n",
       "      <th>5808</th>\n",
       "      <td>49ba04c9a8</td>\n",
       "      <td>aCondition Assessment Survey (CAS).</td>\n",
       "      <td>CAS is a Condition Assessment Survey</td>\n",
       "      <td>en</td>\n",
       "      <td>English</td>\n",
       "      <td>0</td>\n",
       "    </tr>\n",
       "  </tbody>\n",
       "</table>\n",
       "</div>"
      ],
      "text/plain": [
       "              id                                            premise  \\\n",
       "6543  af77bed638  The experts point out that it is not age alone...   \n",
       "9150  285d11dd62  Wear a nicely ventilated hat and keep to the s...   \n",
       "8245  00b1f84085  Each working group met several times to develo...   \n",
       "3753  e19376a801                  farmworkers conducted by the U.S.   \n",
       "713   b0afb96e00             كلمتا blood و flood ليس بنفس صوت food.   \n",
       "2799  e33f803e46  LSC set a deadline of October 1, 1998, for sub...   \n",
       "2335  45280f46e8  Bila shaka, azimio lako lilikuwa la thamani, S...   \n",
       "2397  0a9e0b89ab             Eh! Monsieur Lawrence, called Poirot.    \n",
       "3959  f093f8733c  Release 2.0: A Design for Living in the Digita...   \n",
       "5808  49ba04c9a8                aCondition Assessment Survey (CAS).   \n",
       "\n",
       "                                             hypothesis lang_abv language  \\\n",
       "6543  The Qin Dynasty has the most expensive antique...       en  English   \n",
       "9150  A sun umbrella might help those who really nee...       en  English   \n",
       "8245  There were no meetings to discuss changes to t...       en  English   \n",
       "3753  A labor survey also considered the views of ag...       en  English   \n",
       "713                 الغذاء هو بالضبط مثل الدم والفيضان.       ar   Arabic   \n",
       "2799  LSC set a deadline to submit state reports to ...       en  English   \n",
       "2335  Waspania walipanga kukutupa majini wakati wa u...       sw  Swahili   \n",
       "2397        Poirot did not call upon Monsieur Lawrence.       en  English   \n",
       "3959  Esther Dyson is the Author of Release 2.o: A D...       en  English   \n",
       "5808               CAS is a Condition Assessment Survey       en  English   \n",
       "\n",
       "      label  \n",
       "6543      1  \n",
       "9150      1  \n",
       "8245      2  \n",
       "3753      1  \n",
       "713       2  \n",
       "2799      1  \n",
       "2335      1  \n",
       "2397      2  \n",
       "3959      0  \n",
       "5808      0  "
      ]
     },
     "execution_count": 5,
     "metadata": {},
     "output_type": "execute_result"
    }
   ],
   "source": [
    "df = pd.read_csv(ROOT_PATH / \"data/train.csv\")\n",
    "\n",
    "# Train-test spliting\n",
    "challenge_dataset = Dataset.from_pandas(df).train_test_split(test_size=0.3, seed=0)\n",
    "challenge_train = challenge_dataset['train']\n",
    "challenge_val = challenge_dataset['test']\n",
    "\n",
    "# Inspect the train dataset with 10 random row\n",
    "df.sample(10)"
   ]
  },
  {
   "cell_type": "markdown",
   "metadata": {
    "id": "w4XYZOceWvJ4"
   },
   "source": [
    "Display label distribution: the dataset is evenly distributed across all labels."
   ]
  },
  {
   "cell_type": "code",
   "execution_count": 6,
   "metadata": {
    "id": "iI0wu0VxWt7m"
   },
   "outputs": [
    {
     "data": {
      "image/png": "[encoded data removed]",
      "text/plain": [
       "<Figure size 1000x600 with 1 Axes>"
      ]
     },
     "metadata": {},
     "output_type": "display_data"
    }
   ],
   "source": [
    "df.label.value_counts().plot(kind=\"bar\", figsize=(10, 6), title=\"Pair-wise sentences distribution\")\n",
    "plt.show()"
   ]
  },
  {
   "cell_type": "markdown",
   "metadata": {
    "id": "m_JGmdbPXSxg"
   },
   "source": [
    "However, the dataset predominantly consists of English sentences."
   ]
  },
  {
   "cell_type": "code",
   "execution_count": 7,
   "metadata": {
    "id": "xJcuSwR9VIZm"
   },
   "outputs": [
    {
     "data": {
      "image/png": "[encoded data removed]",
      "text/plain": [
       "<Figure size 1000x1000 with 1 Axes>"
      ]
     },
     "metadata": {},
     "output_type": "display_data"
    }
   ],
   "source": [
    "df.language.value_counts().plot(\n",
    "    kind=\"pie\", \n",
    "    figsize=(10, 10), \n",
    "    autopct='%1.1f%%', \n",
    "    title=\"Languages distribution\"\n",
    ")\n",
    "plt.show()"
   ]
  },
  {
   "cell_type": "markdown",
   "metadata": {},
   "source": [
    "#### MNLI dataset\n",
    "\n",
    "We use `matched` version of test and train set because the dataset from the Challenge seems to match the same genre."
   ]
  },
  {
   "cell_type": "code",
   "execution_count": 8,
   "metadata": {},
   "outputs": [
    {
     "data": {
      "text/html": [
       "<div>\n",
       "<style scoped>\n",
       "    .dataframe tbody tr th:only-of-type {\n",
       "        vertical-align: middle;\n",
       "    }\n",
       "\n",
       "    .dataframe tbody tr th {\n",
       "        vertical-align: top;\n",
       "    }\n",
       "\n",
       "    .dataframe thead th {\n",
       "        text-align: right;\n",
       "    }\n",
       "</style>\n",
       "<table border=\"1\" class=\"dataframe\">\n",
       "  <thead>\n",
       "    <tr style=\"text-align: right;\">\n",
       "      <th></th>\n",
       "      <th>premise</th>\n",
       "      <th>hypothesis</th>\n",
       "      <th>label</th>\n",
       "      <th>idx</th>\n",
       "    </tr>\n",
       "  </thead>\n",
       "  <tbody>\n",
       "    <tr>\n",
       "      <th>0</th>\n",
       "      <td>Conceptually cream skimming has two basic dime...</td>\n",
       "      <td>Product and geography are what make cream skim...</td>\n",
       "      <td>1</td>\n",
       "      <td>0</td>\n",
       "    </tr>\n",
       "    <tr>\n",
       "      <th>1</th>\n",
       "      <td>you know during the season and i guess at at y...</td>\n",
       "      <td>You lose the things to the following level if ...</td>\n",
       "      <td>0</td>\n",
       "      <td>1</td>\n",
       "    </tr>\n",
       "    <tr>\n",
       "      <th>2</th>\n",
       "      <td>One of our number will carry out your instruct...</td>\n",
       "      <td>A member of my team will execute your orders w...</td>\n",
       "      <td>0</td>\n",
       "      <td>2</td>\n",
       "    </tr>\n",
       "    <tr>\n",
       "      <th>3</th>\n",
       "      <td>How do you know? All this is their information...</td>\n",
       "      <td>This information belongs to them.</td>\n",
       "      <td>0</td>\n",
       "      <td>3</td>\n",
       "    </tr>\n",
       "    <tr>\n",
       "      <th>4</th>\n",
       "      <td>yeah i tell you what though if you go price so...</td>\n",
       "      <td>The tennis shoes have a range of prices.</td>\n",
       "      <td>1</td>\n",
       "      <td>4</td>\n",
       "    </tr>\n",
       "  </tbody>\n",
       "</table>\n",
       "</div>"
      ],
      "text/plain": [
       "                                             premise  \\\n",
       "0  Conceptually cream skimming has two basic dime...   \n",
       "1  you know during the season and i guess at at y...   \n",
       "2  One of our number will carry out your instruct...   \n",
       "3  How do you know? All this is their information...   \n",
       "4  yeah i tell you what though if you go price so...   \n",
       "\n",
       "                                          hypothesis  label  idx  \n",
       "0  Product and geography are what make cream skim...      1    0  \n",
       "1  You lose the things to the following level if ...      0    1  \n",
       "2  A member of my team will execute your orders w...      0    2  \n",
       "3                  This information belongs to them.      0    3  \n",
       "4           The tennis shoes have a range of prices.      1    4  "
      ]
     },
     "execution_count": 8,
     "metadata": {},
     "output_type": "execute_result"
    }
   ],
   "source": [
    "mnli_train = load_dataset(\"nyu-mll/glue\", \"mnli\", split=\"train\")\n",
    "mnli_val = load_dataset(\"nyu-mll/glue\", \"mnli\", split=\"validation_matched\")\n",
    "\n",
    "# Inspect the dataset\n",
    "mnli_train_df = mnli_train.to_pandas()\n",
    "mnli_train_df.head()"
   ]
  },
  {
   "cell_type": "markdown",
   "metadata": {},
   "source": [
    "#### XNLI dataset\n",
    "\n",
    "[XNLI: Evaluating Cross-lingual Sentence Representations](https://aclanthology.org/D18-1269/) (Conneau et al., EMNLP 2018)"
   ]
  },
  {
   "cell_type": "code",
   "execution_count": 9,
   "metadata": {},
   "outputs": [],
   "source": [
    "XNLI_TRAIN_SIZE = 500_000  # Limit the number of examples as the dataset is very large\n",
    "\n",
    "def load_xnli_datasets(languages: list, split=\"train\"):\n",
    "    datasets = []\n",
    "    for lang in languages:\n",
    "        xnli_lang = load_dataset(\"facebook/xnli\", lang, split=split)\n",
    "        xnli_lang = xnli_lang.add_column(\"lang_abv\", [lang] * len(xnli_lang))\n",
    "        datasets.append(xnli_lang)\n",
    "\n",
    "    return concatenate_datasets(datasets).shuffle()\n",
    "\n",
    "# We remove the English 'en' dataset as it is actually the MNLI set\n",
    "languages = ['ar','bg','de','el','es','fr','hi','ru','sw','th','tr','ur','vi','zh']\n",
    "xnli_train = load_xnli_datasets(languages, split=\"train\").select(range(XNLI_TRAIN_SIZE))\n",
    "xnli_val = load_xnli_datasets(languages, split=\"validation\")"
   ]
  },
  {
   "cell_type": "markdown",
   "metadata": {},
   "source": [
    "Now, we inspect the XNLI dataset."
   ]
  },
  {
   "cell_type": "code",
   "execution_count": 10,
   "metadata": {},
   "outputs": [
    {
     "data": {
      "text/html": [
       "<div>\n",
       "<style scoped>\n",
       "    .dataframe tbody tr th:only-of-type {\n",
       "        vertical-align: middle;\n",
       "    }\n",
       "\n",
       "    .dataframe tbody tr th {\n",
       "        vertical-align: top;\n",
       "    }\n",
       "\n",
       "    .dataframe thead th {\n",
       "        text-align: right;\n",
       "    }\n",
       "</style>\n",
       "<table border=\"1\" class=\"dataframe\">\n",
       "  <thead>\n",
       "    <tr style=\"text-align: right;\">\n",
       "      <th></th>\n",
       "      <th>premise</th>\n",
       "      <th>hypothesis</th>\n",
       "      <th>label</th>\n",
       "      <th>lang_abv</th>\n",
       "    </tr>\n",
       "  </thead>\n",
       "  <tbody>\n",
       "    <tr>\n",
       "      <th>258951</th>\n",
       "      <td>Хорошие манеры можно культивировать .</td>\n",
       "      <td>Ты должен научиться хорошим манерам откуда-то .</td>\n",
       "      <td>1</td>\n",
       "      <td>ru</td>\n",
       "    </tr>\n",
       "    <tr>\n",
       "      <th>35938</th>\n",
       "      <td>Ожидается , что это будет самым спорным термин...</td>\n",
       "      <td>Дела , связанные с бесплатной речью , были спо...</td>\n",
       "      <td>1</td>\n",
       "      <td>ru</td>\n",
       "    </tr>\n",
       "    <tr>\n",
       "      <th>79581</th>\n",
       "      <td>докато континентална гърция достига зенита си ...</td>\n",
       "      <td>gertis беше най-силният от на градове .</td>\n",
       "      <td>0</td>\n",
       "      <td>bg</td>\n",
       "    </tr>\n",
       "    <tr>\n",
       "      <th>266566</th>\n",
       "      <td>Yup bạn có chó là bạn bè của bạn gõ cửa một có...</td>\n",
       "      <td>Chó là bạn bè của chúng tôi .</td>\n",
       "      <td>0</td>\n",
       "      <td>vi</td>\n",
       "    </tr>\n",
       "    <tr>\n",
       "      <th>319951</th>\n",
       "      <td>Bueno , a él no le importa mientras esté alime...</td>\n",
       "      <td>Su familia está formada por tres hijas y un hi...</td>\n",
       "      <td>1</td>\n",
       "      <td>es</td>\n",
       "    </tr>\n",
       "    <tr>\n",
       "      <th>20854</th>\n",
       "      <td>2 millions pour les candidats et les partis po...</td>\n",
       "      <td>2 millions ont été reversés aux candidats de l...</td>\n",
       "      <td>1</td>\n",
       "      <td>fr</td>\n",
       "    </tr>\n",
       "    <tr>\n",
       "      <th>178261</th>\n",
       "      <td>Sehemu kuu ya karatasi hii ni kwamba generaliz...</td>\n",
       "      <td>Generalizability ni kwenye karatasi kwa urefu .</td>\n",
       "      <td>1</td>\n",
       "      <td>sw</td>\n",
       "    </tr>\n",
       "    <tr>\n",
       "      <th>491502</th>\n",
       "      <td>566-ويقدر عبء الاحتياجات ( متطلبات الاختبار وح...</td>\n",
       "      <td>وهذا الشرط , وان كان ضروريا , يستغرق الكثير من...</td>\n",
       "      <td>1</td>\n",
       "      <td>ar</td>\n",
       "    </tr>\n",
       "    <tr>\n",
       "      <th>347642</th>\n",
       "      <td>تعمیراتی نظام</td>\n",
       "      <td>تعمیر کی جگہ</td>\n",
       "      <td>0</td>\n",
       "      <td>ur</td>\n",
       "    </tr>\n",
       "    <tr>\n",
       "      <th>215965</th>\n",
       "      <td>将 抽样调查 的 逻辑 应用于 定性 案例 的 案例 分组 方法 .</td>\n",
       "      <td>将 想象力 应用于 案件 集群 方法 .</td>\n",
       "      <td>2</td>\n",
       "      <td>zh</td>\n",
       "    </tr>\n",
       "  </tbody>\n",
       "</table>\n",
       "</div>"
      ],
      "text/plain": [
       "                                                  premise  \\\n",
       "258951              Хорошие манеры можно культивировать .   \n",
       "35938   Ожидается , что это будет самым спорным термин...   \n",
       "79581   докато континентална гърция достига зенита си ...   \n",
       "266566  Yup bạn có chó là bạn bè của bạn gõ cửa một có...   \n",
       "319951  Bueno , a él no le importa mientras esté alime...   \n",
       "20854   2 millions pour les candidats et les partis po...   \n",
       "178261  Sehemu kuu ya karatasi hii ni kwamba generaliz...   \n",
       "491502  566-ويقدر عبء الاحتياجات ( متطلبات الاختبار وح...   \n",
       "347642                                      تعمیراتی نظام   \n",
       "215965                 将 抽样调查 的 逻辑 应用于 定性 案例 的 案例 分组 方法 .   \n",
       "\n",
       "                                               hypothesis  label lang_abv  \n",
       "258951    Ты должен научиться хорошим манерам откуда-то .      1       ru  \n",
       "35938   Дела , связанные с бесплатной речью , были спо...      1       ru  \n",
       "79581             gertis беше най-силният от на градове .      0       bg  \n",
       "266566                      Chó là bạn bè của chúng tôi .      0       vi  \n",
       "319951  Su familia está formada por tres hijas y un hi...      1       es  \n",
       "20854   2 millions ont été reversés aux candidats de l...      1       fr  \n",
       "178261    Generalizability ni kwenye karatasi kwa urefu .      1       sw  \n",
       "491502  وهذا الشرط , وان كان ضروريا , يستغرق الكثير من...      1       ar  \n",
       "347642                                       تعمیر کی جگہ      0       ur  \n",
       "215965                               将 想象力 应用于 案件 集群 方法 .      2       zh  "
      ]
     },
     "execution_count": 10,
     "metadata": {},
     "output_type": "execute_result"
    }
   ],
   "source": [
    "xnli_train_df = xnli_train.to_pandas()\n",
    "xnli_train_df.sample(10)"
   ]
  },
  {
   "cell_type": "markdown",
   "metadata": {
    "id": "-4Nby-Mvj7w2"
   },
   "source": [
    "### Data Augmentation\n",
    "\n",
    "Use `NLPAug` library to augment the data by using synonyms, typo insertion and word swapping."
   ]
  },
  {
   "cell_type": "code",
   "execution_count": 11,
   "metadata": {},
   "outputs": [
    {
     "name": "stdout",
     "output_type": "stream",
     "text": [
      "Note: you may need to restart the kernel to use updated packages.\n"
     ]
    }
   ],
   "source": [
    "%pip install -qU nltk nlpaug"
   ]
  },
  {
   "cell_type": "code",
   "execution_count": 12,
   "metadata": {
    "id": "_WPS4lljj7w2"
   },
   "outputs": [],
   "source": [
    "from nlpaug.augmenter.word import RandomWordAug, SynonymAug\n",
    "from nlpaug.augmenter.char import KeyboardAug\n",
    "\n",
    "augmenters = [\n",
    "    (SynonymAug(aug_src='wordnet', aug_p=0.1), 0.8),   # Synonym replacement\n",
    "    (RandomWordAug(action='swap', aug_p=0.1), 0.1),    # Word swapping\n",
    "    (KeyboardAug(aug_char_p=0.1, aug_word_p=0.1), 0.3) # Typo simulation\n",
    "]\n",
    "\n",
    "def augment_text(text, augmenter):\n",
    "    try:\n",
    "        result = augmenter.augment(text)\n",
    "        # Handle list outputs from some augmenters\n",
    "        return result[0] if isinstance(result, list) else str(result)\n",
    "    except Exception as e:\n",
    "        return str(text)  # Ensure string return\n",
    "\n",
    "def create_augmented_df(df, augmenters, sample_frac=0.5):\n",
    "    sample = df.sample(frac=sample_frac)\n",
    "    augmented = []\n",
    "\n",
    "    for _, row in tqdm(sample.iterrows(), total=len(sample)):\n",
    "        for aug, weight in augmenters:\n",
    "            if np.random.random() > weight:\n",
    "                continue  # Skip this augmentation\n",
    "\n",
    "            new_row = row.copy()\n",
    "            premise = new_row['premise'] = augment_text(row['premise'], aug)\n",
    "            hypothesis = new_row['hypothesis'] = augment_text(row['hypothesis'], aug)\n",
    "            if premise != row[\"premise\"] or hypothesis != row[\"hypothesis\"]:\n",
    "                augmented.append(new_row)\n",
    "\n",
    "    return pd.DataFrame(augmented).convert_dtypes()\n",
    "\n",
    "def augment_dataset(ds, augmenters):\n",
    "    df_aug = create_augmented_df(df, augmenters)\n",
    "    # Concatenate augmented dataset with original\n",
    "    ds_aug = Dataset.from_pandas(df_aug)\n",
    "    return concatenate_datasets([ds, ds_aug]).shuffle()\n",
    "\n",
    "# challenge_train = augment_dataset(challenge_train, augmenters)"
   ]
  },
  {
   "cell_type": "markdown",
   "metadata": {},
   "source": [
    "### Tokenizer\n",
    "\n",
    "Training and evaluation use the `Trainer` API from the `transformers`. [How to Fine-Tune BERT for Text Classification](https://arxiv.org/pdf/1905.05583)"
   ]
  },
  {
   "cell_type": "code",
   "execution_count": 13,
   "metadata": {},
   "outputs": [],
   "source": [
    "import evaluate\n",
    "\n",
    "accuracy = evaluate.load(\"accuracy\")\n",
    "tokenizer = AutoTokenizer.from_pretrained(PRETRAINED_MODEL_NAME)\n",
    "\n",
    "def tokenize(row, max_length=510):\n",
    "    \"\"\"Pre-processing class to handle text tokenization.\"\"\"\n",
    "    return tokenizer(\n",
    "        row['premise'], \n",
    "        row['hypothesis'],\n",
    "        padding='max_length', \n",
    "        truncation=True, \n",
    "        max_length=max_length, # Default: 512 - 2 tokens for CLS and SEP\n",
    "        return_tensors=\"pt\"    # Return PyTorch tensors\n",
    "    )\n",
    "    \n",
    "def compute_metrics(eval_pred):\n",
    "    \"\"\"Compute accuracy on the validation set.\"\"\"\n",
    "    y_pred = np.argmax(eval_pred.predictions, axis=1)\n",
    "    return accuracy.compute(predictions=y_pred, references=eval_pred.label_ids)"
   ]
  },
  {
   "cell_type": "markdown",
   "metadata": {},
   "source": [
    "### Model\n",
    "We use `XLM-RoBERTa` model from `transformers` library and add a classification head on top of it."
   ]
  },
  {
   "cell_type": "code",
   "execution_count": 14,
   "metadata": {},
   "outputs": [],
   "source": [
    "import torch.nn as nn\n",
    "from transformers.models.xlm_roberta.modeling_xlm_roberta import (\n",
    "    XLMRobertaModel, XLMRobertaForSequenceClassification\n",
    ")\n",
    "\n",
    "class XLMRobertaClassificationHeadWithMeanPooling(nn.Module):\n",
    "    \"\"\"Custom head for sentence-level classification tasks.\"\"\"\n",
    "    def __init__(self, config):\n",
    "        super().__init__()\n",
    "        self.avg_pool = nn.AdaptiveAvgPool1d(1)\n",
    "        self.dense = nn.Linear(config.hidden_size, config.hidden_size)\n",
    "        if config.classifier_dropout is not None:\n",
    "            self.dropout = nn.Dropout(config.classifier_dropout)\n",
    "        else:\n",
    "            self.dropout = nn.Dropout(config.hidden_dropout_prob)\n",
    "        self.out_proj = nn.Linear(config.hidden_size, config.num_labels)\n",
    "\n",
    "    def forward(self, features, **kwargs):\n",
    "        # Average pooling instead of taking the <s> token (equiv. to [CLS])\n",
    "        x = self.avg_pool(features.permute(0, 2, 1)).squeeze(-1) \n",
    "        x = self.dropout(x)\n",
    "        x = self.dense(x)\n",
    "        x = nn.functional.gelu(x)   # Default: torch.tanh(x)\n",
    "        x = self.dropout(x)\n",
    "        x = self.out_proj(x)\n",
    "        return x\n",
    "\n",
    "class XLMRobertaWithMeanPooling(XLMRobertaForSequenceClassification):\n",
    "    def __init__(self, config):\n",
    "        super().__init__(config)\n",
    "        self.num_labels = config.num_labels\n",
    "        self.config = config\n",
    "        self.roberta = XLMRobertaModel(config, add_pooling_layer=False)\n",
    "        self.classifier = XLMRobertaClassificationHeadWithMeanPooling(config)\n",
    "        # Initialize weights and apply final processing\n",
    "        self.post_init()"
   ]
  },
  {
   "cell_type": "markdown",
   "metadata": {
    "id": "ZBykOxZDj7w3"
   },
   "source": [
    "### Finetuning (MNLI + XNLI)\n",
    "\n",
    "Finetune the model on the MNLI and XNLI dataset.\n",
    "\n",
    "**Architecture:**  \n",
    "- `xml-roberta-large` pre-trained model from Hugging Face"
   ]
  },
  {
   "cell_type": "code",
   "execution_count": 15,
   "metadata": {},
   "outputs": [
    {
     "name": "stderr",
     "output_type": "stream",
     "text": [
      "Some weights of XLMRobertaWithMeanPooling were not initialized from the model checkpoint at FacebookAI/xlm-roberta-large and are newly initialized: ['classifier.dense.bias', 'classifier.dense.weight', 'classifier.out_proj.bias', 'classifier.out_proj.weight']\n",
      "You should probably TRAIN this model on a down-stream task to be able to use it for predictions and inference.\n"
     ]
    },
    {
     "data": {
      "text/plain": [
       "XLMRobertaWithMeanPooling(\n",
       "  (roberta): XLMRobertaModel(\n",
       "    (embeddings): XLMRobertaEmbeddings(\n",
       "      (word_embeddings): Embedding(250002, 1024, padding_idx=1)\n",
       "      (position_embeddings): Embedding(514, 1024, padding_idx=1)\n",
       "      (token_type_embeddings): Embedding(1, 1024)\n",
       "      (LayerNorm): LayerNorm((1024,), eps=1e-05, elementwise_affine=True)\n",
       "      (dropout): Dropout(p=0.1, inplace=False)\n",
       "    )\n",
       "    (encoder): XLMRobertaEncoder(\n",
       "      (layer): ModuleList(\n",
       "        (0-23): 24 x XLMRobertaLayer(\n",
       "          (attention): XLMRobertaAttention(\n",
       "            (self): XLMRobertaSdpaSelfAttention(\n",
       "              (query): Linear(in_features=1024, out_features=1024, bias=True)\n",
       "              (key): Linear(in_features=1024, out_features=1024, bias=True)\n",
       "              (value): Linear(in_features=1024, out_features=1024, bias=True)\n",
       "              (dropout): Dropout(p=0.1, inplace=False)\n",
       "            )\n",
       "            (output): XLMRobertaSelfOutput(\n",
       "              (dense): Linear(in_features=1024, out_features=1024, bias=True)\n",
       "              (LayerNorm): LayerNorm((1024,), eps=1e-05, elementwise_affine=True)\n",
       "              (dropout): Dropout(p=0.1, inplace=False)\n",
       "            )\n",
       "          )\n",
       "          (intermediate): XLMRobertaIntermediate(\n",
       "            (dense): Linear(in_features=1024, out_features=4096, bias=True)\n",
       "            (intermediate_act_fn): GELUActivation()\n",
       "          )\n",
       "          (output): XLMRobertaOutput(\n",
       "            (dense): Linear(in_features=4096, out_features=1024, bias=True)\n",
       "            (LayerNorm): LayerNorm((1024,), eps=1e-05, elementwise_affine=True)\n",
       "            (dropout): Dropout(p=0.1, inplace=False)\n",
       "          )\n",
       "        )\n",
       "      )\n",
       "    )\n",
       "  )\n",
       "  (classifier): XLMRobertaClassificationHeadWithMeanPooling(\n",
       "    (avg_pool): AdaptiveAvgPool1d(output_size=1)\n",
       "    (dense): Linear(in_features=1024, out_features=1024, bias=True)\n",
       "    (dropout): Dropout(p=0.1, inplace=False)\n",
       "    (out_proj): Linear(in_features=1024, out_features=3, bias=True)\n",
       "  )\n",
       ")"
      ]
     },
     "execution_count": 15,
     "metadata": {},
     "output_type": "execute_result"
    }
   ],
   "source": [
    "model = XLMRobertaWithMeanPooling.from_pretrained(PRETRAINED_MODEL_NAME, num_labels=3)\n",
    "model.to(device)  # Move model to GPU if available"
   ]
  },
  {
   "cell_type": "markdown",
   "metadata": {},
   "source": [
    "#### Hyperparameters"
   ]
  },
  {
   "cell_type": "code",
   "execution_count": null,
   "metadata": {},
   "outputs": [
    {
     "data": {
      "application/vnd.jupyter.widget-view+json": {
       "model_id": "0aa2afce30e641fca3a41a1cfa283e69",
       "version_major": 2,
       "version_minor": 0
      },
      "text/plain": [
       "Map:   0%|          | 0/392702 [00:00<?, ? examples/s]"
      ]
     },
     "metadata": {},
     "output_type": "display_data"
    }
   ],
   "source": [
    "model_dir = MODEL_DIR / f\"{MODEL_BASENAME}-mnli-xnli\"\n",
    "\n",
    "training_args = TrainingArguments(\n",
    "    output_dir=model_dir,\n",
    "    eval_strategy='epoch',\n",
    "    save_strategy='epoch',\n",
    "    learning_rate=2e-5,\n",
    "    per_device_train_batch_size=8,\n",
    "    per_device_eval_batch_size=16,\n",
    "    num_train_epochs=3,\n",
    "    weight_decay=0.01,\n",
    "    warmup_ratio=0.1,\n",
    "    load_best_model_at_end=True,\n",
    "    metric_for_best_model='accuracy',\n",
    "    report_to='none'  # Disabling wandb callbacks\n",
    ")\n",
    "# Tokenize data\n",
    "mnli_train_tokenized = mnli_train.map(tokenize, batched=True)\n",
    "xnli_train_tokenized = xnli_train.map(tokenize, batched=True)\n",
    "challenge_val_tokenized = challenge_val.map(tokenize, batched=True)\n",
    "\n",
    "# Concatenate the MNLI and XNLI datasets\n",
    "train_tokenized = concatenate_datasets([mnli_train_tokenized, xnli_train_tokenized])\n",
    "\n",
    "trainer = Trainer(\n",
    "    model=model,\n",
    "    args=training_args,\n",
    "    train_dataset=train_tokenized,\n",
    "    eval_dataset=challenge_val_tokenized,\n",
    "    processing_class=tokenizer,\n",
    "    compute_metrics=compute_metrics\n",
    ")"
   ]
  },
  {
   "cell_type": "markdown",
   "metadata": {},
   "source": [
    "#### Training"
   ]
  },
  {
   "cell_type": "code",
   "execution_count": null,
   "metadata": {},
   "outputs": [],
   "source": [
    "trainer.train()\n",
    "torch.cuda.empty_cache()  # Free some unused memory\n",
    "# Save the best model and the tokenizer to disk.\n",
    "trainer.save_model(model_dir)\n",
    "tokenizer.save_pretrained(model_dir)"
   ]
  },
  {
   "cell_type": "markdown",
   "metadata": {},
   "source": [
    "Upload the model to Hugging Face Hub"
   ]
  },
  {
   "cell_type": "code",
   "execution_count": null,
   "metadata": {},
   "outputs": [],
   "source": [
    "%pip install -qU huggingface-hub\n",
    "!huggingface-cli login --token \"$HF_TOKEN\""
   ]
  },
  {
   "cell_type": "code",
   "execution_count": null,
   "metadata": {},
   "outputs": [],
   "source": [
    "REPOSITORY_NAME = f\"ajayat/{MODEL_BASENAME}-mnli-xnli\"\n",
    "\n",
    "trainer.model.push_to_hub(REPOSITORY_NAME, private=True)\n",
    "tokenizer.push_to_hub(REPOSITORY_NAME)"
   ]
  },
  {
   "cell_type": "markdown",
   "metadata": {},
   "source": [
    "### Finetuning (Challenge)"
   ]
  },
  {
   "cell_type": "markdown",
   "metadata": {},
   "source": [
    "#### Load the model\n"
   ]
  },
  {
   "cell_type": "code",
   "execution_count": null,
   "metadata": {},
   "outputs": [],
   "source": [
    "PRETRAINED_MODEL_NAME = \"joeddav/xlm-roberta-large-xnli\"\n",
    "MODEL_BASENAME = PRETRAINED_MODEL_NAME.rpartition('/')[2]\n",
    "\n",
    "model = XLMRobertaWithMeanPooling.from_pretrained(\n",
    "    PRETRAINED_MODEL_NAME, \n",
    "    hidden_dropout_prob=0.3,           # default 0.1\n",
    "    attention_probs_dropout_prob=0.3,  # default 0.1\n",
    "    num_labels=3\n",
    ").to(device)  # Move model to GPU if available"
   ]
  },
  {
   "cell_type": "markdown",
   "metadata": {},
   "source": [
    "#### Hyperparameters"
   ]
  },
  {
   "cell_type": "code",
   "execution_count": null,
   "metadata": {},
   "outputs": [],
   "source": [
    "model_output_dir = MODEL_DIR / f\"{MODEL_BASENAME}-finetuned\"\n",
    "\n",
    "training_args = TrainingArguments(\n",
    "    output_dir=model_output_dir,\n",
    "    eval_strategy='epoch',\n",
    "    save_strategy='epoch',\n",
    "    learning_rate=2e-5,\n",
    "    per_device_train_batch_size=8,\n",
    "    per_device_eval_batch_size=16,\n",
    "    num_train_epochs=5,\n",
    "    weight_decay=0.01,\n",
    "    warmup_ratio=0.1,\n",
    "    load_best_model_at_end=True,\n",
    "    metric_for_best_model='accuracy',\n",
    "    report_to='none'  # Disabling wandb callbacks\n",
    ")\n",
    "# Tokenize data\n",
    "challenge_train_tokenized = challenge_train.map(tokenize, batched=True)\n",
    "challenge_val_tokenized = challenge_val.map(tokenize, batched=True)\n",
    "\n",
    "trainer = Trainer(\n",
    "    model=model,\n",
    "    args=training_args,\n",
    "    train_dataset=challenge_train_tokenized,\n",
    "    eval_dataset=challenge_val_tokenized,\n",
    "    processing_class=tokenizer,\n",
    "    compute_metrics=compute_metrics\n",
    ")"
   ]
  },
  {
   "cell_type": "markdown",
   "metadata": {},
   "source": [
    "#### Training"
   ]
  },
  {
   "cell_type": "code",
   "execution_count": null,
   "metadata": {},
   "outputs": [],
   "source": [
    "trainer.train()\n",
    "# Save the best model and the tokenizer to disk.\n",
    "trainer.save_model(model_output_dir)\n",
    "tokenizer.save_pretrained(model_output_dir)"
   ]
  },
  {
   "cell_type": "markdown",
   "metadata": {},
   "source": [
    "Upload the model to HuggingFace Hub. (Optional)"
   ]
  },
  {
   "cell_type": "code",
   "execution_count": null,
   "metadata": {},
   "outputs": [],
   "source": [
    "REPOSITORY_NAME = f\"ajayat/{MODEL_BASENAME}-finetuned\"\n",
    "\n",
    "trainer.model.push_to_hub(REPOSITORY_NAME, private=True)\n",
    "tokenizer.push_to_hub(REPOSITORY_NAME)"
   ]
  },
  {
   "cell_type": "markdown",
   "metadata": {},
   "source": [
    "### Inference Optimization"
   ]
  },
  {
   "cell_type": "code",
   "execution_count": 16,
   "metadata": {},
   "outputs": [
    {
     "name": "stdout",
     "output_type": "stream",
     "text": [
      "Note: you may need to restart the kernel to use updated packages.\n"
     ]
    }
   ],
   "source": [
    "%pip install -qU onnxruntime-gpu onnxruntime-tools onnxscript \"transformers[onnx]\" \"optimum[onnxruntime]\""
   ]
  },
  {
   "cell_type": "markdown",
   "metadata": {},
   "source": [
    "#### Quantization\n",
    "\n",
    "We define a function to export a model to ONNX format and apply some optimizations, such as quantization. We observed a speedup of x5 on CPU."
   ]
  },
  {
   "cell_type": "code",
   "execution_count": 17,
   "metadata": {},
   "outputs": [
    {
     "name": "stderr",
     "output_type": "stream",
     "text": [
      "WARNING:root:Please consider to run pre-processing before quantization. Refer to example: https://github.com/microsoft/onnxruntime-inference-examples/blob/main/quantization/image_classification/cpu/ReadMe.md \n"
     ]
    },
    {
     "name": "stdout",
     "output_type": "stream",
     "text": [
      "Model exported and quantized to /home/adrien/Natural Language Inference/models/xlm-roberta-large-mnli/model.onnx!\n"
     ]
    }
   ],
   "source": [
    "import onnxruntime as ort\n",
    "from onnxruntime.quantization import quantize_dynamic\n",
    "\n",
    "def export_to_onnx(model, onnx_model_file: Path):\n",
    "    \"\"\"Exports a pre-trained model to the ONNX format and quantizes it.\"\"\"\n",
    "    # Minimal dummy input for tracing\n",
    "    dummy_inputs = tokenize(\n",
    "        dict(premise=\"This is a premise.\", hypothesis=\"This is a hypothesis.\"),\n",
    "    )\n",
    "    torch.onnx.export(\n",
    "        model.cpu().eval(),  # Ensure inference mode\n",
    "        (dummy_inputs[\"input_ids\"], dummy_inputs[\"attention_mask\"]),\n",
    "        onnx_model_file.as_posix(),\n",
    "        input_names=['input_ids', 'attention_mask'],\n",
    "        output_names=['logits'],\n",
    "        dynamic_axes={\n",
    "            \"input_ids\": {0: \"batch_size\", 1: \"seq_len\"},\n",
    "            \"attention_mask\": {0: \"batch_size\", 1: \"seq_len\"},\n",
    "            \"logits\": {0: \"batch_size\"},\n",
    "        },\n",
    "        opset_version=17,  # ONNX version\n",
    "    )\n",
    "    quantize_dynamic(onnx_model_file, onnx_model_file)\n",
    "    print(f\"Model exported and quantized to {onnx_model_file}!\")\n",
    "\n",
    "model_output_dir = MODEL_DIR / \"xlm-roberta-large-mnli-xnli\"\n",
    "model = XLMRobertaForSequenceClassification.from_pretrained(model_output_dir, num_labels=3)\n",
    "# Export and optimize the model\n",
    "export_to_onnx(model, model_output_dir / \"model.onnx\")"
   ]
  },
  {
   "cell_type": "markdown",
   "metadata": {},
   "source": [
    "#### Inference with ONNX Runtime"
   ]
  },
  {
   "cell_type": "code",
   "execution_count": 19,
   "metadata": {},
   "outputs": [
    {
     "name": "stderr",
     "output_type": "stream",
     "text": [
      "\u001b[0;93m2025-04-13 23:59:37.885939098 [W:onnxruntime:, transformer_memcpy.cc:83 ApplyImpl] 366 Memcpy nodes are added to the graph main_graph for CUDAExecutionProvider. It might have negative impact on performance (including unable to run CUDA graph). Set session_options.log_severity_level=1 to see the detail logs before this message.\u001b[m\n"
     ]
    }
   ],
   "source": [
    "ONNX_MODEL_PATH = model_output_dir / \"model.onnx\"\n",
    "sess_options = ort.SessionOptions()\n",
    "sess_options.intra_op_num_threads = 8\n",
    "sess_options.inter_op_num_threads = 4\n",
    "\n",
    "ort_session = ort.InferenceSession(\n",
    "    ONNX_MODEL_PATH, \n",
    "    providers=['CUDAExecutionProvider', 'CPUExecutionProvider'],\n",
    "    sess_options=sess_options\n",
    ")\n",
    "\n",
    "def infer(premise, hypothesis) -> int:\n",
    "    example = tokenize(dict(premise=premise, hypothesis=hypothesis))\n",
    "    inputs = dict(\n",
    "        input_ids=np.array(list(example[\"input_ids\"])).astype(np.int64),\n",
    "        attention_mask=np.array(list(example[\"attention_mask\"])).astype(np.int64),\n",
    "    )\n",
    "    logits = ort_session.run(None, inputs)[0]  # Inference ONNX\n",
    "    return logits.ravel()\n",
    "\n",
    "def predictions(dataset: pd.DataFrame):\n",
    "    logits = [infer(row['premise'], row['hypothesis']) for row in tqdm(dataset)]\n",
    "    return np.argmax(logits, axis=-1)"
   ]
  },
  {
   "cell_type": "markdown",
   "metadata": {
    "id": "Wl19KSO2K5PP"
   },
   "source": [
    "### Evaluation & Visualization"
   ]
  },
  {
   "cell_type": "markdown",
   "metadata": {},
   "source": [
    "Compute accuracy on the challenge validation set."
   ]
  },
  {
   "cell_type": "code",
   "execution_count": 21,
   "metadata": {
    "id": "OvK1-BMbj7w4"
   },
   "outputs": [
    {
     "data": {
      "application/vnd.jupyter.widget-view+json": {
       "model_id": "b6c0f4c347504646912a9bdc00e2687a",
       "version_major": 2,
       "version_minor": 0
      },
      "text/plain": [
       "Map:   0%|          | 0/3636 [00:00<?, ? examples/s]"
      ]
     },
     "metadata": {},
     "output_type": "display_data"
    },
    {
     "name": "stderr",
     "output_type": "stream",
     "text": [
      "100%|██████████| 3636/3636 [19:12<00:00,  3.16it/s]"
     ]
    },
    {
     "name": "stdout",
     "output_type": "stream",
     "text": [
      "\n",
      "Accuracy: 0.839\n"
     ]
    },
    {
     "name": "stderr",
     "output_type": "stream",
     "text": [
      "\n"
     ]
    }
   ],
   "source": [
    "from sklearn.metrics import accuracy_score, classification_report, ConfusionMatrixDisplay\n",
    "\n",
    "training_args = TrainingArguments(\n",
    "    output_dir=\"/tmp\",\n",
    "    per_device_eval_batch_size=16,\n",
    "    report_to='none'\n",
    ")\n",
    "challenge_val_tokenized = challenge_val.map(tokenize, batched=True)\n",
    "trainer = Trainer(model=model, args=training_args)\n",
    "\n",
    "preds = trainer.predict(challenge_val_tokenized).predictions\n",
    "y_pred = np.argmax(preds, axis=-1)\n",
    "# y_pred = predictions(challenge_val) # Uncomment this line to use ONNX inference\n",
    "y_true = challenge_val['label']\n",
    "accuracy = accuracy_score(y_true, y_pred)\n",
    "\n",
    "print(f\"Accuracy: {accuracy:.3f}\")"
   ]
  },
  {
   "cell_type": "markdown",
   "metadata": {
    "id": "mNVClqebLOXF"
   },
   "source": [
    "Display the confusion matrix using `scikit-learn`."
   ]
  },
  {
   "cell_type": "code",
   "execution_count": 22,
   "metadata": {
    "id": "_d1sOBH1LDcQ"
   },
   "outputs": [
    {
     "data": {
      "text/plain": [
       "<Figure size 800x600 with 0 Axes>"
      ]
     },
     "metadata": {},
     "output_type": "display_data"
    },
    {
     "data": {
      "image/png": "[encoded data removed]",
      "text/plain": [
       "<Figure size 640x480 with 2 Axes>"
      ]
     },
     "metadata": {},
     "output_type": "display_data"
    }
   ],
   "source": [
    "plt.figure(figsize=(8, 6))\n",
    "ConfusionMatrixDisplay.from_predictions(\n",
    "    y_true,\n",
    "    y_pred,\n",
    "    display_labels=['entailment', 'neutral', 'contradiction'],\n",
    "    cmap='Blues',\n",
    "    normalize='true',\n",
    ")\n",
    "plt.title('Confusion Matrix')\n",
    "plt.xlabel('Predicted')\n",
    "plt.ylabel('True')\n",
    "plt.show()"
   ]
  },
  {
   "cell_type": "code",
   "execution_count": 23,
   "metadata": {
    "id": "jF49SrkCLWO7"
   },
   "outputs": [
    {
     "name": "stdout",
     "output_type": "stream",
     "text": [
      "\n",
      "Classification Report:\n",
      "               precision    recall  f1-score   support\n",
      "\n",
      "   Entailment       0.91      0.77      0.83      1263\n",
      "      Neutral       0.74      0.87      0.80      1144\n",
      "Contradiction       0.88      0.88      0.88      1229\n",
      "\n",
      "     accuracy                           0.84      3636\n",
      "    macro avg       0.84      0.84      0.84      3636\n",
      " weighted avg       0.85      0.84      0.84      3636\n",
      "\n"
     ]
    }
   ],
   "source": [
    "print(\"\\nClassification Report:\")\n",
    "print(classification_report(y_true, y_pred, target_names=['Entailment', 'Neutral', 'Contradiction']))"
   ]
  },
  {
   "cell_type": "markdown",
   "metadata": {},
   "source": [
    "#### Submission file for Kaggle (Optional)"
   ]
  },
  {
   "cell_type": "code",
   "execution_count": 24,
   "metadata": {},
   "outputs": [
    {
     "data": {
      "application/vnd.jupyter.widget-view+json": {
       "model_id": "c7ab43e1bac64601b4afeeb0f69f5fea",
       "version_major": 2,
       "version_minor": 0
      },
      "text/plain": [
       "Map:   0%|          | 0/12120 [00:00<?, ? examples/s]"
      ]
     },
     "metadata": {},
     "output_type": "display_data"
    },
    {
     "name": "stderr",
     "output_type": "stream",
     "text": [
      "/home/adrien/.pytorch_venv/lib/python3.11/site-packages/torch/nn/parallel/_functions.py:70: UserWarning: Was asked to gather along dimension 0, but all input tensors were scalars; will instead unsqueeze and return a vector.\n",
      "  warnings.warn(\n"
     ]
    },
    {
     "data": {
      "text/html": [],
      "text/plain": [
       "<IPython.core.display.HTML object>"
      ]
     },
     "metadata": {},
     "output_type": "display_data"
    },
    {
     "name": "stdout",
     "output_type": "stream",
     "text": [
      "\n",
      "Submission file saved.\n"
     ]
    }
   ],
   "source": [
    "df_test = pd.read_csv(ROOT_PATH / \"data/train.csv\")\n",
    "test_tokenized = Dataset.from_pandas(df_test).map(tokenize, batched=True)\n",
    "# Compute predictions\n",
    "pred = trainer.predict(test_tokenized)\n",
    "\n",
    "# Create submission csv file\n",
    "submission = df_test.id.copy().to_frame()\n",
    "submission[\"prediction\"] = np.argmax(pred.predictions, axis=1)\n",
    "\n",
    "submission.to_csv(ROOT_PATH / \"data/submission.csv\", index=False)\n",
    "print(\"Submission file saved.\")"
   ]
  },
  {
   "cell_type": "markdown",
   "metadata": {},
   "source": [
    "### Conclusion\n",
    "\n",
    "We first fine-tuned a pre-trained model on the full MNLI dataset, followed by further training on a 1M-example subset of the XNLI dataset. This approach gives a validation accuracy of 0.853 on the challenge dataset.\n",
    "\n",
    "In a separate experiment, we fine-tuned an already pre-trained HuggingFace model `joeddav/xlm-roberta-large-xnli` directly on the challenge dataset. This method achieved a slightly higher test accuracy of 0.914 on the Kaggle competition dataset, placing us 10th on the leaderboard."
   ]
  },
  {
   "cell_type": "markdown",
   "metadata": {},
   "source": [
    "#### Further improvements\n",
    "\n",
    "- **Finetuning**: finetune `xlm-roberta-large` on the full XNLI dataset, which is +5M examples."
   ]
  }
 ],
 "metadata": {
  "colab": {
   "provenance": []
  },
  "kernelspec": {
   "display_name": "Python 3 (PyTorch)",
   "language": "python",
   "name": ".pytorch_venv"
  },
  "language_info": {
   "codemirror_mode": {
    "name": "ipython",
    "version": 3
   },
   "file_extension": ".py",
   "mimetype": "text/x-python",
   "name": "python",
   "nbconvert_exporter": "python",
   "pygments_lexer": "ipython3",
   "version": "3.11.2"
  }
 },
 "nbformat": 4,
 "nbformat_minor": 1
}
