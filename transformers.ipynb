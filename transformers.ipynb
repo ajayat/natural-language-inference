{
 "cells": [
  {
   "cell_type": "markdown",
   "metadata": {
    "id": "9hPbP053j7wy"
   },
   "source": [
    "# Natural Language Inference\n",
    "\n",
    "This Jupyter Notebook fine-tunes `microsoft/xlm-roberta-large` on many NLI datasets.\n",
    "It includes data loading, preprocessing, data augmentation, model training, evaluation, and visualization."
   ]
  },
  {
   "cell_type": "markdown",
   "metadata": {
    "id": "kb4jC0vEj7w0"
   },
   "source": [
    "### Environment Setup\n",
    "\n",
    "This notebook was executed on a local Jupyter server in a LXC connected to 4 GPU: A100 MXP 80GB to train the model."
   ]
  },
  {
   "cell_type": "markdown",
   "metadata": {},
   "source": [
    "#### Install dependencies"
   ]
  },
  {
   "cell_type": "code",
   "execution_count": 1,
   "metadata": {
    "id": "mqhGjxHoj7w0"
   },
   "outputs": [],
   "source": [
    "%pip install -qU pandas numpy seaborn matplotlib scikit-learn datasets\n",
    "%pip install -qU nltk nlpaug huggingface_hub  # Optional\n",
    "%pip install -qU \"transformers[torch]\""
   ]
  },
  {
   "cell_type": "code",
   "execution_count": 2,
   "metadata": {},
   "outputs": [],
   "source": [
    "!export PYTORCH_CUDA_ALLOC_CONF=expandable_segments:True"
   ]
  },
  {
   "cell_type": "markdown",
   "metadata": {
    "id": "VbTlBIhLj7w1"
   },
   "source": [
    "#### Import libraries"
   ]
  },
  {
   "cell_type": "code",
   "execution_count": null,
   "metadata": {
    "id": "tw4RAm1zj7w1"
   },
   "outputs": [],
   "source": [
    "from pathlib import Path\n",
    "from tqdm import tqdm\n",
    "\n",
    "import pandas as pd\n",
    "import numpy as np\n",
    "import seaborn as sns\n",
    "import matplotlib.pyplot as plt\n",
    "\n",
    "import torch\n",
    "from sklearn.metrics import accuracy_score, confusion_matrix, classification_report\n",
    "from transformers import AutoTokenizer, AutoModelForSequenceClassification, Trainer, TrainingArguments\n",
    "from datasets import Dataset, concatenate_datasets, load_dataset\n",
    "\n",
    "# Data augmentation\n",
    "from nlpaug.augmenter.word import RandomWordAug, SynonymAug\n",
    "from nlpaug.augmenter.char import KeyboardAug"
   ]
  },
  {
   "cell_type": "markdown",
   "metadata": {},
   "source": [
    "#### Constants"
   ]
  },
  {
   "cell_type": "code",
   "execution_count": 4,
   "metadata": {},
   "outputs": [],
   "source": [
    "PRETRAINED_MODEL_NAME = \"FacebookAI/xlm-roberta-large\"\n",
    "ROOT_PATH = Path.cwd()\n",
    "MODEL_DIR = ROOT_PATH / \"models\"\n",
    "MODEL_BASENAME = PRETRAINED_MODEL_NAME.rpartition('/')[2]\n",
    "\n",
    "device = torch.device(\"cuda\" if torch.cuda.is_available() else \"cpu\")\n",
    "# Use fixed seed for results reproducibility\n",
    "np.random.seed(0)"
   ]
  },
  {
   "cell_type": "markdown",
   "metadata": {
    "id": "_U6tDwWAj7w1"
   },
   "source": [
    "### Data Loading"
   ]
  },
  {
   "cell_type": "markdown",
   "metadata": {},
   "source": [
    "#### Challenge dataset"
   ]
  },
  {
   "cell_type": "code",
   "execution_count": 5,
   "metadata": {
    "id": "roW0dM9Mj7w1"
   },
   "outputs": [
    {
     "data": {
      "text/html": [
       "<div>\n",
       "<style scoped>\n",
       "    .dataframe tbody tr th:only-of-type {\n",
       "        vertical-align: middle;\n",
       "    }\n",
       "\n",
       "    .dataframe tbody tr th {\n",
       "        vertical-align: top;\n",
       "    }\n",
       "\n",
       "    .dataframe thead th {\n",
       "        text-align: right;\n",
       "    }\n",
       "</style>\n",
       "<table border=\"1\" class=\"dataframe\">\n",
       "  <thead>\n",
       "    <tr style=\"text-align: right;\">\n",
       "      <th></th>\n",
       "      <th>id</th>\n",
       "      <th>premise</th>\n",
       "      <th>hypothesis</th>\n",
       "      <th>lang_abv</th>\n",
       "      <th>language</th>\n",
       "      <th>label</th>\n",
       "    </tr>\n",
       "  </thead>\n",
       "  <tbody>\n",
       "    <tr>\n",
       "      <th>6543</th>\n",
       "      <td>af77bed638</td>\n",
       "      <td>The experts point out that it is not age alone...</td>\n",
       "      <td>The Qin Dynasty has the most expensive antique...</td>\n",
       "      <td>en</td>\n",
       "      <td>English</td>\n",
       "      <td>1</td>\n",
       "    </tr>\n",
       "    <tr>\n",
       "      <th>9150</th>\n",
       "      <td>285d11dd62</td>\n",
       "      <td>Wear a nicely ventilated hat and keep to the s...</td>\n",
       "      <td>A sun umbrella might help those who really nee...</td>\n",
       "      <td>en</td>\n",
       "      <td>English</td>\n",
       "      <td>1</td>\n",
       "    </tr>\n",
       "    <tr>\n",
       "      <th>8245</th>\n",
       "      <td>00b1f84085</td>\n",
       "      <td>Each working group met several times to develo...</td>\n",
       "      <td>There were no meetings to discuss changes to t...</td>\n",
       "      <td>en</td>\n",
       "      <td>English</td>\n",
       "      <td>2</td>\n",
       "    </tr>\n",
       "    <tr>\n",
       "      <th>3753</th>\n",
       "      <td>e19376a801</td>\n",
       "      <td>farmworkers conducted by the U.S.</td>\n",
       "      <td>A labor survey also considered the views of ag...</td>\n",
       "      <td>en</td>\n",
       "      <td>English</td>\n",
       "      <td>1</td>\n",
       "    </tr>\n",
       "    <tr>\n",
       "      <th>713</th>\n",
       "      <td>b0afb96e00</td>\n",
       "      <td>كلمتا blood و flood ليس بنفس صوت food.</td>\n",
       "      <td>الغذاء هو بالضبط مثل الدم والفيضان.</td>\n",
       "      <td>ar</td>\n",
       "      <td>Arabic</td>\n",
       "      <td>2</td>\n",
       "    </tr>\n",
       "    <tr>\n",
       "      <th>2799</th>\n",
       "      <td>e33f803e46</td>\n",
       "      <td>LSC set a deadline of October 1, 1998, for sub...</td>\n",
       "      <td>LSC set a deadline to submit state reports to ...</td>\n",
       "      <td>en</td>\n",
       "      <td>English</td>\n",
       "      <td>1</td>\n",
       "    </tr>\n",
       "    <tr>\n",
       "      <th>2335</th>\n",
       "      <td>45280f46e8</td>\n",
       "      <td>Bila shaka, azimio lako lilikuwa la thamani, S...</td>\n",
       "      <td>Waspania walipanga kukutupa majini wakati wa u...</td>\n",
       "      <td>sw</td>\n",
       "      <td>Swahili</td>\n",
       "      <td>1</td>\n",
       "    </tr>\n",
       "    <tr>\n",
       "      <th>2397</th>\n",
       "      <td>0a9e0b89ab</td>\n",
       "      <td>Eh! Monsieur Lawrence, called Poirot.</td>\n",
       "      <td>Poirot did not call upon Monsieur Lawrence.</td>\n",
       "      <td>en</td>\n",
       "      <td>English</td>\n",
       "      <td>2</td>\n",
       "    </tr>\n",
       "    <tr>\n",
       "      <th>3959</th>\n",
       "      <td>f093f8733c</td>\n",
       "      <td>Release 2.0: A Design for Living in the Digita...</td>\n",
       "      <td>Esther Dyson is the Author of Release 2.o: A D...</td>\n",
       "      <td>en</td>\n",
       "      <td>English</td>\n",
       "      <td>0</td>\n",
       "    </tr>\n",
       "    <tr>\n",
       "      <th>5808</th>\n",
       "      <td>49ba04c9a8</td>\n",
       "      <td>aCondition Assessment Survey (CAS).</td>\n",
       "      <td>CAS is a Condition Assessment Survey</td>\n",
       "      <td>en</td>\n",
       "      <td>English</td>\n",
       "      <td>0</td>\n",
       "    </tr>\n",
       "  </tbody>\n",
       "</table>\n",
       "</div>"
      ],
      "text/plain": [
       "              id                                            premise  \\\n",
       "6543  af77bed638  The experts point out that it is not age alone...   \n",
       "9150  285d11dd62  Wear a nicely ventilated hat and keep to the s...   \n",
       "8245  00b1f84085  Each working group met several times to develo...   \n",
       "3753  e19376a801                  farmworkers conducted by the U.S.   \n",
       "713   b0afb96e00             كلمتا blood و flood ليس بنفس صوت food.   \n",
       "2799  e33f803e46  LSC set a deadline of October 1, 1998, for sub...   \n",
       "2335  45280f46e8  Bila shaka, azimio lako lilikuwa la thamani, S...   \n",
       "2397  0a9e0b89ab             Eh! Monsieur Lawrence, called Poirot.    \n",
       "3959  f093f8733c  Release 2.0: A Design for Living in the Digita...   \n",
       "5808  49ba04c9a8                aCondition Assessment Survey (CAS).   \n",
       "\n",
       "                                             hypothesis lang_abv language  \\\n",
       "6543  The Qin Dynasty has the most expensive antique...       en  English   \n",
       "9150  A sun umbrella might help those who really nee...       en  English   \n",
       "8245  There were no meetings to discuss changes to t...       en  English   \n",
       "3753  A labor survey also considered the views of ag...       en  English   \n",
       "713                 الغذاء هو بالضبط مثل الدم والفيضان.       ar   Arabic   \n",
       "2799  LSC set a deadline to submit state reports to ...       en  English   \n",
       "2335  Waspania walipanga kukutupa majini wakati wa u...       sw  Swahili   \n",
       "2397        Poirot did not call upon Monsieur Lawrence.       en  English   \n",
       "3959  Esther Dyson is the Author of Release 2.o: A D...       en  English   \n",
       "5808               CAS is a Condition Assessment Survey       en  English   \n",
       "\n",
       "      label  \n",
       "6543      1  \n",
       "9150      1  \n",
       "8245      2  \n",
       "3753      1  \n",
       "713       2  \n",
       "2799      1  \n",
       "2335      1  \n",
       "2397      2  \n",
       "3959      0  \n",
       "5808      0  "
      ]
     },
     "execution_count": 5,
     "metadata": {},
     "output_type": "execute_result"
    }
   ],
   "source": [
    "df = pd.read_csv(ROOT_PATH / \"data/train.csv\")\n",
    "\n",
    "# Train-test spliting\n",
    "challenge_dataset = Dataset.from_pandas(df).train_test_split(test_size=0.3, seed=0)\n",
    "challenge_train = challenge_dataset['train']\n",
    "challenge_val = challenge_dataset['test']\n",
    "\n",
    "# Inspect the train dataset with 10 random row\n",
    "df.sample(10)"
   ]
  },
  {
   "cell_type": "markdown",
   "metadata": {
    "id": "w4XYZOceWvJ4"
   },
   "source": [
    "Display label distribution: the dataset is evenly distributed across all labels."
   ]
  },
  {
   "cell_type": "code",
   "execution_count": 6,
   "metadata": {
    "id": "iI0wu0VxWt7m"
   },
   "outputs": [
    {
     "data": {
      "image/png": "[encoded data removed]",
      "text/plain": [
       "<Figure size 1000x600 with 1 Axes>"
      ]
     },
     "metadata": {},
     "output_type": "display_data"
    }
   ],
   "source": [
    "df.label.value_counts().plot(kind=\"bar\", figsize=(10, 6), title=\"Pair-wise sentences distribution\")\n",
    "plt.show()"
   ]
  },
  {
   "cell_type": "markdown",
   "metadata": {
    "id": "m_JGmdbPXSxg"
   },
   "source": [
    "However, the dataset predominantly consists of English sentences."
   ]
  },
  {
   "cell_type": "code",
   "execution_count": 7,
   "metadata": {
    "id": "xJcuSwR9VIZm"
   },
   "outputs": [
    {
     "data": {
      "image/png": "[encoded data removed]",
      "text/plain": [
       "<Figure size 1000x1000 with 1 Axes>"
      ]
     },
     "metadata": {},
     "output_type": "display_data"
    }
   ],
   "source": [
    "df.language.value_counts().plot(\n",
    "    kind=\"pie\", \n",
    "    figsize=(10, 10), \n",
    "    autopct='%1.1f%%', \n",
    "    title=\"Languages distribution\"\n",
    ")\n",
    "plt.show()"
   ]
  },
  {
   "cell_type": "markdown",
   "metadata": {},
   "source": [
    "#### MNLI dataset\n",
    "\n",
    "We use `matched` version of test and train set because the dataset from the Challenge seems to match the same genre."
   ]
  },
  {
   "cell_type": "code",
   "execution_count": 8,
   "metadata": {},
   "outputs": [
    {
     "data": {
      "text/html": [
       "<div>\n",
       "<style scoped>\n",
       "    .dataframe tbody tr th:only-of-type {\n",
       "        vertical-align: middle;\n",
       "    }\n",
       "\n",
       "    .dataframe tbody tr th {\n",
       "        vertical-align: top;\n",
       "    }\n",
       "\n",
       "    .dataframe thead th {\n",
       "        text-align: right;\n",
       "    }\n",
       "</style>\n",
       "<table border=\"1\" class=\"dataframe\">\n",
       "  <thead>\n",
       "    <tr style=\"text-align: right;\">\n",
       "      <th></th>\n",
       "      <th>premise</th>\n",
       "      <th>hypothesis</th>\n",
       "      <th>label</th>\n",
       "      <th>idx</th>\n",
       "    </tr>\n",
       "  </thead>\n",
       "  <tbody>\n",
       "    <tr>\n",
       "      <th>0</th>\n",
       "      <td>Conceptually cream skimming has two basic dime...</td>\n",
       "      <td>Product and geography are what make cream skim...</td>\n",
       "      <td>1</td>\n",
       "      <td>0</td>\n",
       "    </tr>\n",
       "    <tr>\n",
       "      <th>1</th>\n",
       "      <td>you know during the season and i guess at at y...</td>\n",
       "      <td>You lose the things to the following level if ...</td>\n",
       "      <td>0</td>\n",
       "      <td>1</td>\n",
       "    </tr>\n",
       "    <tr>\n",
       "      <th>2</th>\n",
       "      <td>One of our number will carry out your instruct...</td>\n",
       "      <td>A member of my team will execute your orders w...</td>\n",
       "      <td>0</td>\n",
       "      <td>2</td>\n",
       "    </tr>\n",
       "    <tr>\n",
       "      <th>3</th>\n",
       "      <td>How do you know? All this is their information...</td>\n",
       "      <td>This information belongs to them.</td>\n",
       "      <td>0</td>\n",
       "      <td>3</td>\n",
       "    </tr>\n",
       "    <tr>\n",
       "      <th>4</th>\n",
       "      <td>yeah i tell you what though if you go price so...</td>\n",
       "      <td>The tennis shoes have a range of prices.</td>\n",
       "      <td>1</td>\n",
       "      <td>4</td>\n",
       "    </tr>\n",
       "  </tbody>\n",
       "</table>\n",
       "</div>"
      ],
      "text/plain": [
       "                                             premise  \\\n",
       "0  Conceptually cream skimming has two basic dime...   \n",
       "1  you know during the season and i guess at at y...   \n",
       "2  One of our number will carry out your instruct...   \n",
       "3  How do you know? All this is their information...   \n",
       "4  yeah i tell you what though if you go price so...   \n",
       "\n",
       "                                          hypothesis  label  idx  \n",
       "0  Product and geography are what make cream skim...      1    0  \n",
       "1  You lose the things to the following level if ...      0    1  \n",
       "2  A member of my team will execute your orders w...      0    2  \n",
       "3                  This information belongs to them.      0    3  \n",
       "4           The tennis shoes have a range of prices.      1    4  "
      ]
     },
     "execution_count": 8,
     "metadata": {},
     "output_type": "execute_result"
    }
   ],
   "source": [
    "mnli_train = load_dataset(\"nyu-mll/glue\", \"mnli\", split=\"train\")\n",
    "mnli_val = load_dataset(\"nyu-mll/glue\", \"mnli\", split=\"validation_matched\")\n",
    "\n",
    "# Inspect the dataset\n",
    "mnli_train_df = mnli_train.to_pandas()\n",
    "mnli_train_df.head()"
   ]
  },
  {
   "cell_type": "markdown",
   "metadata": {},
   "source": [
    "#### XNLI dataset\n",
    "\n",
    "[XNLI: Evaluating Cross-lingual Sentence Representations](https://aclanthology.org/D18-1269/) (Conneau et al., EMNLP 2018)"
   ]
  },
  {
   "cell_type": "code",
   "execution_count": 9,
   "metadata": {},
   "outputs": [],
   "source": [
    "XNLI_TRAIN_SIZE = 1_000_000  # Limit the number of examples as the dataset is very large\n",
    "\n",
    "def load_xnli_datasets(languages: list, split=\"train\"):\n",
    "    datasets = []\n",
    "    for lang in languages:\n",
    "        xnli_lang = load_dataset(\"facebook/xnli\", lang, split=split)\n",
    "        xnli_lang = xnli_lang.add_column(\"lang_abv\", [lang] * len(xnli_lang))\n",
    "        datasets.append(xnli_lang)\n",
    "\n",
    "    return concatenate_datasets(datasets).shuffle(seed=0)\n",
    "\n",
    "languages = ['ar','bg','de','el','en','es','fr','hi','ru','sw','th','tr','ur','vi','zh']\n",
    "xnli_train = load_xnli_datasets(languages, split=\"train\").select(range(XNLI_TRAIN_SIZE))\n",
    "xnli_val = load_xnli_datasets(languages, split=\"validation\")"
   ]
  },
  {
   "cell_type": "markdown",
   "metadata": {},
   "source": [
    "Now, we inspect the XNLI dataset."
   ]
  },
  {
   "cell_type": "code",
   "execution_count": 10,
   "metadata": {},
   "outputs": [
    {
     "data": {
      "text/html": [
       "<div>\n",
       "<style scoped>\n",
       "    .dataframe tbody tr th:only-of-type {\n",
       "        vertical-align: middle;\n",
       "    }\n",
       "\n",
       "    .dataframe tbody tr th {\n",
       "        vertical-align: top;\n",
       "    }\n",
       "\n",
       "    .dataframe thead th {\n",
       "        text-align: right;\n",
       "    }\n",
       "</style>\n",
       "<table border=\"1\" class=\"dataframe\">\n",
       "  <thead>\n",
       "    <tr style=\"text-align: right;\">\n",
       "      <th></th>\n",
       "      <th>premise</th>\n",
       "      <th>hypothesis</th>\n",
       "      <th>label</th>\n",
       "      <th>lang_abv</th>\n",
       "    </tr>\n",
       "  </thead>\n",
       "  <tbody>\n",
       "    <tr>\n",
       "      <th>0</th>\n",
       "      <td>Hardknott का पास , 1 : 3 के अनुपात के साथ , सभ...</td>\n",
       "      <td>यह सभी lakeland गुजरता है .</td>\n",
       "      <td>1</td>\n",
       "      <td>hi</td>\n",
       "    </tr>\n",
       "    <tr>\n",
       "      <th>1</th>\n",
       "      <td>No para descartar a esta nueva raza de roquero...</td>\n",
       "      <td>No hay necesidad de descartar por completo a l...</td>\n",
       "      <td>0</td>\n",
       "      <td>es</td>\n",
       "    </tr>\n",
       "    <tr>\n",
       "      <th>2</th>\n",
       "      <td>ไม่ว่า จะ ทาง ไหน คุณ ก็ ต้อง จ่าย ใคร สัก คน ...</td>\n",
       "      <td>คุณ กำลัง จ่าย ทั้ง หน่วยงาน หรือ สวนสัตว์</td>\n",
       "      <td>2</td>\n",
       "      <td>th</td>\n",
       "    </tr>\n",
       "    <tr>\n",
       "      <th>3</th>\n",
       "      <td>Chỉ có một luật sư và một luật sư trong văn ph...</td>\n",
       "      <td>Chi nhánh lò xo green cove đã xử lý hơn 300 tr...</td>\n",
       "      <td>0</td>\n",
       "      <td>vi</td>\n",
       "    </tr>\n",
       "    <tr>\n",
       "      <th>4</th>\n",
       "      <td>一个个 人 的 意愿 接受 ( wta ) 赔偿 不 能 得到 改善 也 是 一 项 有效 ...</td>\n",
       "      <td>一个 人 愿意 接受 补偿 以 代替 改进 是 一 项 可能 的 措施 .</td>\n",
       "      <td>0</td>\n",
       "      <td>zh</td>\n",
       "    </tr>\n",
       "  </tbody>\n",
       "</table>\n",
       "</div>"
      ],
      "text/plain": [
       "                                             premise  \\\n",
       "0  Hardknott का पास , 1 : 3 के अनुपात के साथ , सभ...   \n",
       "1  No para descartar a esta nueva raza de roquero...   \n",
       "2  ไม่ว่า จะ ทาง ไหน คุณ ก็ ต้อง จ่าย ใคร สัก คน ...   \n",
       "3  Chỉ có một luật sư và một luật sư trong văn ph...   \n",
       "4  一个个 人 的 意愿 接受 ( wta ) 赔偿 不 能 得到 改善 也 是 一 项 有效 ...   \n",
       "\n",
       "                                          hypothesis  label lang_abv  \n",
       "0                        यह सभी lakeland गुजरता है .      1       hi  \n",
       "1  No hay necesidad de descartar por completo a l...      0       es  \n",
       "2         คุณ กำลัง จ่าย ทั้ง หน่วยงาน หรือ สวนสัตว์      2       th  \n",
       "3  Chi nhánh lò xo green cove đã xử lý hơn 300 tr...      0       vi  \n",
       "4              一个 人 愿意 接受 补偿 以 代替 改进 是 一 项 可能 的 措施 .      0       zh  "
      ]
     },
     "execution_count": 10,
     "metadata": {},
     "output_type": "execute_result"
    }
   ],
   "source": [
    "xnli_train_df = xnli_train.to_pandas()\n",
    "xnli_train_df.head()"
   ]
  },
  {
   "cell_type": "markdown",
   "metadata": {
    "id": "-4Nby-Mvj7w2"
   },
   "source": [
    "### Data Augmentation\n",
    "\n",
    "Use `NLPAug` library to augment the data by using synonyms, typo insertion and word swapping."
   ]
  },
  {
   "cell_type": "code",
   "execution_count": 11,
   "metadata": {
    "id": "_WPS4lljj7w2"
   },
   "outputs": [],
   "source": [
    "augmenters = [\n",
    "    (SynonymAug(aug_src='wordnet', aug_p=0.1), 0.8),   # Synonym replacement\n",
    "    (RandomWordAug(action='swap', aug_p=0.1), 0.1),    # Word swapping\n",
    "    (KeyboardAug(aug_char_p=0.1, aug_word_p=0.1), 0.3) # Typo simulation\n",
    "]\n",
    "\n",
    "def augment_text(text, augmenter):\n",
    "    try:\n",
    "        result = augmenter.augment(text)\n",
    "        # Handle list outputs from some augmenters\n",
    "        return result[0] if isinstance(result, list) else str(result)\n",
    "    except Exception as e:\n",
    "        return str(text)  # Ensure string return\n",
    "\n",
    "def create_augmented_df(df, augmenters, sample_frac=0.5):\n",
    "    sample = df.sample(frac=sample_frac)\n",
    "    augmented = []\n",
    "\n",
    "    for _, row in tqdm(sample.iterrows(), total=len(sample)):\n",
    "        for aug, weight in augmenters:\n",
    "            if np.random.random() > weight:\n",
    "                continue  # Skip this augmentation\n",
    "\n",
    "            new_row = row.copy()\n",
    "            premise = new_row['premise'] = augment_text(row['premise'], aug)\n",
    "            hypothesis = new_row['hypothesis'] = augment_text(row['hypothesis'], aug)\n",
    "            if premise != row[\"premise\"] or hypothesis != row[\"hypothesis\"]:\n",
    "                augmented.append(new_row)\n",
    "\n",
    "    return pd.DataFrame(augmented).convert_dtypes()\n",
    "\n",
    "def augment_dataset(ds, augmenters):\n",
    "    df_aug = create_augmented_df(df, augmenters)\n",
    "    # Concatenate augmented dataset with original\n",
    "    ds_aug = Dataset.from_pandas(df_aug)\n",
    "    return concatenate_datasets([ds, ds_aug]).shuffle()\n",
    "\n",
    "# challenge_train = augment_dataset(challenge_train, augmenters)"
   ]
  },
  {
   "cell_type": "markdown",
   "metadata": {},
   "source": [
    "### Tokenizer\n",
    "\n",
    "Training and evaluation use the `Trainer` API from the `transformers`."
   ]
  },
  {
   "cell_type": "code",
   "execution_count": 12,
   "metadata": {},
   "outputs": [],
   "source": [
    "tokenizer = AutoTokenizer.from_pretrained(PRETRAINED_MODEL_NAME)\n",
    "\n",
    "def tokenize_function(row):\n",
    "    \"\"\"Pre-processing class to handle text tokenization.\"\"\"\n",
    "    return tokenizer(\n",
    "        row['premise'], \n",
    "        row['hypothesis'],\n",
    "        padding='max_length', \n",
    "        truncation=True, \n",
    "        max_length=512\n",
    "    )\n",
    "    \n",
    "def compute_metrics(eval_pred):\n",
    "    \"\"\"Compute accuracy on the validation set.\"\"\"\n",
    "    y_pred = np.argmax(eval_pred.predictions, axis=1)\n",
    "    return dict(accuracy=accuracy_score(eval_pred.label_ids, y_pred))"
   ]
  },
  {
   "cell_type": "markdown",
   "metadata": {
    "id": "ZBykOxZDj7w3"
   },
   "source": [
    "### MNLI Finetuning\n",
    "\n",
    "Finetune the model on the MNLI dataset.\n",
    "\n",
    "**Architecture:**  \n",
    "- `xml-roberta-large` pre-trained model from Hugging Face\n",
    "- Classification head with dropout (0.3)"
   ]
  },
  {
   "cell_type": "code",
   "execution_count": 13,
   "metadata": {
    "id": "8o6XGXtgJhGB"
   },
   "outputs": [
    {
     "name": "stderr",
     "output_type": "stream",
     "text": [
      "Some weights of XLMRobertaForSequenceClassification were not initialized from the model checkpoint at FacebookAI/xlm-roberta-large and are newly initialized: ['classifier.dense.bias', 'classifier.dense.weight', 'classifier.out_proj.bias', 'classifier.out_proj.weight']\n",
      "You should probably TRAIN this model on a down-stream task to be able to use it for predictions and inference.\n"
     ]
    }
   ],
   "source": [
    "# Load the pre-trained model.\n",
    "model = AutoModelForSequenceClassification.from_pretrained(PRETRAINED_MODEL_NAME, num_labels=3)\n",
    "model.classifier.dropout = torch.nn.Dropout(0.3)\n",
    "model.to(device)  # Move model to GPU if available\n",
    "\n",
    "# Tokenize data\n",
    "mnli_train_tokenized = mnli_train.map(tokenize_function, batched=True)\n",
    "mnli_val_tokenized = mnli_val.map(tokenize_function, batched=True)"
   ]
  },
  {
   "cell_type": "markdown",
   "metadata": {},
   "source": [
    "#### Hyperparameters"
   ]
  },
  {
   "cell_type": "code",
   "execution_count": 14,
   "metadata": {},
   "outputs": [],
   "source": [
    "mnli_model_dir = MODEL_DIR / f\"{MODEL_BASENAME}-mnli\"\n",
    "\n",
    "training_args = TrainingArguments(\n",
    "    output_dir=mnli_model_dir,\n",
    "    eval_strategy='epoch',\n",
    "    save_strategy='epoch',\n",
    "    learning_rate=2e-5,\n",
    "    per_device_train_batch_size=8,\n",
    "    per_device_eval_batch_size=16,\n",
    "    num_train_epochs=3,\n",
    "    weight_decay=0.01,\n",
    "    warmup_ratio=0.1,\n",
    "    load_best_model_at_end=True,\n",
    "    metric_for_best_model='accuracy',\n",
    "    report_to='none'  # Disabling wandb callbacks\n",
    ")\n",
    "\n",
    "mnli_trainer = Trainer(\n",
    "    model=model,\n",
    "    args=training_args,\n",
    "    train_dataset=mnli_train_tokenized,\n",
    "    eval_dataset=mnli_val_tokenized,\n",
    "    processing_class=tokenizer,\n",
    "    compute_metrics=compute_metrics\n",
    ")"
   ]
  },
  {
   "cell_type": "markdown",
   "metadata": {},
   "source": [
    "#### Training"
   ]
  },
  {
   "cell_type": "code",
   "execution_count": 15,
   "metadata": {},
   "outputs": [
    {
     "data": {
      "text/html": [
       "\n",
       "    <div>\n",
       "      \n",
       "      <progress value='36816' max='36816' style='width:300px; height:20px; vertical-align: middle;'></progress>\n",
       "      [36816/36816 4:40:09, Epoch 3/3]\n",
       "    </div>\n",
       "    <table border=\"1\" class=\"dataframe\">\n",
       "  <thead>\n",
       " <tr style=\"text-align: left;\">\n",
       "      <th>Epoch</th>\n",
       "      <th>Training Loss</th>\n",
       "      <th>Validation Loss</th>\n",
       "      <th>Accuracy</th>\n",
       "    </tr>\n",
       "  </thead>\n",
       "  <tbody>\n",
       "    <tr>\n",
       "      <td>1</td>\n",
       "      <td>0.385600</td>\n",
       "      <td>0.360523</td>\n",
       "      <td>0.866123</td>\n",
       "    </tr>\n",
       "    <tr>\n",
       "      <td>2</td>\n",
       "      <td>0.279300</td>\n",
       "      <td>0.351647</td>\n",
       "      <td>0.880591</td>\n",
       "    </tr>\n",
       "    <tr>\n",
       "      <td>3</td>\n",
       "      <td>0.175300</td>\n",
       "      <td>0.415775</td>\n",
       "      <td>0.885074</td>\n",
       "    </tr>\n",
       "  </tbody>\n",
       "</table><p>"
      ],
      "text/plain": [
       "<IPython.core.display.HTML object>"
      ]
     },
     "metadata": {},
     "output_type": "display_data"
    },
    {
     "data": {
      "text/plain": [
       "TrainOutput(global_step=36816, training_loss=0.3245165684802384, metrics={'train_runtime': 16814.5915, 'train_samples_per_second': 70.065, 'train_steps_per_second': 2.19, 'total_flos': 7.92505678354401e+17, 'train_loss': 0.3245165684802384, 'epoch': 3.0})"
      ]
     },
     "execution_count": 15,
     "metadata": {},
     "output_type": "execute_result"
    }
   ],
   "source": [
    "mnli_trainer.train()\n",
    "# Save the best model and the tokenizer to disk.\n",
    "mnli_trainer.save_model(mnli_model_dir)\n",
    "tokenizer.save_pretrained(mnli_model_dir)\n",
    "# Free some unused memory\n",
    "torch.cuda.empty_cache()"
   ]
  },
  {
   "cell_type": "markdown",
   "metadata": {},
   "source": [
    "Upload the model to Hugging Face Hub"
   ]
  },
  {
   "cell_type": "code",
   "execution_count": 16,
   "metadata": {},
   "outputs": [],
   "source": [
    "REPOSITORY_NAME = f\"ajayat/{MODEL_BASENAME}-mnli\"\n",
    "\n",
    "mnli_trainer.model.push_to_hub(REPOSITORY_NAME, private=True)\n",
    "tokenizer.push_to_hub(REPOSITORY_NAME)"
   ]
  },
  {
   "cell_type": "markdown",
   "metadata": {},
   "source": [
    "### XNLI Finetuning\n",
    "\n",
    "Finetune the model on the XNLI dataset.\n",
    "\n",
    "**Architecture:**  \n",
    "- `xml-roberta-large-mnli` fine-tuned model on MNLI dataset\n",
    "- Classification head with dropout (0.3)\n",
    "\n",
    "Train using `Trainer` with same hyperparameters and evaluate the model on the Challenge (train) dataset."
   ]
  },
  {
   "cell_type": "code",
   "execution_count": 17,
   "metadata": {},
   "outputs": [],
   "source": [
    "mnli_model_dir = MODEL_DIR / f\"{MODEL_BASENAME}-mnli\"\n",
    "# Load the fine-tuned model\n",
    "mnli_model = AutoModelForSequenceClassification.from_pretrained(mnli_model_dir, num_labels=3)\n",
    "mnli_model.classifier.dropout = torch.nn.Dropout(0.3)\n",
    "mnli_model.to(device)\n",
    "\n",
    "# Tokenize data\n",
    "xnli_train_tokenized = xnli_train.map(tokenize_function, batched=True)\n",
    "xnli_val_tokenized = xnli_val.map(tokenize_function, batched=True)"
   ]
  },
  {
   "cell_type": "markdown",
   "metadata": {},
   "source": [
    "#### Hyperparameters"
   ]
  },
  {
   "cell_type": "code",
   "execution_count": 18,
   "metadata": {},
   "outputs": [],
   "source": [
    "xnli_model_dir = MODEL_DIR / f\"{MODEL_BASENAME}-mnli-xnli\"\n",
    "\n",
    "training_args = TrainingArguments(\n",
    "    output_dir=xnli_model_dir,\n",
    "    eval_strategy='epoch',\n",
    "    save_strategy='epoch',\n",
    "    learning_rate=2e-5,\n",
    "    per_device_train_batch_size=8,\n",
    "    per_device_eval_batch_size=16,\n",
    "    num_train_epochs=1,\n",
    "    weight_decay=0.01,\n",
    "    warmup_ratio=0.1,\n",
    "    load_best_model_at_end=True,\n",
    "    metric_for_best_model='accuracy',\n",
    "    report_to='none'  # Disabling wandb callbacks\n",
    ")\n",
    "\n",
    "xnli_trainer = Trainer(\n",
    "    model=mnli_model,\n",
    "    args=training_args,\n",
    "    train_dataset=xnli_train_tokenized,\n",
    "    eval_dataset=xnli_val_tokenized,\n",
    "    processing_class=tokenizer,\n",
    "    compute_metrics=compute_metrics\n",
    ")"
   ]
  },
  {
   "cell_type": "markdown",
   "metadata": {},
   "source": [
    "#### Training"
   ]
  },
  {
   "cell_type": "code",
   "execution_count": 19,
   "metadata": {},
   "outputs": [
    {
     "data": {
      "text/html": [
       "\n",
       "    <div>\n",
       "      \n",
       "      <progress value='31250' max='31250' style='width:300px; height:20px; vertical-align: middle;'></progress>\n",
       "      [31250/31250 4:35:42, Epoch 1/1]\n",
       "    </div>\n",
       "    <table border=\"1\" class=\"dataframe\">\n",
       "  <thead>\n",
       " <tr style=\"text-align: left;\">\n",
       "      <th>Epoch</th>\n",
       "      <th>Training Loss</th>\n",
       "      <th>Validation Loss</th>\n",
       "      <th>Accuracy</th>\n",
       "    </tr>\n",
       "  </thead>\n",
       "  <tbody>\n",
       "    <tr>\n",
       "      <td>1</td>\n",
       "      <td>0.440100</td>\n",
       "      <td>0.481936</td>\n",
       "      <td>0.826104</td>\n",
       "    </tr>\n",
       "  </tbody>\n",
       "</table><p>"
      ],
      "text/plain": [
       "<IPython.core.display.HTML object>"
      ]
     },
     "metadata": {},
     "output_type": "display_data"
    }
   ],
   "source": [
    "xnli_trainer.train()\n",
    "# Save the best model and the tokenizer to disk.\n",
    "xnli_trainer.save_model(xnli_model_dir)\n",
    "tokenizer.save_pretrained(xnli_model_dir)"
   ]
  },
  {
   "cell_type": "markdown",
   "metadata": {},
   "source": [
    "Upload the model to Hugging Face Hub."
   ]
  },
  {
   "cell_type": "code",
   "execution_count": 20,
   "metadata": {},
   "outputs": [],
   "source": [
    "REPOSITORY_NAME = f\"ajayat/{MODEL_BASENAME}-mnli-xnli\"\n",
    "\n",
    "xnli_trainer.model.push_to_hub(REPOSITORY_NAME, private=True)\n",
    "tokenizer.push_to_hub(REPOSITORY_NAME)"
   ]
  },
  {
   "cell_type": "markdown",
   "metadata": {},
   "source": [
    "### Challenge Finetuning"
   ]
  },
  {
   "cell_type": "code",
   "execution_count": null,
   "metadata": {},
   "outputs": [
    {
     "name": "stderr",
     "output_type": "stream",
     "text": [
      "Some weights of the model checkpoint at joeddav/xlm-roberta-large-xnli were not used when initializing XLMRobertaForSequenceClassification: ['roberta.pooler.dense.bias', 'roberta.pooler.dense.weight']\n",
      "- This IS expected if you are initializing XLMRobertaForSequenceClassification from the checkpoint of a model trained on another task or with another architecture (e.g. initializing a BertForSequenceClassification model from a BertForPreTraining model).\n",
      "- This IS NOT expected if you are initializing XLMRobertaForSequenceClassification from the checkpoint of a model that you expect to be exactly identical (initializing a BertForSequenceClassification model from a BertForSequenceClassification model).\n"
     ]
    }
   ],
   "source": [
    "PRETRAINED_MODEL_NAME = \"joeddav/xlm-roberta-large-xnli\"\n",
    "MODEL_BASENAME = PRETRAINED_MODEL_NAME.rpartition('/')[2]\n",
    "# Load the pre-tuned model from HuggingFace\n",
    "model = AutoModelForSequenceClassification.from_pretrained(PRETRAINED_MODEL_NAME, num_labels=3)\n",
    "model.to(device)\n",
    "\n",
    "# Tokenize data\n",
    "challenge_train_tokenized = challenge_train.map(tokenize_function, batched=True)\n",
    "challenge_val_tokenized = challenge_val.map(tokenize_function, batched=True)"
   ]
  },
  {
   "cell_type": "markdown",
   "metadata": {},
   "source": [
    "#### Hyperparameters"
   ]
  },
  {
   "cell_type": "code",
   "execution_count": null,
   "metadata": {},
   "outputs": [],
   "source": [
    "model_output_dir = MODEL_DIR / f\"{MODEL_BASENAME}-finetuned\"\n",
    "\n",
    "training_args = TrainingArguments(\n",
    "    output_dir=model_output_dir,\n",
    "    eval_strategy='epoch',\n",
    "    save_strategy='epoch',\n",
    "    learning_rate=2e-5,\n",
    "    per_device_train_batch_size=8,\n",
    "    per_device_eval_batch_size=16,\n",
    "    num_train_epochs=5,\n",
    "    weight_decay=0.01,\n",
    "    warmup_ratio=0.1,\n",
    "    load_best_model_at_end=True,\n",
    "    metric_for_best_model='accuracy',\n",
    "    report_to='none'  # Disabling wandb callbacks\n",
    ")\n",
    "\n",
    "trainer = Trainer(\n",
    "    model=model,\n",
    "    args=training_args,\n",
    "    train_dataset=challenge_train_tokenized,\n",
    "    eval_dataset=challenge_val_tokenized,\n",
    "    processing_class=tokenizer,\n",
    "    compute_metrics=compute_metrics\n",
    ")"
   ]
  },
  {
   "cell_type": "markdown",
   "metadata": {},
   "source": [
    "#### Training"
   ]
  },
  {
   "cell_type": "code",
   "execution_count": 23,
   "metadata": {},
   "outputs": [
    {
     "data": {
      "text/html": [
       "\n",
       "    <div>\n",
       "      \n",
       "      <progress value='1330' max='1330' style='width:300px; height:20px; vertical-align: middle;'></progress>\n",
       "      [1330/1330 09:22, Epoch 5/5]\n",
       "    </div>\n",
       "    <table border=\"1\" class=\"dataframe\">\n",
       "  <thead>\n",
       " <tr style=\"text-align: left;\">\n",
       "      <th>Epoch</th>\n",
       "      <th>Training Loss</th>\n",
       "      <th>Validation Loss</th>\n",
       "      <th>Accuracy</th>\n",
       "    </tr>\n",
       "  </thead>\n",
       "  <tbody>\n",
       "    <tr>\n",
       "      <td>1</td>\n",
       "      <td>No log</td>\n",
       "      <td>0.247565</td>\n",
       "      <td>0.916667</td>\n",
       "    </tr>\n",
       "    <tr>\n",
       "      <td>2</td>\n",
       "      <td>0.532300</td>\n",
       "      <td>0.287248</td>\n",
       "      <td>0.920242</td>\n",
       "    </tr>\n",
       "    <tr>\n",
       "      <td>3</td>\n",
       "      <td>0.532300</td>\n",
       "      <td>0.433927</td>\n",
       "      <td>0.919692</td>\n",
       "    </tr>\n",
       "    <tr>\n",
       "      <td>4</td>\n",
       "      <td>0.086900</td>\n",
       "      <td>0.477492</td>\n",
       "      <td>0.924367</td>\n",
       "    </tr>\n",
       "    <tr>\n",
       "      <td>5</td>\n",
       "      <td>0.086900</td>\n",
       "      <td>0.517755</td>\n",
       "      <td>0.924092</td>\n",
       "    </tr>\n",
       "  </tbody>\n",
       "</table><p>"
      ],
      "text/plain": [
       "<IPython.core.display.HTML object>"
      ]
     },
     "metadata": {},
     "output_type": "display_data"
    }
   ],
   "source": [
    "trainer.train()\n",
    "# Save the best model and the tokenizer to disk.\n",
    "trainer.save_model(model_output_dir)\n",
    "tokenizer.save_pretrained(model_output_dir)"
   ]
  },
  {
   "cell_type": "markdown",
   "metadata": {},
   "source": [
    "Optional: Upload the model to HuggingFace Hub."
   ]
  },
  {
   "cell_type": "code",
   "execution_count": null,
   "metadata": {},
   "outputs": [],
   "source": [
    "REPOSITORY_NAME = f\"ajayat/{MODEL_BASENAME}-finetuned\"\n",
    "\n",
    "trainer.model.push_to_hub(REPOSITORY_NAME, private=True)\n",
    "tokenizer.push_to_hub(REPOSITORY_NAME)"
   ]
  },
  {
   "cell_type": "markdown",
   "metadata": {
    "id": "Wl19KSO2K5PP"
   },
   "source": [
    "### Evaluation & Visualization"
   ]
  },
  {
   "cell_type": "markdown",
   "metadata": {},
   "source": [
    "Load the model to evaluate and compute accuracy on the challenge validation set."
   ]
  },
  {
   "cell_type": "code",
   "execution_count": null,
   "metadata": {
    "id": "OvK1-BMbj7w4"
   },
   "outputs": [
    {
     "data": {
      "text/html": [],
      "text/plain": [
       "<IPython.core.display.HTML object>"
      ]
     },
     "metadata": {},
     "output_type": "display_data"
    },
    {
     "name": "stdout",
     "output_type": "stream",
     "text": [
      "\n",
      "Accuracy: 0.856\n"
     ]
    }
   ],
   "source": [
    "FINETUNED_MODEL = f\"ajayat/{MODEL_BASENAME}-finetuned\"\n",
    "model = AutoModelForSequenceClassification.from_pretrained(FINETUNED_MODEL, num_labels=3)\n",
    "\n",
    "training_args = TrainingArguments(\n",
    "    output_dir=\"/tmp\",\n",
    "    per_device_eval_batch_size=16,\n",
    "    report_to='none'\n",
    ")\n",
    "trainer = Trainer(model=model.to(device), args=training_args)\n",
    "\n",
    "# Compute accuracy\n",
    "pred = trainer.predict(challenge_val_tokenized)\n",
    "y_true = challenge_val['label']\n",
    "y_pred = np.argmax(pred.predictions, axis=-1)\n",
    "\n",
    "accuracy = accuracy_score(y_true, y_pred)\n",
    "print(f\"\\nAccuracy: {accuracy:.3f}\")"
   ]
  },
  {
   "cell_type": "markdown",
   "metadata": {
    "id": "mNVClqebLOXF"
   },
   "source": [
    "Display the confusion matrix using `seaborn`."
   ]
  },
  {
   "cell_type": "code",
   "execution_count": 25,
   "metadata": {
    "id": "_d1sOBH1LDcQ"
   },
   "outputs": [
    {
     "data": {
      "image/png": "[encoded data removed]",
      "text/plain": [
       "<Figure size 800x600 with 2 Axes>"
      ]
     },
     "metadata": {},
     "output_type": "display_data"
    }
   ],
   "source": [
    "plt.figure(figsize=(8,6))\n",
    "sns.heatmap(confusion_matrix(y_true, y_pred),\n",
    "            annot=True,\n",
    "            fmt='d',\n",
    "            cmap='Blues',\n",
    "            xticklabels=['Entailment', 'Neutral', 'Contradiction'],\n",
    "            yticklabels=['Entailment', 'Neutral', 'Contradiction'])\n",
    "plt.title('Confusion Matrix')\n",
    "plt.xlabel('Predicted')\n",
    "plt.ylabel('True')\n",
    "plt.show()"
   ]
  },
  {
   "cell_type": "code",
   "execution_count": 26,
   "metadata": {
    "id": "jF49SrkCLWO7"
   },
   "outputs": [
    {
     "name": "stdout",
     "output_type": "stream",
     "text": [
      "\n",
      "Classification Report:\n",
      "               precision    recall  f1-score   support\n",
      "\n",
      "   Entailment       0.90      0.81      0.85      1263\n",
      "      Neutral       0.78      0.85      0.81      1144\n",
      "Contradiction       0.89      0.91      0.90      1229\n",
      "\n",
      "     accuracy                           0.86      3636\n",
      "    macro avg       0.86      0.86      0.86      3636\n",
      " weighted avg       0.86      0.86      0.86      3636\n",
      "\n"
     ]
    }
   ],
   "source": [
    "print(\"\\nClassification Report:\")\n",
    "print(classification_report(y_true, y_pred, target_names=['Entailment', 'Neutral', 'Contradiction']))"
   ]
  },
  {
   "cell_type": "markdown",
   "metadata": {},
   "source": [
    "#### Submission file for Kaggle (Optional)"
   ]
  },
  {
   "cell_type": "code",
   "execution_count": null,
   "metadata": {},
   "outputs": [],
   "source": [
    "df_test = pd.read_csv(ROOT_PATH / \"data/train.csv\")\n",
    "test_tokenized = Dataset.from_pandas(df_test).map(tokenize_function, batched=True)\n",
    "# Compute predictions\n",
    "pred = trainer.predict(test_tokenized)\n",
    "\n",
    "# Create submission csv file\n",
    "submission = df_test.id.copy().to_frame()\n",
    "submission[\"prediction\"] = np.argmax(pred.predictions, axis=1)\n",
    "\n",
    "submission.to_csv(ROOT_PATH / \"data/submission.csv\", index=False)\n",
    "print(\"\\nSubmission file saved.\")"
   ]
  },
  {
   "cell_type": "markdown",
   "metadata": {},
   "source": [
    "### Conclusion\n",
    "\n",
    "We first fine-tuned a pre-trained model on the full MNLI dataset, followed by further training on a 1M-example subset of the XNLI dataset. This approach gives a validation accuracy of 0.853 on the challenge dataset.\n",
    "\n",
    "In a separate experiment, we fine-tuned an already pre-trained HuggingFace model `joeddav/xlm-roberta-large-xnli` directly on the challenge dataset. This method achieved a slightly higher test accuracy of 0.914 on the Kaggle competition dataset, placing us 10th on the leaderboard.\n",
    "\n",
    "#### Beyond\n",
    "\n",
    "- **Finetuning**: We can try to finetune `xlm-roberta-large` on the full XNLI dataset, which is +5M examples. Or try others hyperparameters.\n",
    "\n",
    "- **Optimization**: We can use `optimum` and `onnx` libraries to optimize the model for inference, using various optimization techniques such taht `quantization` which speedup the inference time."
   ]
  }
 ],
 "metadata": {
  "colab": {
   "provenance": []
  },
  "kernelspec": {
   "display_name": ".venv",
   "language": "python",
   "name": "python3"
  },
  "language_info": {
   "codemirror_mode": {
    "name": "ipython",
    "version": 3
   },
   "file_extension": ".py",
   "mimetype": "text/x-python",
   "name": "python",
   "nbconvert_exporter": "python",
   "pygments_lexer": "ipython3",
   "version": "3.11.11"
  }
 },
 "nbformat": 4,
 "nbformat_minor": 1
}
