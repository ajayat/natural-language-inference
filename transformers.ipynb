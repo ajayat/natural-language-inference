{
 "cells": [
  {
   "cell_type": "markdown",
   "metadata": {
    "id": "9hPbP053j7wy"
   },
   "source": [
    "# Natural Language Inference\n",
    "\n",
    "This Jupyter Notebook fine-tunes `microsoft/xlm-roberta-large` on many NLI datasets.\n",
    "It includes data loading, preprocessing, data augmentation, model training, evaluation, and visualization."
   ]
  },
  {
   "cell_type": "markdown",
   "metadata": {
    "id": "kb4jC0vEj7w0"
   },
   "source": [
    "### Environment\n",
    "\n",
    "This notebook was executed on a local Jupyter server in a LXC connected to 4 GPUs `NVIDIA XM4 A100 80GB` to train models."
   ]
  },
  {
   "cell_type": "markdown",
   "metadata": {},
   "source": [
    "#### Install dependencies"
   ]
  },
  {
   "cell_type": "code",
   "execution_count": 1,
   "metadata": {
    "id": "mqhGjxHoj7w0"
   },
   "outputs": [
    {
     "name": "stdout",
     "output_type": "stream",
     "text": [
      "Note: you may need to restart the kernel to use updated packages.\n",
      "Note: you may need to restart the kernel to use updated packages.\n"
     ]
    }
   ],
   "source": [
    "%pip install -qU pandas seaborn matplotlib scikit-learn datasets evaluate\n",
    "%pip install -qU \"transformers[torch]\" \"numpy<2.0\""
   ]
  },
  {
   "cell_type": "code",
   "execution_count": 2,
   "metadata": {},
   "outputs": [],
   "source": [
    "# Define environment variables\n",
    "!export PYTORCH_CUDA_ALLOC_CONF=expandable_segments:True\n",
    "!export TOKENIZERS_PARALLELISM=false"
   ]
  },
  {
   "cell_type": "markdown",
   "metadata": {
    "id": "VbTlBIhLj7w1"
   },
   "source": [
    "#### Import libraries"
   ]
  },
  {
   "cell_type": "code",
   "execution_count": 3,
   "metadata": {
    "id": "tw4RAm1zj7w1"
   },
   "outputs": [],
   "source": [
    "import os\n",
    "import warnings\n",
    "from pathlib import Path\n",
    "from tqdm import tqdm\n",
    "\n",
    "import numpy as np\n",
    "import pandas as pd\n",
    "import matplotlib.pyplot as plt\n",
    "\n",
    "import torch\n",
    "from torch.utils.data import DataLoader\n",
    "from datasets import Dataset, concatenate_datasets, load_dataset\n",
    "from transformers import AutoTokenizer, Trainer, TrainingArguments, TrainerCallback"
   ]
  },
  {
   "cell_type": "markdown",
   "metadata": {},
   "source": [
    "Define some constants depending on the environment and backend."
   ]
  },
  {
   "cell_type": "code",
   "execution_count": 4,
   "metadata": {},
   "outputs": [
    {
     "name": "stdout",
     "output_type": "stream",
     "text": [
      "GPU: NVIDIA A100-SXM4-80GB (x4)\n"
     ]
    }
   ],
   "source": [
    "ROOT_PATH = Path.cwd()\n",
    "MODEL_DIR = ROOT_PATH / \"models\"\n",
    "PRETRAINED_MODEL_NAME = \"FacebookAI/xlm-roberta-large\"\n",
    "\n",
    "if torch.cuda.is_available():\n",
    "    device = torch.device(\"cuda\")\n",
    "    torch.backends.cuda.matmul.allow_bf16_reduced_precision_reduction = True\n",
    "    print(f\"GPU: {torch.cuda.get_device_name()} (x{torch.cuda.device_count()})\")\n",
    "else:\n",
    "    device = torch.device(\"cpu\")\n",
    "\n",
    "local_rank = int(os.environ.get(\"LOCAL_RANK\", -1))\n",
    "warnings.filterwarnings(\"ignore\", message=\".*Was asked to gather along dimension 0.*\")"
   ]
  },
  {
   "cell_type": "markdown",
   "metadata": {
    "id": "_U6tDwWAj7w1"
   },
   "source": [
    "### Preprocessing"
   ]
  },
  {
   "cell_type": "markdown",
   "metadata": {},
   "source": [
    "#### Tokenizer"
   ]
  },
  {
   "cell_type": "code",
   "execution_count": 5,
   "metadata": {},
   "outputs": [],
   "source": [
    "tokenizer = AutoTokenizer.from_pretrained(PRETRAINED_MODEL_NAME)\n",
    "\n",
    "def tokenize(row, max_length=510):\n",
    "    \"\"\"Pre-processing class to handle text tokenization.\"\"\"\n",
    "    return tokenizer(\n",
    "        row['premise'], \n",
    "        row['hypothesis'],\n",
    "        padding='max_length', \n",
    "        truncation=True, \n",
    "        max_length=max_length, # Default: 512 - 2 tokens for CLS and SEP\n",
    "        return_tensors=\"pt\"    # Return PyTorch tensors\n",
    "    )"
   ]
  },
  {
   "cell_type": "markdown",
   "metadata": {},
   "source": [
    "#### Challenge dataset"
   ]
  },
  {
   "cell_type": "code",
   "execution_count": 6,
   "metadata": {
    "id": "roW0dM9Mj7w1"
   },
   "outputs": [
    {
     "data": {
      "application/vnd.jupyter.widget-view+json": {
       "model_id": "ad00118545e34b69aed0b685a61b9022",
       "version_major": 2,
       "version_minor": 0
      },
      "text/plain": [
       "Map:   0%|          | 0/8484 [00:00<?, ? examples/s]"
      ]
     },
     "metadata": {},
     "output_type": "display_data"
    },
    {
     "data": {
      "application/vnd.jupyter.widget-view+json": {
       "model_id": "9695eaf054a241acb2f608f86a29906a",
       "version_major": 2,
       "version_minor": 0
      },
      "text/plain": [
       "Map:   0%|          | 0/3636 [00:00<?, ? examples/s]"
      ]
     },
     "metadata": {},
     "output_type": "display_data"
    },
    {
     "data": {
      "application/vnd.jupyter.widget-view+json": {
       "model_id": "4256e733329845fb95284c793754c954",
       "version_major": 2,
       "version_minor": 0
      },
      "text/plain": [
       "Map:   0%|          | 0/5195 [00:00<?, ? examples/s]"
      ]
     },
     "metadata": {},
     "output_type": "display_data"
    },
    {
     "data": {
      "text/html": [
       "<div>\n",
       "<style scoped>\n",
       "    .dataframe tbody tr th:only-of-type {\n",
       "        vertical-align: middle;\n",
       "    }\n",
       "\n",
       "    .dataframe tbody tr th {\n",
       "        vertical-align: top;\n",
       "    }\n",
       "\n",
       "    .dataframe thead th {\n",
       "        text-align: right;\n",
       "    }\n",
       "</style>\n",
       "<table border=\"1\" class=\"dataframe\">\n",
       "  <thead>\n",
       "    <tr style=\"text-align: right;\">\n",
       "      <th></th>\n",
       "      <th>id</th>\n",
       "      <th>premise</th>\n",
       "      <th>hypothesis</th>\n",
       "      <th>lang_abv</th>\n",
       "      <th>language</th>\n",
       "      <th>label</th>\n",
       "    </tr>\n",
       "  </thead>\n",
       "  <tbody>\n",
       "    <tr>\n",
       "      <th>7534</th>\n",
       "      <td>3366628981</td>\n",
       "      <td>Upriver, east of Blois, in a huge densely wood...</td>\n",
       "      <td>The woods are full of dangerous creatures, whi...</td>\n",
       "      <td>en</td>\n",
       "      <td>English</td>\n",
       "      <td>1</td>\n",
       "    </tr>\n",
       "    <tr>\n",
       "      <th>794</th>\n",
       "      <td>3293210c58</td>\n",
       "      <td>Be sure to look around and compare before buying.</td>\n",
       "      <td>Don't consider and compare before buying.</td>\n",
       "      <td>en</td>\n",
       "      <td>English</td>\n",
       "      <td>2</td>\n",
       "    </tr>\n",
       "    <tr>\n",
       "      <th>1875</th>\n",
       "      <td>3456f365b8</td>\n",
       "      <td>oh constantly</td>\n",
       "      <td>I jog constantly</td>\n",
       "      <td>en</td>\n",
       "      <td>English</td>\n",
       "      <td>1</td>\n",
       "    </tr>\n",
       "    <tr>\n",
       "      <th>743</th>\n",
       "      <td>fe503f3231</td>\n",
       "      <td>eThe number of deletions was negligible.</td>\n",
       "      <td>The precise number of deletions was 71.</td>\n",
       "      <td>en</td>\n",
       "      <td>English</td>\n",
       "      <td>1</td>\n",
       "    </tr>\n",
       "    <tr>\n",
       "      <th>1206</th>\n",
       "      <td>38b89457d6</td>\n",
       "      <td>In these cases, participants risk losing not o...</td>\n",
       "      <td>Participants have no risk in losing their job ...</td>\n",
       "      <td>en</td>\n",
       "      <td>English</td>\n",
       "      <td>2</td>\n",
       "    </tr>\n",
       "    <tr>\n",
       "      <th>6135</th>\n",
       "      <td>19409bfbf1</td>\n",
       "      <td>当出现这种情况时，贷款基金会在其投资余额中牺牲国债证券的利息，而从贷款金额中获得借款基金的利息。</td>\n",
       "      <td>贷款基金始终保证9％的利息。</td>\n",
       "      <td>zh</td>\n",
       "      <td>Chinese</td>\n",
       "      <td>2</td>\n",
       "    </tr>\n",
       "    <tr>\n",
       "      <th>3159</th>\n",
       "      <td>30994231ec</td>\n",
       "      <td>Benchmarked by U.S.</td>\n",
       "      <td>The benchmark is notable.</td>\n",
       "      <td>en</td>\n",
       "      <td>English</td>\n",
       "      <td>1</td>\n",
       "    </tr>\n",
       "    <tr>\n",
       "      <th>8756</th>\n",
       "      <td>e7538b24d7</td>\n",
       "      <td>hi Cynthia what did you wear to work today</td>\n",
       "      <td>I was wondering, what did you wear to work tod...</td>\n",
       "      <td>en</td>\n",
       "      <td>English</td>\n",
       "      <td>0</td>\n",
       "    </tr>\n",
       "    <tr>\n",
       "      <th>2014</th>\n",
       "      <td>e794080355</td>\n",
       "      <td>کینیت سٹار کا وقت کی پروفائل اس کو قدامت پرست،...</td>\n",
       "      <td>کینتھ سٹار ایک لبرل'شرمیلا اور پرجوش کھلاڑی دی...</td>\n",
       "      <td>ur</td>\n",
       "      <td>Urdu</td>\n",
       "      <td>2</td>\n",
       "    </tr>\n",
       "    <tr>\n",
       "      <th>1800</th>\n",
       "      <td>114ad7aa0e</td>\n",
       "      <td>It describes six applications of case study me...</td>\n",
       "      <td>There are just two applications for case study...</td>\n",
       "      <td>en</td>\n",
       "      <td>English</td>\n",
       "      <td>2</td>\n",
       "    </tr>\n",
       "  </tbody>\n",
       "</table>\n",
       "</div>"
      ],
      "text/plain": [
       "              id                                            premise  \\\n",
       "7534  3366628981  Upriver, east of Blois, in a huge densely wood...   \n",
       "794   3293210c58  Be sure to look around and compare before buying.   \n",
       "1875  3456f365b8                                      oh constantly   \n",
       "743   fe503f3231           eThe number of deletions was negligible.   \n",
       "1206  38b89457d6  In these cases, participants risk losing not o...   \n",
       "6135  19409bfbf1   当出现这种情况时，贷款基金会在其投资余额中牺牲国债证券的利息，而从贷款金额中获得借款基金的利息。   \n",
       "3159  30994231ec                                Benchmarked by U.S.   \n",
       "8756  e7538b24d7         hi Cynthia what did you wear to work today   \n",
       "2014  e794080355  کینیت سٹار کا وقت کی پروفائل اس کو قدامت پرست،...   \n",
       "1800  114ad7aa0e  It describes six applications of case study me...   \n",
       "\n",
       "                                             hypothesis lang_abv language  \\\n",
       "7534  The woods are full of dangerous creatures, whi...       en  English   \n",
       "794           Don't consider and compare before buying.       en  English   \n",
       "1875                                   I jog constantly       en  English   \n",
       "743             The precise number of deletions was 71.       en  English   \n",
       "1206  Participants have no risk in losing their job ...       en  English   \n",
       "6135                                     贷款基金始终保证9％的利息。       zh  Chinese   \n",
       "3159                          The benchmark is notable.       en  English   \n",
       "8756  I was wondering, what did you wear to work tod...       en  English   \n",
       "2014  کینتھ سٹار ایک لبرل'شرمیلا اور پرجوش کھلاڑی دی...       ur     Urdu   \n",
       "1800  There are just two applications for case study...       en  English   \n",
       "\n",
       "      label  \n",
       "7534      1  \n",
       "794       2  \n",
       "1875      1  \n",
       "743       1  \n",
       "1206      2  \n",
       "6135      2  \n",
       "3159      1  \n",
       "8756      0  \n",
       "2014      2  \n",
       "1800      2  "
      ]
     },
     "execution_count": 6,
     "metadata": {},
     "output_type": "execute_result"
    }
   ],
   "source": [
    "df = pd.read_csv(ROOT_PATH / \"data/train.csv\")\n",
    "\n",
    "# Train-test spliting\n",
    "challenge_dataset = Dataset.from_pandas(df).train_test_split(test_size=0.3, seed=0)\n",
    "challenge_train = challenge_dataset['train'].map(tokenize, batched=True)\n",
    "challenge_val = challenge_dataset['test'].map(tokenize, batched=True)\n",
    "\n",
    "# Test dataset provided by the Kaggle challenge\n",
    "df_test = pd.read_csv(ROOT_PATH / \"data/test.csv\")\n",
    "challenge_test = Dataset.from_pandas(df_test).map(tokenize, batched=True)\n",
    "\n",
    "# Inspect the train dataset with 10 random row\n",
    "df.sample(10)"
   ]
  },
  {
   "cell_type": "markdown",
   "metadata": {
    "id": "w4XYZOceWvJ4"
   },
   "source": [
    "Display label distribution: the dataset is evenly distributed across all labels."
   ]
  },
  {
   "cell_type": "code",
   "execution_count": 6,
   "metadata": {
    "id": "iI0wu0VxWt7m"
   },
   "outputs": [
    {
     "data": {
      "image/png": "[encoded data removed]",
      "text/plain": [
       "<Figure size 1000x600 with 1 Axes>"
      ]
     },
     "metadata": {},
     "output_type": "display_data"
    }
   ],
   "source": [
    "df.label.value_counts().plot(kind=\"bar\", figsize=(10, 6), title=\"Pair-wise sentences distribution\")\n",
    "plt.show()"
   ]
  },
  {
   "cell_type": "markdown",
   "metadata": {
    "id": "m_JGmdbPXSxg"
   },
   "source": [
    "However, the dataset predominantly consists of English sentences."
   ]
  },
  {
   "cell_type": "code",
   "execution_count": 7,
   "metadata": {
    "id": "xJcuSwR9VIZm"
   },
   "outputs": [
    {
     "data": {
      "image/png": "[encoded data removed]",
      "text/plain": [
       "<Figure size 1000x1000 with 1 Axes>"
      ]
     },
     "metadata": {},
     "output_type": "display_data"
    }
   ],
   "source": [
    "df.language.value_counts().plot(\n",
    "    kind=\"pie\", \n",
    "    figsize=(10, 10), \n",
    "    autopct='%1.1f%%', \n",
    "    title=\"Languages distribution\"\n",
    ")\n",
    "plt.show()"
   ]
  },
  {
   "cell_type": "markdown",
   "metadata": {},
   "source": [
    "#### MNLI dataset\n",
    "\n",
    "We use `matched` version of validation and test splits because the dataset from the Challenge seems to match the same genre."
   ]
  },
  {
   "cell_type": "code",
   "execution_count": 7,
   "metadata": {},
   "outputs": [],
   "source": [
    "mnli_dataset = load_dataset(\"nyu-mll/glue\", \"mnli\")\n",
    "# Preprocess each split\n",
    "mnli_train = mnli_dataset['train'].map(tokenize, batched=True)\n",
    "mnli_dev = mnli_dataset['validation_matched'].map(tokenize, batched=True)\n",
    "mnli_test = mnli_dataset['test_matched'].map(tokenize, batched=True)"
   ]
  },
  {
   "cell_type": "markdown",
   "metadata": {},
   "source": [
    "#### XNLI dataset\n",
    "\n",
    "- [XNLI: Evaluating Cross-lingual Sentence Representations](https://aclanthology.org/D18-1269/) (Conneau et al., EMNLP 2018)\n",
    "- [XNLI Construction Details](https://mayhewsw.github.io/2020/11/26/xnli-details/)"
   ]
  },
  {
   "cell_type": "code",
   "execution_count": 8,
   "metadata": {},
   "outputs": [
    {
     "data": {
      "application/vnd.jupyter.widget-view+json": {
       "model_id": "76186f698a1149f38c9daf8f341207d3",
       "version_major": 2,
       "version_minor": 0
      },
      "text/plain": [
       "Map:   0%|          | 0/1999998 [00:00<?, ? examples/s]"
      ]
     },
     "metadata": {},
     "output_type": "display_data"
    }
   ],
   "source": [
    "MAX_NUMBER_OF_EXAMPLES = 2_000_000  # Limit the number of examples as the dataset is very large\n",
    "\n",
    "def load_xnli_datasets(languages: list, split=\"train\"):\n",
    "    max_dataset_length = MAX_NUMBER_OF_EXAMPLES // len(languages)\n",
    "    datasets = []\n",
    "    for lang in languages:\n",
    "        xnli_lang = load_dataset(\"facebook/xnli\", lang, split=split)\n",
    "        xnli_lang = xnli_lang.select(range(min(len(xnli_lang), max_dataset_length)))\n",
    "        xnli_lang = xnli_lang.add_column(\"lang_abv\", [lang] * len(xnli_lang))\n",
    "        datasets.append(xnli_lang)\n",
    "\n",
    "    dataset = concatenate_datasets(datasets).shuffle(seed=0)\n",
    "    return dataset.map(tokenize, batched=True)\n",
    "\n",
    "# The 'en' train dataset is actually the MNLI train set\n",
    "languages = ['ar','bg','de','el','es','fr','hi','ru','sw','th','tr','ur','vi','zh']\n",
    "# Preprocess each split\n",
    "xnli_train = load_xnli_datasets(languages, split=\"train\")\n",
    "xnli_val = load_xnli_datasets(languages, split=\"validation\")\n",
    "xnli_test = load_xnli_datasets(languages, split=\"test\")"
   ]
  },
  {
   "cell_type": "markdown",
   "metadata": {},
   "source": [
    "### Model\n",
    "We use `XLM-RoBERTa` model from `transformers` library and add a classification head on top of it."
   ]
  },
  {
   "cell_type": "code",
   "execution_count": 8,
   "metadata": {},
   "outputs": [
    {
     "name": "stderr",
     "output_type": "stream",
     "text": [
      "Some weights of XLMRobertaWithMeanPooling were not initialized from the model checkpoint at FacebookAI/xlm-roberta-large and are newly initialized: ['classifier.dense.bias', 'classifier.dense.weight', 'classifier.out_proj.bias', 'classifier.out_proj.weight']\n",
      "You should probably TRAIN this model on a down-stream task to be able to use it for predictions and inference.\n"
     ]
    },
    {
     "data": {
      "text/plain": [
       "XLMRobertaWithMeanPooling(\n",
       "  (roberta): XLMRobertaModel(\n",
       "    (embeddings): XLMRobertaEmbeddings(\n",
       "      (word_embeddings): Embedding(250002, 1024, padding_idx=1)\n",
       "      (position_embeddings): Embedding(514, 1024, padding_idx=1)\n",
       "      (token_type_embeddings): Embedding(1, 1024)\n",
       "      (LayerNorm): LayerNorm((1024,), eps=1e-05, elementwise_affine=True)\n",
       "      (dropout): Dropout(p=0.1, inplace=False)\n",
       "    )\n",
       "    (encoder): XLMRobertaEncoder(\n",
       "      (layer): ModuleList(\n",
       "        (0-23): 24 x XLMRobertaLayer(\n",
       "          (attention): XLMRobertaAttention(\n",
       "            (self): XLMRobertaSdpaSelfAttention(\n",
       "              (query): Linear(in_features=1024, out_features=1024, bias=True)\n",
       "              (key): Linear(in_features=1024, out_features=1024, bias=True)\n",
       "              (value): Linear(in_features=1024, out_features=1024, bias=True)\n",
       "              (dropout): Dropout(p=0.1, inplace=False)\n",
       "            )\n",
       "            (output): XLMRobertaSelfOutput(\n",
       "              (dense): Linear(in_features=1024, out_features=1024, bias=True)\n",
       "              (LayerNorm): LayerNorm((1024,), eps=1e-05, elementwise_affine=True)\n",
       "              (dropout): Dropout(p=0.1, inplace=False)\n",
       "            )\n",
       "          )\n",
       "          (intermediate): XLMRobertaIntermediate(\n",
       "            (dense): Linear(in_features=1024, out_features=4096, bias=True)\n",
       "            (intermediate_act_fn): GELUActivation()\n",
       "          )\n",
       "          (output): XLMRobertaOutput(\n",
       "            (dense): Linear(in_features=4096, out_features=1024, bias=True)\n",
       "            (LayerNorm): LayerNorm((1024,), eps=1e-05, elementwise_affine=True)\n",
       "            (dropout): Dropout(p=0.1, inplace=False)\n",
       "          )\n",
       "        )\n",
       "      )\n",
       "    )\n",
       "  )\n",
       "  (classifier): XLMRobertaClassificationHeadWithMeanPooling(\n",
       "    (avg_pool): AdaptiveAvgPool1d(output_size=1)\n",
       "    (dense): Linear(in_features=1024, out_features=1024, bias=True)\n",
       "    (dropout): Dropout(p=0.1, inplace=False)\n",
       "    (out_proj): Linear(in_features=1024, out_features=3, bias=True)\n",
       "  )\n",
       ")"
      ]
     },
     "execution_count": 8,
     "metadata": {},
     "output_type": "execute_result"
    }
   ],
   "source": [
    "import torch.nn as nn\n",
    "from transformers.models.xlm_roberta.modeling_xlm_roberta import (\n",
    "    XLMRobertaModel, XLMRobertaForSequenceClassification\n",
    ")\n",
    "\n",
    "class XLMRobertaClassificationHeadWithMeanPooling(nn.Module):\n",
    "    \"\"\"Custom head for sentence-level classification tasks.\"\"\"\n",
    "    def __init__(self, config):\n",
    "        super().__init__()\n",
    "        self.avg_pool = nn.AdaptiveAvgPool1d(1)\n",
    "        self.dense = nn.Linear(config.hidden_size, config.hidden_size)\n",
    "        if config.classifier_dropout is not None:\n",
    "            self.dropout = nn.Dropout(config.classifier_dropout)\n",
    "        else:\n",
    "            self.dropout = nn.Dropout(config.hidden_dropout_prob)\n",
    "        self.out_proj = nn.Linear(config.hidden_size, config.num_labels)\n",
    "\n",
    "    def forward(self, features, **kwargs):\n",
    "        # Average pooling instead of taking the <s> token (equiv. to [CLS])\n",
    "        x = self.avg_pool(features.permute(0, 2, 1)).squeeze(-1) \n",
    "        x = self.dropout(x)\n",
    "        x = self.dense(x)\n",
    "        x = nn.functional.gelu(x)   # Default: torch.tanh(x)\n",
    "        x = self.dropout(x)\n",
    "        x = self.out_proj(x)\n",
    "        return x\n",
    "\n",
    "class XLMRobertaWithMeanPooling(XLMRobertaForSequenceClassification):\n",
    "    def __init__(self, config):\n",
    "        super().__init__(config)\n",
    "        self.num_labels = config.num_labels\n",
    "        self.config = config\n",
    "        self.roberta = XLMRobertaModel(config, add_pooling_layer=False)\n",
    "        self.classifier = XLMRobertaClassificationHeadWithMeanPooling(config)\n",
    "        # Initialize weights and apply final processing\n",
    "        self.post_init()\n",
    "        \n",
    "\n",
    "model = XLMRobertaWithMeanPooling.from_pretrained(PRETRAINED_MODEL_NAME, num_labels=3)\n",
    "model.to(device)  # Move model to GPU if available"
   ]
  },
  {
   "cell_type": "markdown",
   "metadata": {},
   "source": [
    "### Finetuning\n",
    "\n",
    "Training and evaluation use the `Trainer` API from the `transformers`. \n",
    "\n",
    "These paper helps to choice a strategy for training on multilingual NLI task:\n",
    "- [How to Fine-Tune BERT for Text Classification](https://arxiv.org/pdf/1905.05583)\n",
    "- [Unsupervised Cross-lingual Representation Learning at Scale, Facebook AI](https://aclanthology.org/2020.acl-main.747.pdf)\n",
    "- [Training Dynamics for Curriculum Learning: A Study on Monolingual and Cross-lingual NLU](https://aclanthology.org/2022.emnlp-main.167.pdf)."
   ]
  },
  {
   "cell_type": "code",
   "execution_count": 9,
   "metadata": {},
   "outputs": [],
   "source": [
    "from sklearn.metrics import accuracy_score\n",
    "\n",
    "def compute_metrics(eval_pred):\n",
    "    \"\"\"Compute accuracy on the validation set.\"\"\"\n",
    "    y_pred = np.argmax(eval_pred.predictions, axis=1)\n",
    "    return {\"accuracy\": accuracy_score(y_pred, eval_pred.label_ids)}\n",
    "\n",
    "class FullEvalAtEpochEndCallback(TrainerCallback):\n",
    "    def on_epoch_end(self, args, state, control, **kwargs):\n",
    "        control.should_evaluate = True\n",
    "        return control"
   ]
  },
  {
   "cell_type": "markdown",
   "metadata": {
    "id": "ZBykOxZDj7w3"
   },
   "source": [
    "#### Training (XNLI)\n",
    "\n",
    "Finetune the model on the MNLI and XNLI dataset. Enable recommended [Optimizations for A100 GPUs](https://servicedesk.surf.nl/wiki/spaces/WIKI/pages/30668820/Deep+Learning+on+A100+GPUs).\n",
    "\n",
    "**Architecture:**  \n",
    "- `xml-roberta-large` pre-trained model from Hugging Face\n",
    "- Train on 1 EPOCH only: [One Epoch Is All You Need](https://arxiv.org/abs/1906.06669)"
   ]
  },
  {
   "cell_type": "code",
   "execution_count": 12,
   "metadata": {},
   "outputs": [
    {
     "data": {
      "text/html": [
       "\n",
       "    <div>\n",
       "      \n",
       "      <progress value='74772' max='74772' style='width:300px; height:20px; vertical-align: middle;'></progress>\n",
       "      [74772/74772 5:32:13, Epoch 1/1]\n",
       "    </div>\n",
       "    <table border=\"1\" class=\"dataframe\">\n",
       "  <thead>\n",
       " <tr style=\"text-align: left;\">\n",
       "      <th>Step</th>\n",
       "      <th>Training Loss</th>\n",
       "      <th>Validation Loss</th>\n",
       "      <th>Accuracy</th>\n",
       "    </tr>\n",
       "  </thead>\n",
       "  <tbody>\n",
       "    <tr>\n",
       "      <td>5000</td>\n",
       "      <td>0.603100</td>\n",
       "      <td>0.550588</td>\n",
       "      <td>0.788009</td>\n",
       "    </tr>\n",
       "    <tr>\n",
       "      <td>10000</td>\n",
       "      <td>0.578200</td>\n",
       "      <td>0.552192</td>\n",
       "      <td>0.781698</td>\n",
       "    </tr>\n",
       "    <tr>\n",
       "      <td>15000</td>\n",
       "      <td>0.546000</td>\n",
       "      <td>0.572966</td>\n",
       "      <td>0.786087</td>\n",
       "    </tr>\n",
       "    <tr>\n",
       "      <td>20000</td>\n",
       "      <td>0.512300</td>\n",
       "      <td>0.515901</td>\n",
       "      <td>0.800861</td>\n",
       "    </tr>\n",
       "    <tr>\n",
       "      <td>25000</td>\n",
       "      <td>0.490600</td>\n",
       "      <td>0.517712</td>\n",
       "      <td>0.798881</td>\n",
       "    </tr>\n",
       "    <tr>\n",
       "      <td>30000</td>\n",
       "      <td>0.457600</td>\n",
       "      <td>0.513739</td>\n",
       "      <td>0.804504</td>\n",
       "    </tr>\n",
       "    <tr>\n",
       "      <td>35000</td>\n",
       "      <td>0.436700</td>\n",
       "      <td>0.531361</td>\n",
       "      <td>0.804590</td>\n",
       "    </tr>\n",
       "    <tr>\n",
       "      <td>40000</td>\n",
       "      <td>0.417400</td>\n",
       "      <td>0.504258</td>\n",
       "      <td>0.812249</td>\n",
       "    </tr>\n",
       "    <tr>\n",
       "      <td>45000</td>\n",
       "      <td>0.411900</td>\n",
       "      <td>0.513142</td>\n",
       "      <td>0.810011</td>\n",
       "    </tr>\n",
       "    <tr>\n",
       "      <td>50000</td>\n",
       "      <td>0.392200</td>\n",
       "      <td>0.507306</td>\n",
       "      <td>0.819507</td>\n",
       "    </tr>\n",
       "    <tr>\n",
       "      <td>55000</td>\n",
       "      <td>0.364400</td>\n",
       "      <td>0.529524</td>\n",
       "      <td>0.810212</td>\n",
       "    </tr>\n",
       "    <tr>\n",
       "      <td>60000</td>\n",
       "      <td>0.351000</td>\n",
       "      <td>0.542791</td>\n",
       "      <td>0.818761</td>\n",
       "    </tr>\n",
       "    <tr>\n",
       "      <td>65000</td>\n",
       "      <td>0.352000</td>\n",
       "      <td>0.540464</td>\n",
       "      <td>0.821343</td>\n",
       "    </tr>\n",
       "    <tr>\n",
       "      <td>70000</td>\n",
       "      <td>0.323200</td>\n",
       "      <td>0.545704</td>\n",
       "      <td>0.819564</td>\n",
       "    </tr>\n",
       "    <tr>\n",
       "      <td>74772</td>\n",
       "      <td>0.321000</td>\n",
       "      <td>0.550601</td>\n",
       "      <td>0.823293</td>\n",
       "    </tr>\n",
       "  </tbody>\n",
       "</table><p>"
      ],
      "text/plain": [
       "<IPython.core.display.HTML object>"
      ]
     },
     "metadata": {},
     "output_type": "display_data"
    },
    {
     "name": "stderr",
     "output_type": "stream",
     "text": [
      "IOPub message rate exceeded.\n",
      "The notebook server will temporarily stop sending output\n",
      "to the client in order to avoid crashing it.\n",
      "To change this limit, set the config variable\n",
      "`--NotebookApp.iopub_msg_rate_limit`.\n",
      "\n",
      "Current values:\n",
      "NotebookApp.iopub_msg_rate_limit=1000.0 (msgs/sec)\n",
      "NotebookApp.rate_limit_window=3.0 (secs)\n",
      "\n",
      "IOPub message rate exceeded.\n",
      "The notebook server will temporarily stop sending output\n",
      "to the client in order to avoid crashing it.\n",
      "To change this limit, set the config variable\n",
      "`--NotebookApp.iopub_msg_rate_limit`.\n",
      "\n",
      "Current values:\n",
      "NotebookApp.iopub_msg_rate_limit=1000.0 (msgs/sec)\n",
      "NotebookApp.rate_limit_window=3.0 (secs)\n",
      "\n"
     ]
    },
    {
     "data": {
      "text/plain": [
       "('/home/adrien/Natural Language Inference/models/xlm-roberta-large-mnli-xnli/tokenizer_config.json',\n",
       " '/home/adrien/Natural Language Inference/models/xlm-roberta-large-mnli-xnli/special_tokens_map.json',\n",
       " '/home/adrien/Natural Language Inference/models/xlm-roberta-large-mnli-xnli/sentencepiece.bpe.model',\n",
       " '/home/adrien/Natural Language Inference/models/xlm-roberta-large-mnli-xnli/added_tokens.json',\n",
       " '/home/adrien/Natural Language Inference/models/xlm-roberta-large-mnli-xnli/tokenizer.json')"
      ]
     },
     "execution_count": 12,
     "metadata": {},
     "output_type": "execute_result"
    }
   ],
   "source": [
    "XNLI_MODEL_PATH = MODEL_DIR / \"xlm-roberta-large-mnli-xnli\"\n",
    "\n",
    "training_args = TrainingArguments(\n",
    "    output_dir=XNLI_MODEL_PATH,\n",
    "    eval_strategy='steps',\n",
    "    save_strategy='steps',\n",
    "    eval_steps=1000,\n",
    "    save_steps=10000,\n",
    "    learning_rate=2e-5,\n",
    "    per_device_train_batch_size=8,\n",
    "    per_device_eval_batch_size=16,\n",
    "    num_train_epochs=1,\n",
    "    weight_decay=0.01,\n",
    "    warmup_ratio=0.1,\n",
    "    bf16=True,  # Use bfloat16 for training (supported on A100 GPUs)\n",
    "    torch_compile=True,\n",
    "    load_best_model_at_end=True,\n",
    "    metric_for_best_model='accuracy',\n",
    "    local_rank=local_rank,\n",
    "    report_to='none',  # Disabling wandb callbacks\n",
    ")\n",
    "# Concatenate the MNLI and XNLI datasets\n",
    "mnli_xnli_train = concatenate_datasets([mnli_train, xnli_train])\n",
    "\n",
    "trainer = Trainer(\n",
    "    model=model,\n",
    "    args=training_args,\n",
    "    train_dataset=mnli_xnli_train,\n",
    "    eval_dataset=xnli_val,\n",
    "    processing_class=tokenizer,\n",
    "    compute_metrics=compute_metrics,\n",
    "    callbacks=[FullEvalAtEpochEndCallback()],\n",
    ")\n",
    "trainer.train(resume_from_checkpoint=True)\n",
    "\n",
    "torch.cuda.empty_cache()  # Free some unused memory\n",
    "# Save the best model and the tokenizer to disk.\n",
    "trainer.save_model(XNLI_MODEL_PATH)\n",
    "tokenizer.save_pretrained(XNLI_MODEL_PATH)"
   ]
  },
  {
   "cell_type": "markdown",
   "metadata": {},
   "source": [
    "Upload the model to Hugging Face Hub"
   ]
  },
  {
   "cell_type": "code",
   "execution_count": null,
   "metadata": {},
   "outputs": [],
   "source": [
    "%pip install -qU huggingface-hub\n",
    "!huggingface-cli login --token \"$HF_TOKEN\""
   ]
  },
  {
   "cell_type": "code",
   "execution_count": null,
   "metadata": {},
   "outputs": [],
   "source": [
    "REPOSITORY_NAME = f\"ajayat/xlm-roberta-large-mnli-xnli\"\n",
    "\n",
    "trainer.model.push_to_hub(REPOSITORY_NAME, private=True)\n",
    "tokenizer.push_to_hub(REPOSITORY_NAME)"
   ]
  },
  {
   "cell_type": "markdown",
   "metadata": {},
   "source": [
    "#### Training (Challenge)"
   ]
  },
  {
   "cell_type": "code",
   "execution_count": null,
   "metadata": {},
   "outputs": [],
   "source": [
    "PRETRAINED_MODEL_NAME = \"joeddav/xlm-roberta-large-xnli\"\n",
    "MODEL_OUTPUT_DIR = ROOT_PATH / \"models/xlm-roberta-large-xnli\"\n",
    "\n",
    "model = XLMRobertaWithMeanPooling.from_pretrained(\n",
    "    PRETRAINED_MODEL_NAME, \n",
    "    hidden_dropout_prob=0.3,           # default 0.1\n",
    "    attention_probs_dropout_prob=0.3,  # default 0.1\n",
    "    num_labels=3\n",
    ").to(device)  # Move model to GPU if available"
   ]
  },
  {
   "cell_type": "markdown",
   "metadata": {},
   "source": [
    "Define hyperparameters and train the model on the Challenge dataset."
   ]
  },
  {
   "cell_type": "code",
   "execution_count": null,
   "metadata": {},
   "outputs": [],
   "source": [
    "training_args = TrainingArguments(\n",
    "    output_dir=MODEL_OUTPUT_DIR,\n",
    "    eval_strategy='epoch',\n",
    "    save_strategy='epoch',\n",
    "    learning_rate=2e-5,\n",
    "    per_device_train_batch_size=32,\n",
    "    per_device_eval_batch_size=32,\n",
    "    num_train_epochs=3,\n",
    "    weight_decay=0.01,\n",
    "    warmup_ratio=0.1,\n",
    "    bf16=True,  # Use bfloat16 for training (supported on A100 GPUs)\n",
    "    torch_compile=True,\n",
    "    load_best_model_at_end=True,\n",
    "    metric_for_best_model='accuracy',\n",
    "    report_to='none'  # Disabling wandb callbacks\n",
    ")\n",
    "\n",
    "trainer = Trainer(\n",
    "    model=model,\n",
    "    args=training_args,\n",
    "    train_dataset=challenge_train,\n",
    "    eval_dataset=challenge_val,\n",
    "    processing_class=tokenizer,\n",
    "    compute_metrics=compute_metrics\n",
    ")\n",
    "trainer.train()\n",
    "\n",
    "# Save the best model and the tokenizer to disk.\n",
    "trainer.save_model(MODEL_OUTPUT_DIR)\n",
    "tokenizer.save_pretrained(MODEL_OUTPUT_DIR)"
   ]
  },
  {
   "cell_type": "markdown",
   "metadata": {},
   "source": [
    "Upload the model to HuggingFace Hub. (Optional)"
   ]
  },
  {
   "cell_type": "code",
   "execution_count": null,
   "metadata": {},
   "outputs": [],
   "source": [
    "REPOSITORY_NAME = f\"ajayat/xlm-roberta-large-xnli-finetuned\"\n",
    "\n",
    "trainer.model.push_to_hub(REPOSITORY_NAME, private=True)\n",
    "tokenizer.push_to_hub(REPOSITORY_NAME)"
   ]
  },
  {
   "cell_type": "markdown",
   "metadata": {},
   "source": [
    "### Optimization\n",
    "\n",
    "We use ONNX Runtime as it is more portable than other backends for inference in CPU & GPU."
   ]
  },
  {
   "cell_type": "code",
   "execution_count": 12,
   "metadata": {},
   "outputs": [
    {
     "name": "stdout",
     "output_type": "stream",
     "text": [
      "Note: you may need to restart the kernel to use updated packages.\n"
     ]
    }
   ],
   "source": [
    "%pip install -qU onnxruntime-gpu onnxruntime-tools onnxscript \"transformers[onnx]\" \"optimum[onnxruntime]\""
   ]
  },
  {
   "cell_type": "markdown",
   "metadata": {},
   "source": [
    "#### Quantization\n",
    "\n",
    "We define a function to export a model to ONNX format and apply some optimizations, such as quantization. We observed a speedup of x5 on CPU."
   ]
  },
  {
   "cell_type": "code",
   "execution_count": 13,
   "metadata": {},
   "outputs": [
    {
     "name": "stderr",
     "output_type": "stream",
     "text": [
      "WARNING:root:Please consider to run pre-processing before quantization. Refer to example: https://github.com/microsoft/onnxruntime-inference-examples/blob/main/quantization/image_classification/cpu/ReadMe.md \n"
     ]
    },
    {
     "name": "stdout",
     "output_type": "stream",
     "text": [
      "Model exported and quantized to /home/adrien/Natural Language Inference/models/xlm-roberta-large-mnli-xnli/model.onnx!\n"
     ]
    }
   ],
   "source": [
    "import onnxruntime as ort\n",
    "from onnxruntime.quantization import quantize_dynamic\n",
    "\n",
    "def export_to_onnx(model, output_dir: Path):\n",
    "    \"\"\"Exports a pre-trained model to the ONNX format and quantizes it.\"\"\"\n",
    "    # Minimal dummy input for tracing\n",
    "    dummy_inputs = tokenize(\n",
    "        dict(premise=\"This is a premise.\", hypothesis=\"This is a hypothesis.\"),\n",
    "    )\n",
    "    onnx_model_file = output_dir / \"model.onnx\"\n",
    "    torch.onnx.export(\n",
    "        model.cpu().eval(),  # Ensure inference mode\n",
    "        (dummy_inputs[\"input_ids\"], dummy_inputs[\"attention_mask\"]),\n",
    "        onnx_model_file.as_posix(),\n",
    "        input_names=['input_ids', 'attention_mask'],\n",
    "        output_names=['logits'],\n",
    "        dynamic_axes={\n",
    "            \"input_ids\": {0: \"batch_size\", 1: \"seq_len\"},\n",
    "            \"attention_mask\": {0: \"batch_size\", 1: \"seq_len\"},\n",
    "            \"logits\": {0: \"batch_size\"},\n",
    "        },\n",
    "        opset_version=17,  # ONNX version\n",
    "    )\n",
    "    quantize_dynamic(onnx_model_file, output_dir / \"model_quant.onnx\")\n",
    "    print(f\"Model exported and quantized to {onnx_model_file}!\")\n",
    "\n",
    "model_output_dir = MODEL_DIR / \"xlm-roberta-large-mnli-xnli\"\n",
    "model = XLMRobertaWithMeanPooling.from_pretrained(model_output_dir, num_labels=3)\n",
    "# Export and optimize the model\n",
    "export_to_onnx(model, model_output_dir)"
   ]
  },
  {
   "cell_type": "markdown",
   "metadata": {},
   "source": [
    "#### Inference with ONNX"
   ]
  },
  {
   "cell_type": "code",
   "execution_count": 14,
   "metadata": {},
   "outputs": [
    {
     "name": "stderr",
     "output_type": "stream",
     "text": [
      "\u001b[0;93m2025-04-15 23:05:43.453320329 [W:onnxruntime:, transformer_memcpy.cc:83 ApplyImpl] 24 Memcpy nodes are added to the graph main_graph for CUDAExecutionProvider. It might have negative impact on performance (including unable to run CUDA graph). Set session_options.log_severity_level=1 to see the detail logs before this message.\u001b[m\n"
     ]
    }
   ],
   "source": [
    "ONNX_MODEL_PATH = model_output_dir / \"model.onnx\"\n",
    "sess_options = ort.SessionOptions()\n",
    "sess_options.intra_op_num_threads = 8\n",
    "sess_options.inter_op_num_threads = 4\n",
    "\n",
    "ort_session = ort.InferenceSession(\n",
    "    ONNX_MODEL_PATH, \n",
    "    providers=['CUDAExecutionProvider', 'CPUExecutionProvider'],\n",
    "    sess_options=sess_options\n",
    ")\n",
    "\n",
    "def ort_infer(premise, hypothesis) -> int:\n",
    "    example = tokenize(dict(premise=premise, hypothesis=hypothesis))\n",
    "    inputs = dict(\n",
    "        input_ids=np.array(list(example[\"input_ids\"])).astype(np.int64),\n",
    "        attention_mask=np.array(list(example[\"attention_mask\"])).astype(np.int64),\n",
    "    )\n",
    "    logits = ort_session.run(None, inputs)[0]  # Inference ONNX\n",
    "    return logits.ravel()\n",
    "\n",
    "def predictions(dataset: pd.DataFrame):\n",
    "    logits = [ort_infer(row['premise'], row['hypothesis']) for row in tqdm(dataset)]\n",
    "    return np.argmax(logits, axis=-1)"
   ]
  },
  {
   "cell_type": "markdown",
   "metadata": {
    "id": "Wl19KSO2K5PP"
   },
   "source": [
    "### Results"
   ]
  },
  {
   "cell_type": "markdown",
   "metadata": {},
   "source": [
    "#### Evaluation\n",
    "\n",
    "Evaluate the model and show classification report."
   ]
  },
  {
   "cell_type": "code",
   "execution_count": 17,
   "metadata": {
    "id": "OvK1-BMbj7w4"
   },
   "outputs": [
    {
     "name": "stderr",
     "output_type": "stream",
     "text": [
      "100%|██████████| 3636/3636 [00:43<00:00, 84.42it/s]"
     ]
    },
    {
     "name": "stdout",
     "output_type": "stream",
     "text": [
      "               precision    recall  f1-score   support\n",
      "\n",
      "   entailment      0.858     0.865     0.862      1263\n",
      "      neutral      0.830     0.825     0.828      1144\n",
      "contradiction      0.904     0.902     0.903      1229\n",
      "\n",
      "     accuracy                          0.865      3636\n",
      "    macro avg      0.864     0.864     0.864      3636\n",
      " weighted avg      0.865     0.865     0.865      3636\n",
      "\n"
     ]
    },
    {
     "name": "stderr",
     "output_type": "stream",
     "text": [
      "\n"
     ]
    }
   ],
   "source": [
    "from sklearn.metrics import accuracy_score, classification_report, ConfusionMatrixDisplay\n",
    "\n",
    "df = challenge_val.to_pandas()\n",
    "df[\"prediction\"] = predictions(challenge_val) # Use ONNX inference\n",
    "\n",
    "label_names = ['entailment', 'neutral', 'contradiction']\n",
    "print(classification_report(df[\"label\"], df[\"prediction\"], digits=3, target_names=label_names))"
   ]
  },
  {
   "cell_type": "markdown",
   "metadata": {},
   "source": [
    "Compute accuracy statistics on each language."
   ]
  },
  {
   "cell_type": "code",
   "execution_count": 18,
   "metadata": {
    "id": "jF49SrkCLWO7"
   },
   "outputs": [
    {
     "data": {
      "text/html": [
       "<div>\n",
       "<style scoped>\n",
       "    .dataframe tbody tr th:only-of-type {\n",
       "        vertical-align: middle;\n",
       "    }\n",
       "\n",
       "    .dataframe tbody tr th {\n",
       "        vertical-align: top;\n",
       "    }\n",
       "\n",
       "    .dataframe thead th {\n",
       "        text-align: right;\n",
       "    }\n",
       "</style>\n",
       "<table border=\"1\" class=\"dataframe\">\n",
       "  <thead>\n",
       "    <tr style=\"text-align: right;\">\n",
       "      <th>lang_abv</th>\n",
       "      <th>ar</th>\n",
       "      <th>bg</th>\n",
       "      <th>de</th>\n",
       "      <th>el</th>\n",
       "      <th>en</th>\n",
       "      <th>es</th>\n",
       "      <th>fr</th>\n",
       "      <th>hi</th>\n",
       "      <th>ru</th>\n",
       "      <th>sw</th>\n",
       "      <th>th</th>\n",
       "      <th>tr</th>\n",
       "      <th>ur</th>\n",
       "      <th>vi</th>\n",
       "      <th>zh</th>\n",
       "      <th>avg</th>\n",
       "    </tr>\n",
       "  </thead>\n",
       "  <tbody>\n",
       "    <tr>\n",
       "      <th>accuracy</th>\n",
       "      <td>0.8</td>\n",
       "      <td>0.84</td>\n",
       "      <td>0.88</td>\n",
       "      <td>0.81</td>\n",
       "      <td>0.89</td>\n",
       "      <td>0.91</td>\n",
       "      <td>0.87</td>\n",
       "      <td>0.87</td>\n",
       "      <td>0.8</td>\n",
       "      <td>0.76</td>\n",
       "      <td>0.83</td>\n",
       "      <td>0.82</td>\n",
       "      <td>0.79</td>\n",
       "      <td>0.86</td>\n",
       "      <td>0.85</td>\n",
       "      <td>0.84</td>\n",
       "    </tr>\n",
       "  </tbody>\n",
       "</table>\n",
       "</div>"
      ],
      "text/plain": [
       "lang_abv   ar    bg    de    el    en    es    fr    hi   ru    sw    th  \\\n",
       "accuracy  0.8  0.84  0.88  0.81  0.89  0.91  0.87  0.87  0.8  0.76  0.83   \n",
       "\n",
       "lang_abv    tr    ur    vi    zh   avg  \n",
       "accuracy  0.82  0.79  0.86  0.85  0.84  "
      ]
     },
     "execution_count": 18,
     "metadata": {},
     "output_type": "execute_result"
    }
   ],
   "source": [
    "def compute_accuracy(df):\n",
    "    return accuracy_score(df[\"label\"], df[\"prediction\"])\n",
    "\n",
    "def compute_accuracy_stats(df):\n",
    "    lang_acc = df.groupby(\"lang_abv\").apply(compute_accuracy, include_groups=False)\n",
    "    lang_acc[\"avg\"] = lang_acc.mean()\n",
    "    return pd.DataFrame([lang_acc], index=[\"accuracy\"])\n",
    "\n",
    "# Show accuracy for each language\n",
    "compute_accuracy_stats(df).round(2)"
   ]
  },
  {
   "cell_type": "markdown",
   "metadata": {
    "id": "mNVClqebLOXF"
   },
   "source": [
    "Display the confusion matrix using `scikit-learn`."
   ]
  },
  {
   "cell_type": "code",
   "execution_count": 19,
   "metadata": {
    "id": "_d1sOBH1LDcQ"
   },
   "outputs": [
    {
     "data": {
      "text/plain": [
       "<Figure size 800x600 with 0 Axes>"
      ]
     },
     "metadata": {},
     "output_type": "display_data"
    },
    {
     "data": {
      "image/png": "[encoded data removed]",
      "text/plain": [
       "<Figure size 640x480 with 2 Axes>"
      ]
     },
     "metadata": {},
     "output_type": "display_data"
    }
   ],
   "source": [
    "plt.figure(figsize=(8, 6))\n",
    "ConfusionMatrixDisplay.from_predictions(\n",
    "    df[\"label\"],\n",
    "    df[\"prediction\"],\n",
    "    display_labels=label_names,\n",
    "    cmap='Blues',\n",
    "    normalize='true',\n",
    ")\n",
    "plt.title('Confusion Matrix')\n",
    "plt.xlabel('Predicted')\n",
    "plt.ylabel('True')\n",
    "plt.show()"
   ]
  },
  {
   "cell_type": "markdown",
   "metadata": {},
   "source": [
    "#### Kaggle (Optional)\n",
    "\n",
    "Create a submission file for the [Kaggle competition](https://www.kaggle.com/competitions/contradictory-my-dear-watson/)."
   ]
  },
  {
   "cell_type": "code",
   "execution_count": 20,
   "metadata": {},
   "outputs": [
    {
     "name": "stderr",
     "output_type": "stream",
     "text": [
      "100%|██████████| 5195/5195 [01:01<00:00, 84.38it/s]"
     ]
    },
    {
     "name": "stdout",
     "output_type": "stream",
     "text": [
      "Submission file saved.\n"
     ]
    },
    {
     "name": "stderr",
     "output_type": "stream",
     "text": [
      "\n"
     ]
    }
   ],
   "source": [
    "# Create submission csv file\n",
    "submission = df_test.id.copy().to_frame()\n",
    "submission[\"prediction\"] = predictions(challenge_test)\n",
    "\n",
    "submission.to_csv(ROOT_PATH / \"data/submission.csv\", index=False)\n",
    "print(\"Submission file saved.\")"
   ]
  },
  {
   "cell_type": "markdown",
   "metadata": {},
   "source": [
    "### Conclusion\n",
    "\n",
    "We first fine-tuned a pre-trained model on the full MNLI dataset, followed by further training on a 1M-example subset of the XNLI dataset. This approach gives a validation accuracy of 0.853 on the challenge dataset.\n",
    "\n",
    "In a separate experiment, we fine-tuned an already pre-trained HuggingFace model `joeddav/xlm-roberta-large-xnli` directly on the challenge dataset. This method achieved a slightly higher test accuracy of 0.914 on the Kaggle competition dataset, placing us 10th on the leaderboard."
   ]
  },
  {
   "cell_type": "markdown",
   "metadata": {},
   "source": [
    "#### Further improvements\n",
    "\n",
    "- **Finetuning**: finetune `xlm-roberta-large` on the full XNLI dataset, which is 6M examples."
   ]
  }
 ],
 "metadata": {
  "colab": {
   "provenance": []
  },
  "kernelspec": {
   "display_name": "Python 3 (PyTorch)",
   "language": "python",
   "name": ".pytorch_venv"
  },
  "language_info": {
   "codemirror_mode": {
    "name": "ipython",
    "version": 3
   },
   "file_extension": ".py",
   "mimetype": "text/x-python",
   "name": "python",
   "nbconvert_exporter": "python",
   "pygments_lexer": "ipython3",
   "version": "3.11.2"
  }
 },
 "nbformat": 4,
 "nbformat_minor": 1
}
