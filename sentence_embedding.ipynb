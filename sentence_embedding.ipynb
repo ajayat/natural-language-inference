{
 "cells": [
  {
   "cell_type": "code",
<<<<<<< HEAD
   "execution_count": 1,
   "id": "f7710dc0",
   "metadata": {},
   "outputs": [
    {
     "name": "stdout",
     "output_type": "stream",
     "text": [
      "Note: you may need to restart the kernel to use updated packages.\n"
     ]
    }
   ],
   "source": [
    "%pip install -qU tensorflow-cpu tf-keras sentence-transformers \"protobuf~=3.20.2\""
   ]
  },
  {
   "cell_type": "code",
   "execution_count": 2,
=======
   "execution_count": 33,
>>>>>>> 74eff2d (optimisation of results of embedding)
   "id": "79a72558",
   "metadata": {},
   "outputs": [],
   "source": [
    "import re\n",
    "\n",
    "import pandas as pd\n",
    "import numpy as np\n",
    "from sklearn.model_selection import train_test_split\n",
    "from sklearn.ensemble import RandomForestClassifier\n",
    "from sklearn.metrics import accuracy_score\n",
    "from sklearn.manifold import TSNE\n",
    "\n",
    "from tensorflow.keras.models import Sequential\n",
<<<<<<< HEAD
    "from tensorflow.keras.layers import Input, Dense, Dropout\n",
    "from sentence_transformers import SentenceTransformer"
=======
    "from tensorflow.keras.layers import Dense, Dropout, Input\n",
    "\n"
>>>>>>> 74eff2d (optimisation of results of embedding)
   ]
  },
  {
   "cell_type": "markdown",
   "id": "09885418",
   "metadata": {},
   "source": [
    "based on : https://pypi.org/project/sentence-transformers/"
   ]
  },
  {
   "cell_type": "code",
   "execution_count": 3,
   "id": "7dead669",
   "metadata": {},
   "outputs": [],
   "source": [
    "model = SentenceTransformer(\"all-MiniLM-L6-v2\")"
   ]
  },
  {
   "cell_type": "code",
   "execution_count": 4,
   "id": "b42127f1",
   "metadata": {},
   "outputs": [],
   "source": [
    "df = pd.read_csv('data/test_labeled.csv') \n",
    "\n",
    "sentences = pd.DataFrame(df)\n",
    "sentences = sentences.drop_duplicates()"
   ]
  },
  {
   "cell_type": "code",
   "execution_count": 5,
   "id": "63ee87f2",
   "metadata": {},
   "outputs": [
    {
     "name": "stdout",
     "output_type": "stream",
     "text": [
      "0                                                        \n",
      "1                                                        \n",
      "2       et cela est en grande partie d au fait que les...\n",
      "3                                                  imaamp\n",
      "4                                                        \n",
      "                              ...                        \n",
      "5190                                                     \n",
      "5191    the  rock  has a soft texture and can be bough...\n",
      "5192                                                     \n",
      "5193    isnt it i can remember ive only been here eigh...\n",
      "5194    in hong kong you can have a plate or even a wh...\n",
      "Name: cleaned_premise, Length: 5195, dtype: object\n"
     ]
    }
   ],
   "source": [
    "def preprocess_text(text):\n",
    "    text = text.lower() \n",
    "    text = re.sub(r'http\\S+', '', text)\n",
    "    text = re.sub(r'@\\w+', '', text) \n",
    "    text = re.sub(r'[^a-zA-Z\\s]', '', text)  \n",
    "    return text\n",
    "\n",
    "\n",
    "sentences['cleaned_premise'] = sentences['premise'].apply(preprocess_text)\n",
    "sentences['cleaned_hypothesis'] = sentences['hypothesis'].apply(preprocess_text)\n",
    "print(sentences['cleaned_premise'])"
   ]
  },
  {
   "cell_type": "code",
   "execution_count": 6,
   "id": "7c7b624f",
   "metadata": {},
   "outputs": [
    {
<<<<<<< HEAD
     "data": {
      "application/vnd.jupyter.widget-view+json": {
       "model_id": "272826accf81415387980a0e6df06641",
       "version_major": 2,
       "version_minor": 0
      },
      "text/plain": [
       "Batches:   0%|          | 0/163 [00:00<?, ?it/s]"
      ]
     },
     "metadata": {},
     "output_type": "display_data"
    },
    {
     "data": {
      "application/vnd.jupyter.widget-view+json": {
       "model_id": "db4e39d9b0e04a698cc7e93b70f65056",
       "version_major": 2,
       "version_minor": 0
      },
      "text/plain": [
       "Batches:   0%|          | 0/163 [00:00<?, ?it/s]"
      ]
     },
     "metadata": {},
     "output_type": "display_data"
=======
     "name": "stderr",
     "output_type": "stream",
     "text": [
      "Batches: 100%|██████████| 163/163 [00:22<00:00,  7.29it/s]\n",
      "Batches: 100%|██████████| 163/163 [00:12<00:00, 13.29it/s]\n"
     ]
>>>>>>> 74eff2d (optimisation of results of embedding)
    }
   ],
   "source": [
    "embeddings_premises = model.encode(sentences['cleaned_premise'].tolist(), show_progress_bar=True)\n",
    "embeddings_hypotheses = model.encode(sentences['cleaned_hypothesis'].tolist(), show_progress_bar=True)\n"
   ]
  },
  {
   "cell_type": "code",
   "execution_count": 7,
   "id": "e1155928",
   "metadata": {},
   "outputs": [
    {
     "name": "stdout",
     "output_type": "stream",
     "text": [
      "(5195, 384)\n",
      "(5195, 384)\n"
     ]
    }
   ],
   "source": [
    "print(embeddings_premises.shape)\n",
    "print(embeddings_hypotheses.shape)"
   ]
  },
  {
   "cell_type": "markdown",
   "id": "593881c8",
   "metadata": {},
   "source": [
    "We concatenate the two vectors for training.\n",
    "Next, for better results, we can chose to concatenate the training vector with their absolute difference"
   ]
  },
  {
   "cell_type": "code",
<<<<<<< HEAD
   "execution_count": 8,
=======
   "execution_count": 16,
>>>>>>> 74eff2d (optimisation of results of embedding)
   "id": "79e61171",
   "metadata": {},
   "outputs": [
    {
     "name": "stdout",
     "output_type": "stream",
     "text": [
      "(5195, 1152)\n",
      "(5195,)\n"
     ]
    }
   ],
   "source": [
<<<<<<< HEAD
    "X = np.hstack((np.array(embeddings_premises), np.array(embeddings_hypotheses)))\n",
    "\n",
=======
    "X = np.concatenate([embeddings_premises, embeddings_hypotheses, np.abs(embeddings_premises - embeddings_hypotheses)], axis=1)\n",
>>>>>>> 74eff2d (optimisation of results of embedding)
    "y = sentences['label'].values\n",
    "\n",
    "print(X.shape)\n",
    "print(y.shape)"
   ]
  },
  {
   "cell_type": "code",
<<<<<<< HEAD
   "execution_count": 9,
=======
   "execution_count": 17,
>>>>>>> 74eff2d (optimisation of results of embedding)
   "id": "63403586",
   "metadata": {},
   "outputs": [
    {
     "data": {
      "text/html": [
       "<style>#sk-container-id-1 {\n",
       "  /* Definition of color scheme common for light and dark mode */\n",
       "  --sklearn-color-text: #000;\n",
       "  --sklearn-color-text-muted: #666;\n",
       "  --sklearn-color-line: gray;\n",
       "  /* Definition of color scheme for unfitted estimators */\n",
       "  --sklearn-color-unfitted-level-0: #fff5e6;\n",
       "  --sklearn-color-unfitted-level-1: #f6e4d2;\n",
       "  --sklearn-color-unfitted-level-2: #ffe0b3;\n",
       "  --sklearn-color-unfitted-level-3: chocolate;\n",
       "  /* Definition of color scheme for fitted estimators */\n",
       "  --sklearn-color-fitted-level-0: #f0f8ff;\n",
       "  --sklearn-color-fitted-level-1: #d4ebff;\n",
       "  --sklearn-color-fitted-level-2: #b3dbfd;\n",
       "  --sklearn-color-fitted-level-3: cornflowerblue;\n",
       "\n",
       "  /* Specific color for light theme */\n",
       "  --sklearn-color-text-on-default-background: var(--sg-text-color, var(--theme-code-foreground, var(--jp-content-font-color1, black)));\n",
       "  --sklearn-color-background: var(--sg-background-color, var(--theme-background, var(--jp-layout-color0, white)));\n",
       "  --sklearn-color-border-box: var(--sg-text-color, var(--theme-code-foreground, var(--jp-content-font-color1, black)));\n",
       "  --sklearn-color-icon: #696969;\n",
       "\n",
       "  @media (prefers-color-scheme: dark) {\n",
       "    /* Redefinition of color scheme for dark theme */\n",
       "    --sklearn-color-text-on-default-background: var(--sg-text-color, var(--theme-code-foreground, var(--jp-content-font-color1, white)));\n",
       "    --sklearn-color-background: var(--sg-background-color, var(--theme-background, var(--jp-layout-color0, #111)));\n",
       "    --sklearn-color-border-box: var(--sg-text-color, var(--theme-code-foreground, var(--jp-content-font-color1, white)));\n",
       "    --sklearn-color-icon: #878787;\n",
       "  }\n",
       "}\n",
       "\n",
       "#sk-container-id-1 {\n",
       "  color: var(--sklearn-color-text);\n",
       "}\n",
       "\n",
       "#sk-container-id-1 pre {\n",
       "  padding: 0;\n",
       "}\n",
       "\n",
       "#sk-container-id-1 input.sk-hidden--visually {\n",
       "  border: 0;\n",
       "  clip: rect(1px 1px 1px 1px);\n",
       "  clip: rect(1px, 1px, 1px, 1px);\n",
       "  height: 1px;\n",
       "  margin: -1px;\n",
       "  overflow: hidden;\n",
       "  padding: 0;\n",
       "  position: absolute;\n",
       "  width: 1px;\n",
       "}\n",
       "\n",
       "#sk-container-id-1 div.sk-dashed-wrapped {\n",
       "  border: 1px dashed var(--sklearn-color-line);\n",
       "  margin: 0 0.4em 0.5em 0.4em;\n",
       "  box-sizing: border-box;\n",
       "  padding-bottom: 0.4em;\n",
       "  background-color: var(--sklearn-color-background);\n",
       "}\n",
       "\n",
       "#sk-container-id-1 div.sk-container {\n",
       "  /* jupyter's `normalize.less` sets `[hidden] { display: none; }`\n",
       "     but bootstrap.min.css set `[hidden] { display: none !important; }`\n",
       "     so we also need the `!important` here to be able to override the\n",
       "     default hidden behavior on the sphinx rendered scikit-learn.org.\n",
       "     See: https://github.com/scikit-learn/scikit-learn/issues/21755 */\n",
       "  display: inline-block !important;\n",
       "  position: relative;\n",
       "}\n",
       "\n",
       "#sk-container-id-1 div.sk-text-repr-fallback {\n",
       "  display: none;\n",
       "}\n",
       "\n",
       "div.sk-parallel-item,\n",
       "div.sk-serial,\n",
       "div.sk-item {\n",
       "  /* draw centered vertical line to link estimators */\n",
       "  background-image: linear-gradient(var(--sklearn-color-text-on-default-background), var(--sklearn-color-text-on-default-background));\n",
       "  background-size: 2px 100%;\n",
       "  background-repeat: no-repeat;\n",
       "  background-position: center center;\n",
       "}\n",
       "\n",
       "/* Parallel-specific style estimator block */\n",
       "\n",
       "#sk-container-id-1 div.sk-parallel-item::after {\n",
       "  content: \"\";\n",
       "  width: 100%;\n",
       "  border-bottom: 2px solid var(--sklearn-color-text-on-default-background);\n",
       "  flex-grow: 1;\n",
       "}\n",
       "\n",
       "#sk-container-id-1 div.sk-parallel {\n",
       "  display: flex;\n",
       "  align-items: stretch;\n",
       "  justify-content: center;\n",
       "  background-color: var(--sklearn-color-background);\n",
       "  position: relative;\n",
       "}\n",
       "\n",
       "#sk-container-id-1 div.sk-parallel-item {\n",
       "  display: flex;\n",
       "  flex-direction: column;\n",
       "}\n",
       "\n",
       "#sk-container-id-1 div.sk-parallel-item:first-child::after {\n",
       "  align-self: flex-end;\n",
       "  width: 50%;\n",
       "}\n",
       "\n",
       "#sk-container-id-1 div.sk-parallel-item:last-child::after {\n",
       "  align-self: flex-start;\n",
       "  width: 50%;\n",
       "}\n",
       "\n",
       "#sk-container-id-1 div.sk-parallel-item:only-child::after {\n",
       "  width: 0;\n",
       "}\n",
       "\n",
       "/* Serial-specific style estimator block */\n",
       "\n",
       "#sk-container-id-1 div.sk-serial {\n",
       "  display: flex;\n",
       "  flex-direction: column;\n",
       "  align-items: center;\n",
       "  background-color: var(--sklearn-color-background);\n",
       "  padding-right: 1em;\n",
       "  padding-left: 1em;\n",
       "}\n",
       "\n",
       "\n",
       "/* Toggleable style: style used for estimator/Pipeline/ColumnTransformer box that is\n",
       "clickable and can be expanded/collapsed.\n",
       "- Pipeline and ColumnTransformer use this feature and define the default style\n",
       "- Estimators will overwrite some part of the style using the `sk-estimator` class\n",
       "*/\n",
       "\n",
       "/* Pipeline and ColumnTransformer style (default) */\n",
       "\n",
       "#sk-container-id-1 div.sk-toggleable {\n",
       "  /* Default theme specific background. It is overwritten whether we have a\n",
       "  specific estimator or a Pipeline/ColumnTransformer */\n",
       "  background-color: var(--sklearn-color-background);\n",
       "}\n",
       "\n",
       "/* Toggleable label */\n",
       "#sk-container-id-1 label.sk-toggleable__label {\n",
       "  cursor: pointer;\n",
       "  display: flex;\n",
       "  width: 100%;\n",
       "  margin-bottom: 0;\n",
       "  padding: 0.5em;\n",
       "  box-sizing: border-box;\n",
       "  text-align: center;\n",
       "  align-items: start;\n",
       "  justify-content: space-between;\n",
       "  gap: 0.5em;\n",
       "}\n",
       "\n",
       "#sk-container-id-1 label.sk-toggleable__label .caption {\n",
       "  font-size: 0.6rem;\n",
       "  font-weight: lighter;\n",
       "  color: var(--sklearn-color-text-muted);\n",
       "}\n",
       "\n",
       "#sk-container-id-1 label.sk-toggleable__label-arrow:before {\n",
       "  /* Arrow on the left of the label */\n",
       "  content: \"▸\";\n",
       "  float: left;\n",
       "  margin-right: 0.25em;\n",
       "  color: var(--sklearn-color-icon);\n",
       "}\n",
       "\n",
       "#sk-container-id-1 label.sk-toggleable__label-arrow:hover:before {\n",
       "  color: var(--sklearn-color-text);\n",
       "}\n",
       "\n",
       "/* Toggleable content - dropdown */\n",
       "\n",
       "#sk-container-id-1 div.sk-toggleable__content {\n",
       "  max-height: 0;\n",
       "  max-width: 0;\n",
       "  overflow: hidden;\n",
       "  text-align: left;\n",
       "  /* unfitted */\n",
       "  background-color: var(--sklearn-color-unfitted-level-0);\n",
       "}\n",
       "\n",
       "#sk-container-id-1 div.sk-toggleable__content.fitted {\n",
       "  /* fitted */\n",
       "  background-color: var(--sklearn-color-fitted-level-0);\n",
       "}\n",
       "\n",
       "#sk-container-id-1 div.sk-toggleable__content pre {\n",
       "  margin: 0.2em;\n",
       "  border-radius: 0.25em;\n",
       "  color: var(--sklearn-color-text);\n",
       "  /* unfitted */\n",
       "  background-color: var(--sklearn-color-unfitted-level-0);\n",
       "}\n",
       "\n",
       "#sk-container-id-1 div.sk-toggleable__content.fitted pre {\n",
       "  /* unfitted */\n",
       "  background-color: var(--sklearn-color-fitted-level-0);\n",
       "}\n",
       "\n",
       "#sk-container-id-1 input.sk-toggleable__control:checked~div.sk-toggleable__content {\n",
       "  /* Expand drop-down */\n",
       "  max-height: 200px;\n",
       "  max-width: 100%;\n",
       "  overflow: auto;\n",
       "}\n",
       "\n",
       "#sk-container-id-1 input.sk-toggleable__control:checked~label.sk-toggleable__label-arrow:before {\n",
       "  content: \"▾\";\n",
       "}\n",
       "\n",
       "/* Pipeline/ColumnTransformer-specific style */\n",
       "\n",
       "#sk-container-id-1 div.sk-label input.sk-toggleable__control:checked~label.sk-toggleable__label {\n",
       "  color: var(--sklearn-color-text);\n",
       "  background-color: var(--sklearn-color-unfitted-level-2);\n",
       "}\n",
       "\n",
       "#sk-container-id-1 div.sk-label.fitted input.sk-toggleable__control:checked~label.sk-toggleable__label {\n",
       "  background-color: var(--sklearn-color-fitted-level-2);\n",
       "}\n",
       "\n",
       "/* Estimator-specific style */\n",
       "\n",
       "/* Colorize estimator box */\n",
       "#sk-container-id-1 div.sk-estimator input.sk-toggleable__control:checked~label.sk-toggleable__label {\n",
       "  /* unfitted */\n",
       "  background-color: var(--sklearn-color-unfitted-level-2);\n",
       "}\n",
       "\n",
       "#sk-container-id-1 div.sk-estimator.fitted input.sk-toggleable__control:checked~label.sk-toggleable__label {\n",
       "  /* fitted */\n",
       "  background-color: var(--sklearn-color-fitted-level-2);\n",
       "}\n",
       "\n",
       "#sk-container-id-1 div.sk-label label.sk-toggleable__label,\n",
       "#sk-container-id-1 div.sk-label label {\n",
       "  /* The background is the default theme color */\n",
       "  color: var(--sklearn-color-text-on-default-background);\n",
       "}\n",
       "\n",
       "/* On hover, darken the color of the background */\n",
       "#sk-container-id-1 div.sk-label:hover label.sk-toggleable__label {\n",
       "  color: var(--sklearn-color-text);\n",
       "  background-color: var(--sklearn-color-unfitted-level-2);\n",
       "}\n",
       "\n",
       "/* Label box, darken color on hover, fitted */\n",
       "#sk-container-id-1 div.sk-label.fitted:hover label.sk-toggleable__label.fitted {\n",
       "  color: var(--sklearn-color-text);\n",
       "  background-color: var(--sklearn-color-fitted-level-2);\n",
       "}\n",
       "\n",
       "/* Estimator label */\n",
       "\n",
       "#sk-container-id-1 div.sk-label label {\n",
       "  font-family: monospace;\n",
       "  font-weight: bold;\n",
       "  display: inline-block;\n",
       "  line-height: 1.2em;\n",
       "}\n",
       "\n",
       "#sk-container-id-1 div.sk-label-container {\n",
       "  text-align: center;\n",
       "}\n",
       "\n",
       "/* Estimator-specific */\n",
       "#sk-container-id-1 div.sk-estimator {\n",
       "  font-family: monospace;\n",
       "  border: 1px dotted var(--sklearn-color-border-box);\n",
       "  border-radius: 0.25em;\n",
       "  box-sizing: border-box;\n",
       "  margin-bottom: 0.5em;\n",
       "  /* unfitted */\n",
       "  background-color: var(--sklearn-color-unfitted-level-0);\n",
       "}\n",
       "\n",
       "#sk-container-id-1 div.sk-estimator.fitted {\n",
       "  /* fitted */\n",
       "  background-color: var(--sklearn-color-fitted-level-0);\n",
       "}\n",
       "\n",
       "/* on hover */\n",
       "#sk-container-id-1 div.sk-estimator:hover {\n",
       "  /* unfitted */\n",
       "  background-color: var(--sklearn-color-unfitted-level-2);\n",
       "}\n",
       "\n",
       "#sk-container-id-1 div.sk-estimator.fitted:hover {\n",
       "  /* fitted */\n",
       "  background-color: var(--sklearn-color-fitted-level-2);\n",
       "}\n",
       "\n",
       "/* Specification for estimator info (e.g. \"i\" and \"?\") */\n",
       "\n",
       "/* Common style for \"i\" and \"?\" */\n",
       "\n",
       ".sk-estimator-doc-link,\n",
       "a:link.sk-estimator-doc-link,\n",
       "a:visited.sk-estimator-doc-link {\n",
       "  float: right;\n",
       "  font-size: smaller;\n",
       "  line-height: 1em;\n",
       "  font-family: monospace;\n",
       "  background-color: var(--sklearn-color-background);\n",
       "  border-radius: 1em;\n",
       "  height: 1em;\n",
       "  width: 1em;\n",
       "  text-decoration: none !important;\n",
       "  margin-left: 0.5em;\n",
       "  text-align: center;\n",
       "  /* unfitted */\n",
       "  border: var(--sklearn-color-unfitted-level-1) 1pt solid;\n",
       "  color: var(--sklearn-color-unfitted-level-1);\n",
       "}\n",
       "\n",
       ".sk-estimator-doc-link.fitted,\n",
       "a:link.sk-estimator-doc-link.fitted,\n",
       "a:visited.sk-estimator-doc-link.fitted {\n",
       "  /* fitted */\n",
       "  border: var(--sklearn-color-fitted-level-1) 1pt solid;\n",
       "  color: var(--sklearn-color-fitted-level-1);\n",
       "}\n",
       "\n",
       "/* On hover */\n",
       "div.sk-estimator:hover .sk-estimator-doc-link:hover,\n",
       ".sk-estimator-doc-link:hover,\n",
       "div.sk-label-container:hover .sk-estimator-doc-link:hover,\n",
       ".sk-estimator-doc-link:hover {\n",
       "  /* unfitted */\n",
       "  background-color: var(--sklearn-color-unfitted-level-3);\n",
       "  color: var(--sklearn-color-background);\n",
       "  text-decoration: none;\n",
       "}\n",
       "\n",
       "div.sk-estimator.fitted:hover .sk-estimator-doc-link.fitted:hover,\n",
       ".sk-estimator-doc-link.fitted:hover,\n",
       "div.sk-label-container:hover .sk-estimator-doc-link.fitted:hover,\n",
       ".sk-estimator-doc-link.fitted:hover {\n",
       "  /* fitted */\n",
       "  background-color: var(--sklearn-color-fitted-level-3);\n",
       "  color: var(--sklearn-color-background);\n",
       "  text-decoration: none;\n",
       "}\n",
       "\n",
       "/* Span, style for the box shown on hovering the info icon */\n",
       ".sk-estimator-doc-link span {\n",
       "  display: none;\n",
       "  z-index: 9999;\n",
       "  position: relative;\n",
       "  font-weight: normal;\n",
       "  right: .2ex;\n",
       "  padding: .5ex;\n",
       "  margin: .5ex;\n",
       "  width: min-content;\n",
       "  min-width: 20ex;\n",
       "  max-width: 50ex;\n",
       "  color: var(--sklearn-color-text);\n",
       "  box-shadow: 2pt 2pt 4pt #999;\n",
       "  /* unfitted */\n",
       "  background: var(--sklearn-color-unfitted-level-0);\n",
       "  border: .5pt solid var(--sklearn-color-unfitted-level-3);\n",
       "}\n",
       "\n",
       ".sk-estimator-doc-link.fitted span {\n",
       "  /* fitted */\n",
       "  background: var(--sklearn-color-fitted-level-0);\n",
       "  border: var(--sklearn-color-fitted-level-3);\n",
       "}\n",
       "\n",
       ".sk-estimator-doc-link:hover span {\n",
       "  display: block;\n",
       "}\n",
       "\n",
       "/* \"?\"-specific style due to the `<a>` HTML tag */\n",
       "\n",
       "#sk-container-id-1 a.estimator_doc_link {\n",
       "  float: right;\n",
       "  font-size: 1rem;\n",
       "  line-height: 1em;\n",
       "  font-family: monospace;\n",
       "  background-color: var(--sklearn-color-background);\n",
       "  border-radius: 1rem;\n",
       "  height: 1rem;\n",
       "  width: 1rem;\n",
       "  text-decoration: none;\n",
       "  /* unfitted */\n",
       "  color: var(--sklearn-color-unfitted-level-1);\n",
       "  border: var(--sklearn-color-unfitted-level-1) 1pt solid;\n",
       "}\n",
       "\n",
       "#sk-container-id-1 a.estimator_doc_link.fitted {\n",
       "  /* fitted */\n",
       "  border: var(--sklearn-color-fitted-level-1) 1pt solid;\n",
       "  color: var(--sklearn-color-fitted-level-1);\n",
       "}\n",
       "\n",
       "/* On hover */\n",
       "#sk-container-id-1 a.estimator_doc_link:hover {\n",
       "  /* unfitted */\n",
       "  background-color: var(--sklearn-color-unfitted-level-3);\n",
       "  color: var(--sklearn-color-background);\n",
       "  text-decoration: none;\n",
       "}\n",
       "\n",
       "#sk-container-id-1 a.estimator_doc_link.fitted:hover {\n",
       "  /* fitted */\n",
       "  background-color: var(--sklearn-color-fitted-level-3);\n",
       "}\n",
       "</style><div id=\"sk-container-id-1\" class=\"sk-top-container\"><div class=\"sk-text-repr-fallback\"><pre>RandomForestClassifier(n_estimators=200, random_state=42)</pre><b>In a Jupyter environment, please rerun this cell to show the HTML representation or trust the notebook. <br />On GitHub, the HTML representation is unable to render, please try loading this page with nbviewer.org.</b></div><div class=\"sk-container\" hidden><div class=\"sk-item\"><div class=\"sk-estimator fitted sk-toggleable\"><input class=\"sk-toggleable__control sk-hidden--visually\" id=\"sk-estimator-id-1\" type=\"checkbox\" checked><label for=\"sk-estimator-id-1\" class=\"sk-toggleable__label fitted sk-toggleable__label-arrow\"><div><div>RandomForestClassifier</div></div><div><a class=\"sk-estimator-doc-link fitted\" rel=\"noreferrer\" target=\"_blank\" href=\"https://scikit-learn.org/1.6/modules/generated/sklearn.ensemble.RandomForestClassifier.html\">?<span>Documentation for RandomForestClassifier</span></a><span class=\"sk-estimator-doc-link fitted\">i<span>Fitted</span></span></div></label><div class=\"sk-toggleable__content fitted\"><pre>RandomForestClassifier(n_estimators=200, random_state=42)</pre></div> </div></div></div></div>"
      ],
      "text/plain": [
       "RandomForestClassifier(n_estimators=200, random_state=42)"
      ]
     },
<<<<<<< HEAD
     "execution_count": 9,
=======
     "execution_count": 17,
>>>>>>> 74eff2d (optimisation of results of embedding)
     "metadata": {},
     "output_type": "execute_result"
    }
   ],
   "source": [
    "indices = np.arange(len(X))\n",
    "\n",
    "X_train, X_test, y_train, y_test, train_indices, test_indices = train_test_split(\n",
    "    X, y, indices, test_size=0.2, random_state=42\n",
    ")\n",
    "\n",
    "clf = RandomForestClassifier(n_estimators=200, random_state=42)\n",
    "clf.fit(X_train, y_train)"
   ]
  },
  {
   "cell_type": "code",
<<<<<<< HEAD
   "execution_count": 10,
=======
   "execution_count": 18,
>>>>>>> 74eff2d (optimisation of results of embedding)
   "id": "2484adfb",
   "metadata": {},
   "outputs": [
    {
     "name": "stdout",
     "output_type": "stream",
     "text": [
      "(4156, 1152)\n",
      "(4156,)\n",
      "(1039, 1152)\n",
      "(1039,)\n"
     ]
    }
   ],
   "source": [
    "print(X_train.shape)\n",
    "print(y_train.shape)\n",
    "print(X_test.shape)\n",
    "print(y_test.shape)"
   ]
  },
  {
   "cell_type": "code",
<<<<<<< HEAD
   "execution_count": 11,
=======
   "execution_count": 67,
>>>>>>> 74eff2d (optimisation of results of embedding)
   "id": "7f57a45f",
   "metadata": {},
   "outputs": [
    {
     "name": "stdout",
     "output_type": "stream",
     "text": [
      "Premise: LSC set a deadline of October 1, 1998, for submission of state planning reports.\n",
      "Hypothesis: LSC has a deadline of October 1,1998 to submit state planning reports.\n",
      "Real label: 0\n",
<<<<<<< HEAD
      "Predicted label: 2\n",
      "Proximity: [[0.285      0.23833333 0.47666667]]\n",
=======
      "Predicted label: 0\n",
      "Proximity: [[0.54137755 0.16688776 0.29173469]]\n",
>>>>>>> 74eff2d (optimisation of results of embedding)
      "\n",
      "Premise: Turizm ofisleri L'Estrie bölgesini yeniden adlandırmaya çalıştılar ancak en militan Quebecli bile Cantons de l'Est'in doğrudan, daha yaklaşık çevirisini tercih eder.\n",
      "Hypothesis: Turizmciler eskisi kulağa çirkin geldiğinden, bölgenin daha iyi bir isme ihtiyacı olduğunu düşünüyor.\n",
      "Real label: 1\n",
<<<<<<< HEAD
      "Predicted label: 0\n",
      "Proximity: [[0.285      0.23833333 0.47666667]]\n",
=======
      "Predicted label: 2\n",
      "Proximity: [[0.54137755 0.16688776 0.29173469]]\n",
>>>>>>> 74eff2d (optimisation of results of embedding)
      "\n",
      "Premise: Given the limits on the WTO's jurisdiction, it was probably unreasonable of Kodak to expect a real victory.\n",
      "Hypothesis: Kodak was naive and is still just a baby of a company.\n",
      "Real label: 1\n",
      "Predicted label: 2\n",
<<<<<<< HEAD
      "Proximity: [[0.285      0.23833333 0.47666667]]\n",
=======
      "Proximity: [[0.54137755 0.16688776 0.29173469]]\n",
>>>>>>> 74eff2d (optimisation of results of embedding)
      "\n",
      "Premise: uh-huh yeah yeah they're good\n",
      "Hypothesis: They are all right but not great.\n",
      "Real label: 1\n",
<<<<<<< HEAD
      "Predicted label: 0\n",
      "Proximity: [[0.285      0.23833333 0.47666667]]\n",
=======
      "Predicted label: 1\n",
      "Proximity: [[0.54137755 0.16688776 0.29173469]]\n",
>>>>>>> 74eff2d (optimisation of results of embedding)
      "\n",
      "Premise: À savoir qu'il avait été informé que Lord Julian Wade allait venir.\n",
      "Hypothesis: On lui avait annoncé l'arrivée de Lord Julian Wade.\n",
      "Real label: 0\n",
      "Predicted label: 0\n",
<<<<<<< HEAD
      "Proximity: [[0.285      0.23833333 0.47666667]]\n",
=======
      "Proximity: [[0.54137755 0.16688776 0.29173469]]\n",
>>>>>>> 74eff2d (optimisation of results of embedding)
      "\n",
      "Premise: The entrance is also home to several sculptures, including one of Carlyle, the gallery's founding father.\n",
      "Hypothesis: The entrance is the sole home of a painting by Van Gough.\n",
      "Real label: 2\n",
<<<<<<< HEAD
      "Predicted label: 2\n",
      "Proximity: [[0.285      0.23833333 0.47666667]]\n",
=======
      "Predicted label: 1\n",
      "Proximity: [[0.54137755 0.16688776 0.29173469]]\n",
>>>>>>> 74eff2d (optimisation of results of embedding)
      "\n",
      "Premise: Improved products and services   Initiate actions and manage risks to develop new products and services within or outside the organization.\n",
      "Hypothesis: Improved products are riskless\n",
      "Real label: 2\n",
<<<<<<< HEAD
      "Predicted label: 2\n",
      "Proximity: [[0.285      0.23833333 0.47666667]]\n",
=======
      "Predicted label: 0\n",
      "Proximity: [[0.54137755 0.16688776 0.29173469]]\n",
>>>>>>> 74eff2d (optimisation of results of embedding)
      "\n",
      "Premise: The policy succeeded, and I was fortunate to have had the opportunity to make that contribution to my people.\n",
      "Hypothesis: The policy failed and I am glad to have not helped my people.\n",
      "Real label: 2\n",
      "Predicted label: 0\n",
<<<<<<< HEAD
      "Proximity: [[0.285      0.23833333 0.47666667]]\n",
=======
      "Proximity: [[0.54137755 0.16688776 0.29173469]]\n",
>>>>>>> 74eff2d (optimisation of results of embedding)
      "\n",
      "Premise: I am so constituted as to be unable to give away money with any satisfaction until I have made the most careful inquiry as to the worthiness of the cause.\n",
      "Hypothesis: Many charities are spend their money very unwisely.\n",
      "Real label: 1\n",
<<<<<<< HEAD
      "Predicted label: 0\n",
      "Proximity: [[0.285      0.23833333 0.47666667]]\n",
=======
      "Predicted label: 1\n",
      "Proximity: [[0.54137755 0.16688776 0.29173469]]\n",
>>>>>>> 74eff2d (optimisation of results of embedding)
      "\n",
      "Premise: Vishnu's wife Lakshmi is goddess of good fortune.\n",
      "Hypothesis: Lakshmi, the goddess of good fortune likes to treat people to nice surprises.\n",
      "Real label: 1\n",
<<<<<<< HEAD
      "Predicted label: 2\n",
      "Proximity: [[0.285      0.23833333 0.47666667]]\n",
=======
      "Predicted label: 0\n",
      "Proximity: [[0.54137755 0.16688776 0.29173469]]\n",
>>>>>>> 74eff2d (optimisation of results of embedding)
      "\n",
      "Premise: Click Friedrich Hayek ring to go ...\n",
      "Hypothesis: Clicking will not bring you anywhere.\n",
      "Real label: 2\n",
<<<<<<< HEAD
      "Predicted label: 2\n",
      "Proximity: [[0.285      0.23833333 0.47666667]]\n",
=======
      "Predicted label: 1\n",
      "Proximity: [[0.54137755 0.16688776 0.29173469]]\n",
>>>>>>> 74eff2d (optimisation of results of embedding)
      "\n",
      "Premise: В качестве предположительного адреса пребывания Михдхар указал отель Marriott, Нью-Йорк, однако провел одну ночь в другом отеле Нью-Йорка.\n",
      "Hypothesis: Михдхар чудесно провел время в отеле Marriott в Нью-Йорке.\n",
      "Real label: 2\n",
<<<<<<< HEAD
      "Predicted label: 1\n",
      "Proximity: [[0.285      0.23833333 0.47666667]]\n",
=======
      "Predicted label: 0\n",
      "Proximity: [[0.54137755 0.16688776 0.29173469]]\n",
>>>>>>> 74eff2d (optimisation of results of embedding)
      "\n",
      "Premise: میں نے تمہارے لئے، کپتان خون، بھیجا ہے کہ بعض خبروں کی وجہ سے جو میرے پاس پہنچ گئی ہے.\n",
      "Hypothesis: میں نے آپ کو بھیجنے سے قبل کچھ خبریں موصول ہوئی، کپتان بلڈ\n",
      "Real label: 0\n",
      "Predicted label: 1\n",
<<<<<<< HEAD
      "Proximity: [[0.285      0.23833333 0.47666667]]\n",
=======
      "Proximity: [[0.54137755 0.16688776 0.29173469]]\n",
>>>>>>> 74eff2d (optimisation of results of embedding)
      "\n",
      "Premise: That analysis is guided by an economist's faith in the maxim that people are generally pretty good at looking out for their own interests.\n",
      "Hypothesis: People focus on the good of others \n",
      "Real label: 2\n",
<<<<<<< HEAD
      "Predicted label: 0\n",
      "Proximity: [[0.285      0.23833333 0.47666667]]\n",
=======
      "Predicted label: 1\n",
      "Proximity: [[0.54137755 0.16688776 0.29173469]]\n",
>>>>>>> 74eff2d (optimisation of results of embedding)
      "\n",
      "Premise: The fine weave and pattern are typical of a Scottish weaver's attention to detail.\n",
      "Hypothesis: Scottish weavers are the best in the world.\n",
      "Real label: 1\n",
      "Predicted label: 0\n",
<<<<<<< HEAD
      "Proximity: [[0.285      0.23833333 0.47666667]]\n",
=======
      "Proximity: [[0.54137755 0.16688776 0.29173469]]\n",
>>>>>>> 74eff2d (optimisation of results of embedding)
      "\n",
      "Premise: i think they prey on people's um inherent politeness on the phone even with a machine i find people being kind of polite and waiting for it to finish what it has to say and then they feel an obligation to respond even though there's not even a person there\n",
      "Hypothesis: People prefer listening to recorded messages on the telephone instead of talking to other people. \n",
      "Real label: 1\n",
      "Predicted label: 1\n",
<<<<<<< HEAD
      "Proximity: [[0.285      0.23833333 0.47666667]]\n",
=======
      "Proximity: [[0.54137755 0.16688776 0.29173469]]\n",
>>>>>>> 74eff2d (optimisation of results of embedding)
      "\n",
      "Premise: Under the overmechanical assumptions of affirmative-action opponents themselves (and putting aside the racial IQ theories of Murray and some others), blacks would move up the list, and whites would move down.\n",
      "Hypothesis: Support for affirmative action laws has declined slightly over the past few years.\n",
      "Real label: 1\n",
<<<<<<< HEAD
      "Predicted label: 0\n",
      "Proximity: [[0.285      0.23833333 0.47666667]]\n",
=======
      "Predicted label: 2\n",
      "Proximity: [[0.54137755 0.16688776 0.29173469]]\n",
>>>>>>> 74eff2d (optimisation of results of embedding)
      "\n",
      "Premise: Lo más importante es el hecho de que asistir a una representación en el IRT no es solo una excursión.\n",
      "Hypothesis: Asistir a una actuación en el IRT no es solo un paseo divertido por el parque.\n",
      "Real label: 0\n",
<<<<<<< HEAD
      "Predicted label: 0\n",
      "Proximity: [[0.285      0.23833333 0.47666667]]\n",
=======
      "Predicted label: 2\n",
      "Proximity: [[0.54137755 0.16688776 0.29173469]]\n",
>>>>>>> 74eff2d (optimisation of results of embedding)
      "\n",
      "Premise: We next present the test of our hypothesis by comparing the predicted percentages for each of the seven posts with the actual percentages.\n",
      "Hypothesis: We are presenting the test by comparing percentages for each of the posts with actual percentages of letters mailed.\n",
      "Real label: 1\n",
      "Predicted label: 0\n",
<<<<<<< HEAD
      "Proximity: [[0.285      0.23833333 0.47666667]]\n",
=======
      "Proximity: [[0.54137755 0.16688776 0.29173469]]\n",
>>>>>>> 74eff2d (optimisation of results of embedding)
      "\n",
      "Premise: you know our church each year has a one of their major fund raisers is you know a garage sale and there's a ton of clothes always you know left over and i take those down to the uh\n",
      "Hypothesis: Our church also has bake sales each year. \n",
      "Real label: 1\n",
      "Predicted label: 0\n",
<<<<<<< HEAD
      "Proximity: [[0.285      0.23833333 0.47666667]]\n",
=======
      "Proximity: [[0.54137755 0.16688776 0.29173469]]\n",
>>>>>>> 74eff2d (optimisation of results of embedding)
      "\n",
      "Premise: The next year, he was expelled from Rand as a security risk after local police caught him engaging in a lewd act in a public men's room near Muscle Beach.\n",
      "Hypothesis: They expelled him because he was arrested a lot\n",
      "Real label: 1\n",
<<<<<<< HEAD
      "Predicted label: 1\n",
      "Proximity: [[0.285      0.23833333 0.47666667]]\n",
=======
      "Predicted label: 2\n",
      "Proximity: [[0.54137755 0.16688776 0.29173469]]\n",
>>>>>>> 74eff2d (optimisation of results of embedding)
      "\n",
      "Premise: Le secrétaire Powell et le secrétaire Rumsfeld semblent avoir déjà été informés sur ces sujets par le DCI.\n",
      "Hypothesis: Le directeur de la CIA a refusé de donner les détails sur cette affaire même aux hauts fonctionnaires.\n",
      "Real label: 2\n",
<<<<<<< HEAD
      "Predicted label: 0\n",
      "Proximity: [[0.285      0.23833333 0.47666667]]\n",
=======
      "Predicted label: 2\n",
      "Proximity: [[0.54137755 0.16688776 0.29173469]]\n",
>>>>>>> 74eff2d (optimisation of results of embedding)
      "\n",
      "Premise: Через нее и через вас.\n",
      "Hypothesis: Пуля, поразив обоих участников, прошла навылет.\n",
      "Real label: 1\n",
      "Predicted label: 1\n",
<<<<<<< HEAD
      "Proximity: [[0.285      0.23833333 0.47666667]]\n",
=======
      "Proximity: [[0.54137755 0.16688776 0.29173469]]\n",
>>>>>>> 74eff2d (optimisation of results of embedding)
      "\n",
      "Premise: I feel that you probably underestimate the danger, and therefore warn you again that I can promise you no protection.\n",
      "Hypothesis: I warn you again, that I can promise you no protection, as I feel that you probably underestimate the danger.\n",
      "Real label: 0\n",
<<<<<<< HEAD
      "Predicted label: 2\n",
      "Proximity: [[0.285      0.23833333 0.47666667]]\n",
=======
      "Predicted label: 0\n",
      "Proximity: [[0.54137755 0.16688776 0.29173469]]\n",
>>>>>>> 74eff2d (optimisation of results of embedding)
      "\n",
      "Premise: NIPA had already recognized mineral exploration as investment, and in 1996, NIPA reclassified government purchases of plant and equipment as investment.\n",
      "Hypothesis: NIPA said mineral exploration is an investment.\n",
      "Real label: 0\n",
<<<<<<< HEAD
      "Predicted label: 1\n",
      "Proximity: [[0.285      0.23833333 0.47666667]]\n",
=======
      "Predicted label: 0\n",
      "Proximity: [[0.54137755 0.16688776 0.29173469]]\n",
>>>>>>> 74eff2d (optimisation of results of embedding)
      "\n",
      "Premise: không trên thực tế, tôi thậm chí không quen thuộc với nó, tôi không nghĩ thế\n",
      "Hypothesis: Tôi không biết nhiều về nó.\n",
      "Real label: 0\n",
<<<<<<< HEAD
      "Predicted label: 1\n",
      "Proximity: [[0.285      0.23833333 0.47666667]]\n",
=======
      "Predicted label: 0\n",
      "Proximity: [[0.54137755 0.16688776 0.29173469]]\n",
>>>>>>> 74eff2d (optimisation of results of embedding)
      "\n",
      "Premise: The Aegean has a short, wet spring when walking, hiking, and mountain biking are extremely enjoyable activities, because the weather is pleasant but not too hot.\n",
      "Hypothesis: Hiking during summer in the Aegean is not recommended because of the risk of overheating.\n",
      "Real label: 1\n",
      "Predicted label: 0\n",
<<<<<<< HEAD
      "Proximity: [[0.285      0.23833333 0.47666667]]\n",
=======
      "Proximity: [[0.54137755 0.16688776 0.29173469]]\n",
>>>>>>> 74eff2d (optimisation of results of embedding)
      "\n",
      "Premise: Nyanyangu alizaliwa mwaka wa 1910, alikuewa msichana mdogo.\n",
      "Hypothesis: nyanya yangu alizaliwa 1899.\n",
      "Real label: 2\n",
      "Predicted label: 0\n",
<<<<<<< HEAD
      "Proximity: [[0.285      0.23833333 0.47666667]]\n",
=======
      "Proximity: [[0.54137755 0.16688776 0.29173469]]\n",
>>>>>>> 74eff2d (optimisation of results of embedding)
      "\n",
      "Premise: Die Palomille bestand aus einem Kern aus drei oder vier Männern, mit einigen Randmitgliedern und war eine wichtige Sozialisierungseinheit, die jungen Männern einen sicheren Raum bot zu scherzen und sich auszudrücken.\n",
      "Hypothesis: Junge Männer in (palomillas) erzählten Pferdewitze.\n",
      "Real label: 1\n",
<<<<<<< HEAD
      "Predicted label: 0\n",
      "Proximity: [[0.285      0.23833333 0.47666667]]\n",
=======
      "Predicted label: 1\n",
      "Proximity: [[0.54137755 0.16688776 0.29173469]]\n",
>>>>>>> 74eff2d (optimisation of results of embedding)
      "\n",
      "Premise: Was it a sudden decision on his part, or had he already made up his mind when he parted from me a few hours earlier? \n",
      "Hypothesis: He left so suddenly and unannounced that I figured this was a spur of the moment decision, but I assumed later that this possibly was something planned and kept from me for quite some time.\n",
      "Real label: 1\n",
<<<<<<< HEAD
      "Predicted label: 0\n",
      "Proximity: [[0.285      0.23833333 0.47666667]]\n",
      "\n",
      "Accuracy: 31.28%\n"
=======
      "Predicted label: 2\n",
      "Proximity: [[0.54137755 0.16688776 0.29173469]]\n",
      "\n",
      "Accuracy: 43.02%\n"
>>>>>>> 74eff2d (optimisation of results of embedding)
     ]
    }
   ],
   "source": [
    "y_pred = clf.predict(X_test)\n",
    "\n",
    "premise_predicted = sentences.iloc[test_indices]['premise']\n",
    "label_real = sentences.iloc[test_indices]['label']\n",
    "hypothesis_predicted = sentences.iloc[test_indices]['hypothesis']\n",
    "\n",
    "for premise,hypothesis, label_real, label_pred in zip(premise_predicted.head(30),hypothesis_predicted.head(30),label_real.head(30), y_pred[:30]):\n",
    "    print(f\"Premise: {premise}\\nHypothesis: {hypothesis}\\nReal label: {label_real}\\nPredicted label: {label_pred}\\nProximity: {clf.predict_proba([X_test[0]])}\\n\")   \n",
    "    \n",
    "accuracy = accuracy_score(y_test, y_pred)\n",
    "print(f\"Accuracy: {accuracy * 100:.2f}%\")"
   ]
  },
  {
   "cell_type": "code",
<<<<<<< HEAD
   "execution_count": 12,
=======
   "execution_count": null,
   "id": "86f25368",
   "metadata": {},
   "outputs": [
    {
     "name": "stdout",
     "output_type": "stream",
     "text": [
      "Iteration 1: 43.02%\n"
     ]
    },
    {
     "ename": "KeyboardInterrupt",
     "evalue": "",
     "output_type": "error",
     "traceback": [
      "\u001b[31m---------------------------------------------------------------------------\u001b[39m",
      "\u001b[31mKeyboardInterrupt\u001b[39m                         Traceback (most recent call last)",
      "\u001b[36mCell\u001b[39m\u001b[36m \u001b[39m\u001b[32mIn[157]\u001b[39m\u001b[32m, line 4\u001b[39m\n\u001b[32m      2\u001b[39m \u001b[38;5;28;01mfor\u001b[39;00m i \u001b[38;5;129;01min\u001b[39;00m \u001b[38;5;28mrange\u001b[39m(\u001b[32m15\u001b[39m):\n\u001b[32m      3\u001b[39m     clf =  RandomForestClassifier(n_estimators=\u001b[32m200\u001b[39m, random_state=\u001b[32m42\u001b[39m)\n\u001b[32m----> \u001b[39m\u001b[32m4\u001b[39m     \u001b[43mclf\u001b[49m\u001b[43m.\u001b[49m\u001b[43mfit\u001b[49m\u001b[43m(\u001b[49m\u001b[43mX_train\u001b[49m\u001b[43m,\u001b[49m\u001b[43m \u001b[49m\u001b[43my_train\u001b[49m\u001b[43m)\u001b[49m\n\u001b[32m      5\u001b[39m     y_pred = clf.predict(X_test)\n\u001b[32m      6\u001b[39m     accuracy = accuracy_score(y_test, y_pred)\n",
      "\u001b[36mFile \u001b[39m\u001b[32m~/Documents/TPS/TPS 2A/S8/Deep learning/Workshop deep learning/.venv/lib/python3.12/site-packages/sklearn/base.py:1389\u001b[39m, in \u001b[36m_fit_context.<locals>.decorator.<locals>.wrapper\u001b[39m\u001b[34m(estimator, *args, **kwargs)\u001b[39m\n\u001b[32m   1382\u001b[39m     estimator._validate_params()\n\u001b[32m   1384\u001b[39m \u001b[38;5;28;01mwith\u001b[39;00m config_context(\n\u001b[32m   1385\u001b[39m     skip_parameter_validation=(\n\u001b[32m   1386\u001b[39m         prefer_skip_nested_validation \u001b[38;5;129;01mor\u001b[39;00m global_skip_validation\n\u001b[32m   1387\u001b[39m     )\n\u001b[32m   1388\u001b[39m ):\n\u001b[32m-> \u001b[39m\u001b[32m1389\u001b[39m     \u001b[38;5;28;01mreturn\u001b[39;00m \u001b[43mfit_method\u001b[49m\u001b[43m(\u001b[49m\u001b[43mestimator\u001b[49m\u001b[43m,\u001b[49m\u001b[43m \u001b[49m\u001b[43m*\u001b[49m\u001b[43margs\u001b[49m\u001b[43m,\u001b[49m\u001b[43m \u001b[49m\u001b[43m*\u001b[49m\u001b[43m*\u001b[49m\u001b[43mkwargs\u001b[49m\u001b[43m)\u001b[49m\n",
      "\u001b[36mFile \u001b[39m\u001b[32m~/Documents/TPS/TPS 2A/S8/Deep learning/Workshop deep learning/.venv/lib/python3.12/site-packages/sklearn/ensemble/_forest.py:487\u001b[39m, in \u001b[36mBaseForest.fit\u001b[39m\u001b[34m(self, X, y, sample_weight)\u001b[39m\n\u001b[32m    476\u001b[39m trees = [\n\u001b[32m    477\u001b[39m     \u001b[38;5;28mself\u001b[39m._make_estimator(append=\u001b[38;5;28;01mFalse\u001b[39;00m, random_state=random_state)\n\u001b[32m    478\u001b[39m     \u001b[38;5;28;01mfor\u001b[39;00m i \u001b[38;5;129;01min\u001b[39;00m \u001b[38;5;28mrange\u001b[39m(n_more_estimators)\n\u001b[32m    479\u001b[39m ]\n\u001b[32m    481\u001b[39m \u001b[38;5;66;03m# Parallel loop: we prefer the threading backend as the Cython code\u001b[39;00m\n\u001b[32m    482\u001b[39m \u001b[38;5;66;03m# for fitting the trees is internally releasing the Python GIL\u001b[39;00m\n\u001b[32m    483\u001b[39m \u001b[38;5;66;03m# making threading more efficient than multiprocessing in\u001b[39;00m\n\u001b[32m    484\u001b[39m \u001b[38;5;66;03m# that case. However, for joblib 0.12+ we respect any\u001b[39;00m\n\u001b[32m    485\u001b[39m \u001b[38;5;66;03m# parallel_backend contexts set at a higher level,\u001b[39;00m\n\u001b[32m    486\u001b[39m \u001b[38;5;66;03m# since correctness does not rely on using threads.\u001b[39;00m\n\u001b[32m--> \u001b[39m\u001b[32m487\u001b[39m trees = \u001b[43mParallel\u001b[49m\u001b[43m(\u001b[49m\n\u001b[32m    488\u001b[39m \u001b[43m    \u001b[49m\u001b[43mn_jobs\u001b[49m\u001b[43m=\u001b[49m\u001b[38;5;28;43mself\u001b[39;49m\u001b[43m.\u001b[49m\u001b[43mn_jobs\u001b[49m\u001b[43m,\u001b[49m\n\u001b[32m    489\u001b[39m \u001b[43m    \u001b[49m\u001b[43mverbose\u001b[49m\u001b[43m=\u001b[49m\u001b[38;5;28;43mself\u001b[39;49m\u001b[43m.\u001b[49m\u001b[43mverbose\u001b[49m\u001b[43m,\u001b[49m\n\u001b[32m    490\u001b[39m \u001b[43m    \u001b[49m\u001b[43mprefer\u001b[49m\u001b[43m=\u001b[49m\u001b[33;43m\"\u001b[39;49m\u001b[33;43mthreads\u001b[39;49m\u001b[33;43m\"\u001b[39;49m\u001b[43m,\u001b[49m\n\u001b[32m    491\u001b[39m \u001b[43m\u001b[49m\u001b[43m)\u001b[49m\u001b[43m(\u001b[49m\n\u001b[32m    492\u001b[39m \u001b[43m    \u001b[49m\u001b[43mdelayed\u001b[49m\u001b[43m(\u001b[49m\u001b[43m_parallel_build_trees\u001b[49m\u001b[43m)\u001b[49m\u001b[43m(\u001b[49m\n\u001b[32m    493\u001b[39m \u001b[43m        \u001b[49m\u001b[43mt\u001b[49m\u001b[43m,\u001b[49m\n\u001b[32m    494\u001b[39m \u001b[43m        \u001b[49m\u001b[38;5;28;43mself\u001b[39;49m\u001b[43m.\u001b[49m\u001b[43mbootstrap\u001b[49m\u001b[43m,\u001b[49m\n\u001b[32m    495\u001b[39m \u001b[43m        \u001b[49m\u001b[43mX\u001b[49m\u001b[43m,\u001b[49m\n\u001b[32m    496\u001b[39m \u001b[43m        \u001b[49m\u001b[43my\u001b[49m\u001b[43m,\u001b[49m\n\u001b[32m    497\u001b[39m \u001b[43m        \u001b[49m\u001b[43msample_weight\u001b[49m\u001b[43m,\u001b[49m\n\u001b[32m    498\u001b[39m \u001b[43m        \u001b[49m\u001b[43mi\u001b[49m\u001b[43m,\u001b[49m\n\u001b[32m    499\u001b[39m \u001b[43m        \u001b[49m\u001b[38;5;28;43mlen\u001b[39;49m\u001b[43m(\u001b[49m\u001b[43mtrees\u001b[49m\u001b[43m)\u001b[49m\u001b[43m,\u001b[49m\n\u001b[32m    500\u001b[39m \u001b[43m        \u001b[49m\u001b[43mverbose\u001b[49m\u001b[43m=\u001b[49m\u001b[38;5;28;43mself\u001b[39;49m\u001b[43m.\u001b[49m\u001b[43mverbose\u001b[49m\u001b[43m,\u001b[49m\n\u001b[32m    501\u001b[39m \u001b[43m        \u001b[49m\u001b[43mclass_weight\u001b[49m\u001b[43m=\u001b[49m\u001b[38;5;28;43mself\u001b[39;49m\u001b[43m.\u001b[49m\u001b[43mclass_weight\u001b[49m\u001b[43m,\u001b[49m\n\u001b[32m    502\u001b[39m \u001b[43m        \u001b[49m\u001b[43mn_samples_bootstrap\u001b[49m\u001b[43m=\u001b[49m\u001b[43mn_samples_bootstrap\u001b[49m\u001b[43m,\u001b[49m\n\u001b[32m    503\u001b[39m \u001b[43m        \u001b[49m\u001b[43mmissing_values_in_feature_mask\u001b[49m\u001b[43m=\u001b[49m\u001b[43mmissing_values_in_feature_mask\u001b[49m\u001b[43m,\u001b[49m\n\u001b[32m    504\u001b[39m \u001b[43m    \u001b[49m\u001b[43m)\u001b[49m\n\u001b[32m    505\u001b[39m \u001b[43m    \u001b[49m\u001b[38;5;28;43;01mfor\u001b[39;49;00m\u001b[43m \u001b[49m\u001b[43mi\u001b[49m\u001b[43m,\u001b[49m\u001b[43m \u001b[49m\u001b[43mt\u001b[49m\u001b[43m \u001b[49m\u001b[38;5;129;43;01min\u001b[39;49;00m\u001b[43m \u001b[49m\u001b[38;5;28;43menumerate\u001b[39;49m\u001b[43m(\u001b[49m\u001b[43mtrees\u001b[49m\u001b[43m)\u001b[49m\n\u001b[32m    506\u001b[39m \u001b[43m\u001b[49m\u001b[43m)\u001b[49m\n\u001b[32m    508\u001b[39m \u001b[38;5;66;03m# Collect newly grown trees\u001b[39;00m\n\u001b[32m    509\u001b[39m \u001b[38;5;28mself\u001b[39m.estimators_.extend(trees)\n",
      "\u001b[36mFile \u001b[39m\u001b[32m~/Documents/TPS/TPS 2A/S8/Deep learning/Workshop deep learning/.venv/lib/python3.12/site-packages/sklearn/utils/parallel.py:77\u001b[39m, in \u001b[36mParallel.__call__\u001b[39m\u001b[34m(self, iterable)\u001b[39m\n\u001b[32m     72\u001b[39m config = get_config()\n\u001b[32m     73\u001b[39m iterable_with_config = (\n\u001b[32m     74\u001b[39m     (_with_config(delayed_func, config), args, kwargs)\n\u001b[32m     75\u001b[39m     \u001b[38;5;28;01mfor\u001b[39;00m delayed_func, args, kwargs \u001b[38;5;129;01min\u001b[39;00m iterable\n\u001b[32m     76\u001b[39m )\n\u001b[32m---> \u001b[39m\u001b[32m77\u001b[39m \u001b[38;5;28;01mreturn\u001b[39;00m \u001b[38;5;28;43msuper\u001b[39;49m\u001b[43m(\u001b[49m\u001b[43m)\u001b[49m\u001b[43m.\u001b[49m\u001b[34;43m__call__\u001b[39;49m\u001b[43m(\u001b[49m\u001b[43miterable_with_config\u001b[49m\u001b[43m)\u001b[49m\n",
      "\u001b[36mFile \u001b[39m\u001b[32m~/Documents/TPS/TPS 2A/S8/Deep learning/Workshop deep learning/.venv/lib/python3.12/site-packages/joblib/parallel.py:1918\u001b[39m, in \u001b[36mParallel.__call__\u001b[39m\u001b[34m(self, iterable)\u001b[39m\n\u001b[32m   1916\u001b[39m     output = \u001b[38;5;28mself\u001b[39m._get_sequential_output(iterable)\n\u001b[32m   1917\u001b[39m     \u001b[38;5;28mnext\u001b[39m(output)\n\u001b[32m-> \u001b[39m\u001b[32m1918\u001b[39m     \u001b[38;5;28;01mreturn\u001b[39;00m output \u001b[38;5;28;01mif\u001b[39;00m \u001b[38;5;28mself\u001b[39m.return_generator \u001b[38;5;28;01melse\u001b[39;00m \u001b[38;5;28;43mlist\u001b[39;49m\u001b[43m(\u001b[49m\u001b[43moutput\u001b[49m\u001b[43m)\u001b[49m\n\u001b[32m   1920\u001b[39m \u001b[38;5;66;03m# Let's create an ID that uniquely identifies the current call. If the\u001b[39;00m\n\u001b[32m   1921\u001b[39m \u001b[38;5;66;03m# call is interrupted early and that the same instance is immediately\u001b[39;00m\n\u001b[32m   1922\u001b[39m \u001b[38;5;66;03m# re-used, this id will be used to prevent workers that were\u001b[39;00m\n\u001b[32m   1923\u001b[39m \u001b[38;5;66;03m# concurrently finalizing a task from the previous call to run the\u001b[39;00m\n\u001b[32m   1924\u001b[39m \u001b[38;5;66;03m# callback.\u001b[39;00m\n\u001b[32m   1925\u001b[39m \u001b[38;5;28;01mwith\u001b[39;00m \u001b[38;5;28mself\u001b[39m._lock:\n",
      "\u001b[36mFile \u001b[39m\u001b[32m~/Documents/TPS/TPS 2A/S8/Deep learning/Workshop deep learning/.venv/lib/python3.12/site-packages/joblib/parallel.py:1847\u001b[39m, in \u001b[36mParallel._get_sequential_output\u001b[39m\u001b[34m(self, iterable)\u001b[39m\n\u001b[32m   1845\u001b[39m \u001b[38;5;28mself\u001b[39m.n_dispatched_batches += \u001b[32m1\u001b[39m\n\u001b[32m   1846\u001b[39m \u001b[38;5;28mself\u001b[39m.n_dispatched_tasks += \u001b[32m1\u001b[39m\n\u001b[32m-> \u001b[39m\u001b[32m1847\u001b[39m res = \u001b[43mfunc\u001b[49m\u001b[43m(\u001b[49m\u001b[43m*\u001b[49m\u001b[43margs\u001b[49m\u001b[43m,\u001b[49m\u001b[43m \u001b[49m\u001b[43m*\u001b[49m\u001b[43m*\u001b[49m\u001b[43mkwargs\u001b[49m\u001b[43m)\u001b[49m\n\u001b[32m   1848\u001b[39m \u001b[38;5;28mself\u001b[39m.n_completed_tasks += \u001b[32m1\u001b[39m\n\u001b[32m   1849\u001b[39m \u001b[38;5;28mself\u001b[39m.print_progress()\n",
      "\u001b[36mFile \u001b[39m\u001b[32m~/Documents/TPS/TPS 2A/S8/Deep learning/Workshop deep learning/.venv/lib/python3.12/site-packages/sklearn/utils/parallel.py:139\u001b[39m, in \u001b[36m_FuncWrapper.__call__\u001b[39m\u001b[34m(self, *args, **kwargs)\u001b[39m\n\u001b[32m    137\u001b[39m     config = {}\n\u001b[32m    138\u001b[39m \u001b[38;5;28;01mwith\u001b[39;00m config_context(**config):\n\u001b[32m--> \u001b[39m\u001b[32m139\u001b[39m     \u001b[38;5;28;01mreturn\u001b[39;00m \u001b[38;5;28;43mself\u001b[39;49m\u001b[43m.\u001b[49m\u001b[43mfunction\u001b[49m\u001b[43m(\u001b[49m\u001b[43m*\u001b[49m\u001b[43margs\u001b[49m\u001b[43m,\u001b[49m\u001b[43m \u001b[49m\u001b[43m*\u001b[49m\u001b[43m*\u001b[49m\u001b[43mkwargs\u001b[49m\u001b[43m)\u001b[49m\n",
      "\u001b[36mFile \u001b[39m\u001b[32m~/Documents/TPS/TPS 2A/S8/Deep learning/Workshop deep learning/.venv/lib/python3.12/site-packages/sklearn/ensemble/_forest.py:189\u001b[39m, in \u001b[36m_parallel_build_trees\u001b[39m\u001b[34m(tree, bootstrap, X, y, sample_weight, tree_idx, n_trees, verbose, class_weight, n_samples_bootstrap, missing_values_in_feature_mask)\u001b[39m\n\u001b[32m    186\u001b[39m     \u001b[38;5;28;01melif\u001b[39;00m class_weight == \u001b[33m\"\u001b[39m\u001b[33mbalanced_subsample\u001b[39m\u001b[33m\"\u001b[39m:\n\u001b[32m    187\u001b[39m         curr_sample_weight *= compute_sample_weight(\u001b[33m\"\u001b[39m\u001b[33mbalanced\u001b[39m\u001b[33m\"\u001b[39m, y, indices=indices)\n\u001b[32m--> \u001b[39m\u001b[32m189\u001b[39m     \u001b[43mtree\u001b[49m\u001b[43m.\u001b[49m\u001b[43m_fit\u001b[49m\u001b[43m(\u001b[49m\n\u001b[32m    190\u001b[39m \u001b[43m        \u001b[49m\u001b[43mX\u001b[49m\u001b[43m,\u001b[49m\n\u001b[32m    191\u001b[39m \u001b[43m        \u001b[49m\u001b[43my\u001b[49m\u001b[43m,\u001b[49m\n\u001b[32m    192\u001b[39m \u001b[43m        \u001b[49m\u001b[43msample_weight\u001b[49m\u001b[43m=\u001b[49m\u001b[43mcurr_sample_weight\u001b[49m\u001b[43m,\u001b[49m\n\u001b[32m    193\u001b[39m \u001b[43m        \u001b[49m\u001b[43mcheck_input\u001b[49m\u001b[43m=\u001b[49m\u001b[38;5;28;43;01mFalse\u001b[39;49;00m\u001b[43m,\u001b[49m\n\u001b[32m    194\u001b[39m \u001b[43m        \u001b[49m\u001b[43mmissing_values_in_feature_mask\u001b[49m\u001b[43m=\u001b[49m\u001b[43mmissing_values_in_feature_mask\u001b[49m\u001b[43m,\u001b[49m\n\u001b[32m    195\u001b[39m \u001b[43m    \u001b[49m\u001b[43m)\u001b[49m\n\u001b[32m    196\u001b[39m \u001b[38;5;28;01melse\u001b[39;00m:\n\u001b[32m    197\u001b[39m     tree._fit(\n\u001b[32m    198\u001b[39m         X,\n\u001b[32m    199\u001b[39m         y,\n\u001b[32m   (...)\u001b[39m\u001b[32m    202\u001b[39m         missing_values_in_feature_mask=missing_values_in_feature_mask,\n\u001b[32m    203\u001b[39m     )\n",
      "\u001b[36mFile \u001b[39m\u001b[32m~/Documents/TPS/TPS 2A/S8/Deep learning/Workshop deep learning/.venv/lib/python3.12/site-packages/sklearn/tree/_classes.py:472\u001b[39m, in \u001b[36mBaseDecisionTree._fit\u001b[39m\u001b[34m(self, X, y, sample_weight, check_input, missing_values_in_feature_mask)\u001b[39m\n\u001b[32m    461\u001b[39m \u001b[38;5;28;01melse\u001b[39;00m:\n\u001b[32m    462\u001b[39m     builder = BestFirstTreeBuilder(\n\u001b[32m    463\u001b[39m         splitter,\n\u001b[32m    464\u001b[39m         min_samples_split,\n\u001b[32m   (...)\u001b[39m\u001b[32m    469\u001b[39m         \u001b[38;5;28mself\u001b[39m.min_impurity_decrease,\n\u001b[32m    470\u001b[39m     )\n\u001b[32m--> \u001b[39m\u001b[32m472\u001b[39m \u001b[43mbuilder\u001b[49m\u001b[43m.\u001b[49m\u001b[43mbuild\u001b[49m\u001b[43m(\u001b[49m\u001b[38;5;28;43mself\u001b[39;49m\u001b[43m.\u001b[49m\u001b[43mtree_\u001b[49m\u001b[43m,\u001b[49m\u001b[43m \u001b[49m\u001b[43mX\u001b[49m\u001b[43m,\u001b[49m\u001b[43m \u001b[49m\u001b[43my\u001b[49m\u001b[43m,\u001b[49m\u001b[43m \u001b[49m\u001b[43msample_weight\u001b[49m\u001b[43m,\u001b[49m\u001b[43m \u001b[49m\u001b[43mmissing_values_in_feature_mask\u001b[49m\u001b[43m)\u001b[49m\n\u001b[32m    474\u001b[39m \u001b[38;5;28;01mif\u001b[39;00m \u001b[38;5;28mself\u001b[39m.n_outputs_ == \u001b[32m1\u001b[39m \u001b[38;5;129;01mand\u001b[39;00m is_classifier(\u001b[38;5;28mself\u001b[39m):\n\u001b[32m    475\u001b[39m     \u001b[38;5;28mself\u001b[39m.n_classes_ = \u001b[38;5;28mself\u001b[39m.n_classes_[\u001b[32m0\u001b[39m]\n",
      "\u001b[31mKeyboardInterrupt\u001b[39m: "
     ]
    }
   ],
   "source": [
    "results = []\n",
    "for i in range(5):\n",
    "    clf =  RandomForestClassifier(n_estimators=200, random_state=42)\n",
    "    clf.fit(X_train, y_train)\n",
    "    y_pred = clf.predict(X_test)\n",
    "    accuracy = accuracy_score(y_test, y_pred)\n",
    "    results.append(accuracy)\n",
    "    print(f\"Iteration {i+1}: {accuracy * 100:.2f}%\")\n",
    "print(f\"Mean accuracy: {np.mean(results) * 100:.2f}%\")"
   ]
  },
  {
   "cell_type": "markdown",
   "id": "9e103870",
   "metadata": {},
   "source": [
    "Test of a Dense model"
   ]
  },
  {
   "cell_type": "code",
   "execution_count": 68,
>>>>>>> 74eff2d (optimisation of results of embedding)
   "id": "7fb90393",
   "metadata": {},
   "outputs": [],
   "source": [
    "num_classes = 3\n",
    "input_dim = X.shape[1]"
   ]
  },
  {
   "cell_type": "markdown",
   "id": "1d171bd7",
   "metadata": {},
   "source": [
    "Best model found :"
   ]
  },
  {
   "cell_type": "code",
<<<<<<< HEAD
   "execution_count": 13,
   "id": "8f1e111c",
   "metadata": {},
   "outputs": [
    {
     "name": "stderr",
     "output_type": "stream",
     "text": [
      "2025-05-03 04:39:41.592124: E external/local_xla/xla/stream_executor/cuda/cuda_platform.cc:51] failed call to cuInit: INTERNAL: CUDA error: Failed call to cuInit: UNKNOWN ERROR (303)\n"
     ]
    }
   ],
=======
   "execution_count": null,
   "id": "8f1e111c",
   "metadata": {},
   "outputs": [],
>>>>>>> 74eff2d (optimisation of results of embedding)
   "source": [
    "\n",
    "model = Sequential([\n",
    "    Input(shape=(input_dim,)),\n",
<<<<<<< HEAD
    "    Dense(512, activation='relu'),\n",
    "    Dropout(0.3),\n",
=======
    "    Dense(256, activation='relu'),\n",
    "    Dropout(0.7),\n",
    "    Dense(3, activation='softmax')  # 3 classes : contradiction, neutral, entailment\n",
    "])"
   ]
  },
  {
   "cell_type": "markdown",
   "id": "e4ebbc80",
   "metadata": {},
   "source": [
    "Other model :"
   ]
  },
  {
   "cell_type": "code",
   "execution_count": null,
   "id": "08801fdf",
   "metadata": {},
   "outputs": [],
   "source": [
    "model2 = Sequential([\n",
>>>>>>> 74eff2d (optimisation of results of embedding)
    "    Dense(256, activation='relu'),\n",
    "    Dropout(0.3),\n",
    "    Dense(128, activation='relu'),\n",
    "    Dropout(0.2),\n",
    "    Dense(num_classes, activation='softmax') \n",
    "])"
   ]
  },
  {
   "cell_type": "code",
<<<<<<< HEAD
   "execution_count": 14,
=======
   "execution_count": 144,
>>>>>>> 74eff2d (optimisation of results of embedding)
   "id": "7a64e07a",
   "metadata": {},
   "outputs": [
    {
     "name": "stdout",
     "output_type": "stream",
     "text": [
<<<<<<< HEAD
      "Epoch 1/10\n",
      "\u001b[1m104/104\u001b[0m \u001b[32m━━━━━━━━━━━━━━━━━━━━\u001b[0m\u001b[37m\u001b[0m \u001b[1m2s\u001b[0m 5ms/step - accuracy: 0.3271 - loss: 1.1021 - val_accuracy: 0.3870 - val_loss: 1.0833\n",
      "Epoch 2/10\n",
      "\u001b[1m104/104\u001b[0m \u001b[32m━━━━━━━━━━━━━━━━━━━━\u001b[0m\u001b[37m\u001b[0m \u001b[1m0s\u001b[0m 4ms/step - accuracy: 0.4439 - loss: 1.0551 - val_accuracy: 0.4195 - val_loss: 1.0606\n",
      "Epoch 3/10\n",
      "\u001b[1m104/104\u001b[0m \u001b[32m━━━━━━━━━━━━━━━━━━━━\u001b[0m\u001b[37m\u001b[0m \u001b[1m0s\u001b[0m 4ms/step - accuracy: 0.4923 - loss: 0.9805 - val_accuracy: 0.3882 - val_loss: 1.0927\n",
      "Epoch 4/10\n",
      "\u001b[1m104/104\u001b[0m \u001b[32m━━━━━━━━━━━━━━━━━━━━\u001b[0m\u001b[37m\u001b[0m \u001b[1m0s\u001b[0m 4ms/step - accuracy: 0.5813 - loss: 0.8535 - val_accuracy: 0.4123 - val_loss: 1.1465\n",
      "Epoch 5/10\n",
      "\u001b[1m104/104\u001b[0m \u001b[32m━━━━━━━━━━━━━━━━━━━━\u001b[0m\u001b[37m\u001b[0m \u001b[1m0s\u001b[0m 4ms/step - accuracy: 0.6811 - loss: 0.7107 - val_accuracy: 0.3954 - val_loss: 1.2361\n",
      "Epoch 6/10\n",
      "\u001b[1m104/104\u001b[0m \u001b[32m━━━━━━━━━━━━━━━━━━━━\u001b[0m\u001b[37m\u001b[0m \u001b[1m0s\u001b[0m 4ms/step - accuracy: 0.7228 - loss: 0.5859 - val_accuracy: 0.3882 - val_loss: 1.4663\n",
      "Epoch 7/10\n",
      "\u001b[1m104/104\u001b[0m \u001b[32m━━━━━━━━━━━━━━━━━━━━\u001b[0m\u001b[37m\u001b[0m \u001b[1m0s\u001b[0m 4ms/step - accuracy: 0.7886 - loss: 0.4737 - val_accuracy: 0.3858 - val_loss: 1.6788\n",
      "Epoch 8/10\n",
      "\u001b[1m104/104\u001b[0m \u001b[32m━━━━━━━━━━━━━━━━━━━━\u001b[0m\u001b[37m\u001b[0m \u001b[1m0s\u001b[0m 4ms/step - accuracy: 0.8071 - loss: 0.4176 - val_accuracy: 0.4050 - val_loss: 1.7597\n",
      "Epoch 9/10\n",
      "\u001b[1m104/104\u001b[0m \u001b[32m━━━━━━━━━━━━━━━━━━━━\u001b[0m\u001b[37m\u001b[0m \u001b[1m0s\u001b[0m 4ms/step - accuracy: 0.8146 - loss: 0.3741 - val_accuracy: 0.4087 - val_loss: 2.0022\n",
      "Epoch 10/10\n",
      "\u001b[1m104/104\u001b[0m \u001b[32m━━━━━━━━━━━━━━━━━━━━\u001b[0m\u001b[37m\u001b[0m \u001b[1m0s\u001b[0m 4ms/step - accuracy: 0.8160 - loss: 0.3460 - val_accuracy: 0.3882 - val_loss: 2.0069\n"
=======
      "Epoch 1/8\n",
      "\u001b[1m104/104\u001b[0m \u001b[32m━━━━━━━━━━━━━━━━━━━━\u001b[0m\u001b[37m\u001b[0m \u001b[1m1s\u001b[0m 4ms/step - accuracy: 0.3429 - loss: 1.1033 - val_accuracy: 0.4050 - val_loss: 1.0791\n",
      "Epoch 2/8\n",
      "\u001b[1m104/104\u001b[0m \u001b[32m━━━━━━━━━━━━━━━━━━━━\u001b[0m\u001b[37m\u001b[0m \u001b[1m0s\u001b[0m 3ms/step - accuracy: 0.4272 - loss: 1.0670 - val_accuracy: 0.4351 - val_loss: 1.0593\n",
      "Epoch 3/8\n",
      "\u001b[1m104/104\u001b[0m \u001b[32m━━━━━━━━━━━━━━━━━━━━\u001b[0m\u001b[37m\u001b[0m \u001b[1m0s\u001b[0m 3ms/step - accuracy: 0.4637 - loss: 1.0301 - val_accuracy: 0.4483 - val_loss: 1.0453\n",
      "Epoch 4/8\n",
      "\u001b[1m104/104\u001b[0m \u001b[32m━━━━━━━━━━━━━━━━━━━━\u001b[0m\u001b[37m\u001b[0m \u001b[1m0s\u001b[0m 3ms/step - accuracy: 0.5033 - loss: 0.9897 - val_accuracy: 0.4399 - val_loss: 1.0377\n",
      "Epoch 5/8\n",
      "\u001b[1m104/104\u001b[0m \u001b[32m━━━━━━━━━━━━━━━━━━━━\u001b[0m\u001b[37m\u001b[0m \u001b[1m0s\u001b[0m 3ms/step - accuracy: 0.5258 - loss: 0.9698 - val_accuracy: 0.4387 - val_loss: 1.0357\n",
      "Epoch 6/8\n",
      "\u001b[1m104/104\u001b[0m \u001b[32m━━━━━━━━━━━━━━━━━━━━\u001b[0m\u001b[37m\u001b[0m \u001b[1m0s\u001b[0m 3ms/step - accuracy: 0.5331 - loss: 0.9407 - val_accuracy: 0.4435 - val_loss: 1.0427\n",
      "Epoch 7/8\n",
      "\u001b[1m104/104\u001b[0m \u001b[32m━━━━━━━━━━━━━━━━━━━━\u001b[0m\u001b[37m\u001b[0m \u001b[1m0s\u001b[0m 3ms/step - accuracy: 0.5838 - loss: 0.8978 - val_accuracy: 0.4519 - val_loss: 1.0458\n",
      "Epoch 8/8\n",
      "\u001b[1m104/104\u001b[0m \u001b[32m━━━━━━━━━━━━━━━━━━━━\u001b[0m\u001b[37m\u001b[0m \u001b[1m0s\u001b[0m 3ms/step - accuracy: 0.5597 - loss: 0.8899 - val_accuracy: 0.4315 - val_loss: 1.0462\n"
>>>>>>> 74eff2d (optimisation of results of embedding)
     ]
    }
   ],
   "source": [
    "model.compile(optimizer='adam', loss='sparse_categorical_crossentropy', metrics=['accuracy'])\n",
    "history = model.fit(X_train, y_train, epochs=8, batch_size=32, validation_split=0.2)\n"
   ]
  },
  {
   "cell_type": "code",
<<<<<<< HEAD
   "execution_count": 15,
=======
   "execution_count": 145,
   "id": "494c29a2",
   "metadata": {},
   "outputs": [
    {
     "data": {
      "image/png": "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",
      "text/plain": [
       "<Figure size 1200x400 with 2 Axes>"
      ]
     },
     "metadata": {},
     "output_type": "display_data"
    }
   ],
   "source": [
    "# loss\n",
    "plt.figure(figsize=(12, 4))\n",
    "plt.subplot(1, 2, 1)\n",
    "plt.plot(history.history['loss'], label='train loss')\n",
    "plt.plot(history.history['val_loss'], label='val loss')\n",
    "plt.title('Loss graph')\n",
    "plt.xlabel('Époque')\n",
    "plt.ylabel('Loss')\n",
    "plt.legend()\n",
    "\n",
    "# accuracy\n",
    "plt.subplot(1, 2, 2)\n",
    "plt.plot(history.history['accuracy'], label='train accuracy')\n",
    "plt.plot(history.history['val_accuracy'], label='val accuracy')\n",
    "plt.title('Accuracy graph')\n",
    "plt.xlabel('Époque')\n",
    "plt.ylabel('Accuracy')\n",
    "plt.legend()\n",
    "\n",
    "plt.tight_layout()\n",
    "plt.show()"
   ]
  },
  {
   "cell_type": "code",
   "execution_count": 146,
>>>>>>> 74eff2d (optimisation of results of embedding)
   "id": "88d44acd",
   "metadata": {},
   "outputs": [
    {
     "name": "stdout",
     "output_type": "stream",
     "text": [
      "\u001b[1m33/33\u001b[0m \u001b[32m━━━━━━━━━━━━━━━━━━━━\u001b[0m\u001b[37m\u001b[0m \u001b[1m0s\u001b[0m 2ms/step \n"
     ]
    }
   ],
   "source": [
    "y_pred_classes = model.predict(X_test)\n",
<<<<<<< HEAD
    "print(y_pred_classes.shape)\n",
    "y_pred = np.argmax(y_pred_classes, axis=1)"
=======
    "y_pred = np.argmax(y_pred_classes, axis=1)\n"
>>>>>>> 74eff2d (optimisation of results of embedding)
   ]
  },
  {
   "cell_type": "code",
<<<<<<< HEAD
   "execution_count": 16,
=======
   "execution_count": 147,
>>>>>>> 74eff2d (optimisation of results of embedding)
   "id": "30828167",
   "metadata": {},
   "outputs": [
    {
     "name": "stdout",
     "output_type": "stream",
     "text": [
<<<<<<< HEAD
      "Accuracy: 36.96%\n"
=======
      "Accuracy: 42.44%\n"
>>>>>>> 74eff2d (optimisation of results of embedding)
     ]
    }
   ],
   "source": [
    "accuracy = accuracy_score(y_test, y_pred)\n",
    "print(f\"Accuracy: {accuracy * 100:.2f}%\")"
   ]
<<<<<<< HEAD
=======
  },
  {
   "cell_type": "code",
   "execution_count": 156,
   "id": "687b5822",
   "metadata": {},
   "outputs": [
    {
     "name": "stdout",
     "output_type": "stream",
     "text": [
      "Epoch 1/8\n",
      "\u001b[1m104/104\u001b[0m \u001b[32m━━━━━━━━━━━━━━━━━━━━\u001b[0m\u001b[37m\u001b[0m \u001b[1m1s\u001b[0m 4ms/step - accuracy: 0.8577 - loss: 0.2561 - val_accuracy: 0.4387 - val_loss: 3.6718\n",
      "Epoch 2/8\n",
      "\u001b[1m104/104\u001b[0m \u001b[32m━━━━━━━━━━━━━━━━━━━━\u001b[0m\u001b[37m\u001b[0m \u001b[1m0s\u001b[0m 3ms/step - accuracy: 0.8587 - loss: 0.2443 - val_accuracy: 0.4411 - val_loss: 3.6310\n",
      "Epoch 3/8\n",
      "\u001b[1m104/104\u001b[0m \u001b[32m━━━━━━━━━━━━━━━━━━━━\u001b[0m\u001b[37m\u001b[0m \u001b[1m0s\u001b[0m 3ms/step - accuracy: 0.8624 - loss: 0.2313 - val_accuracy: 0.4411 - val_loss: 3.5686\n",
      "Epoch 4/8\n",
      "\u001b[1m104/104\u001b[0m \u001b[32m━━━━━━━━━━━━━━━━━━━━\u001b[0m\u001b[37m\u001b[0m \u001b[1m0s\u001b[0m 3ms/step - accuracy: 0.8567 - loss: 0.2488 - val_accuracy: 0.4327 - val_loss: 3.5182\n",
      "Epoch 5/8\n",
      "\u001b[1m104/104\u001b[0m \u001b[32m━━━━━━━━━━━━━━━━━━━━\u001b[0m\u001b[37m\u001b[0m \u001b[1m0s\u001b[0m 3ms/step - accuracy: 0.8576 - loss: 0.2480 - val_accuracy: 0.4399 - val_loss: 3.5182\n",
      "Epoch 6/8\n",
      "\u001b[1m104/104\u001b[0m \u001b[32m━━━━━━━━━━━━━━━━━━━━\u001b[0m\u001b[37m\u001b[0m \u001b[1m0s\u001b[0m 4ms/step - accuracy: 0.8584 - loss: 0.2431 - val_accuracy: 0.4459 - val_loss: 3.5036\n",
      "Epoch 7/8\n",
      "\u001b[1m104/104\u001b[0m \u001b[32m━━━━━━━━━━━━━━━━━━━━\u001b[0m\u001b[37m\u001b[0m \u001b[1m0s\u001b[0m 3ms/step - accuracy: 0.8557 - loss: 0.2575 - val_accuracy: 0.4399 - val_loss: 3.3725\n",
      "Epoch 8/8\n",
      "\u001b[1m104/104\u001b[0m \u001b[32m━━━━━━━━━━━━━━━━━━━━\u001b[0m\u001b[37m\u001b[0m \u001b[1m0s\u001b[0m 3ms/step - accuracy: 0.8605 - loss: 0.2493 - val_accuracy: 0.4375 - val_loss: 3.5205\n",
      "\u001b[1m33/33\u001b[0m \u001b[32m━━━━━━━━━━━━━━━━━━━━\u001b[0m\u001b[37m\u001b[0m \u001b[1m0s\u001b[0m 2ms/step \n",
      "Accuracy: 39.08%\n",
      "Epoch 1/8\n",
      "\u001b[1m104/104\u001b[0m \u001b[32m━━━━━━━━━━━━━━━━━━━━\u001b[0m\u001b[37m\u001b[0m \u001b[1m1s\u001b[0m 4ms/step - accuracy: 0.8553 - loss: 0.2465 - val_accuracy: 0.4411 - val_loss: 4.0326\n",
      "Epoch 2/8\n",
      "\u001b[1m104/104\u001b[0m \u001b[32m━━━━━━━━━━━━━━━━━━━━\u001b[0m\u001b[37m\u001b[0m \u001b[1m0s\u001b[0m 3ms/step - accuracy: 0.8594 - loss: 0.2597 - val_accuracy: 0.4327 - val_loss: 3.8345\n",
      "Epoch 3/8\n",
      "\u001b[1m104/104\u001b[0m \u001b[32m━━━━━━━━━━━━━━━━━━━━\u001b[0m\u001b[37m\u001b[0m \u001b[1m0s\u001b[0m 3ms/step - accuracy: 0.8620 - loss: 0.2446 - val_accuracy: 0.4363 - val_loss: 3.7678\n",
      "Epoch 4/8\n",
      "\u001b[1m104/104\u001b[0m \u001b[32m━━━━━━━━━━━━━━━━━━━━\u001b[0m\u001b[37m\u001b[0m \u001b[1m0s\u001b[0m 3ms/step - accuracy: 0.8626 - loss: 0.2317 - val_accuracy: 0.4435 - val_loss: 3.7121\n",
      "Epoch 5/8\n",
      "\u001b[1m104/104\u001b[0m \u001b[32m━━━━━━━━━━━━━━━━━━━━\u001b[0m\u001b[37m\u001b[0m \u001b[1m0s\u001b[0m 3ms/step - accuracy: 0.8717 - loss: 0.2340 - val_accuracy: 0.4339 - val_loss: 3.4443\n",
      "Epoch 6/8\n",
      "\u001b[1m104/104\u001b[0m \u001b[32m━━━━━━━━━━━━━━━━━━━━\u001b[0m\u001b[37m\u001b[0m \u001b[1m0s\u001b[0m 3ms/step - accuracy: 0.8562 - loss: 0.2511 - val_accuracy: 0.4363 - val_loss: 3.3826\n",
      "Epoch 7/8\n",
      "\u001b[1m104/104\u001b[0m \u001b[32m━━━━━━━━━━━━━━━━━━━━\u001b[0m\u001b[37m\u001b[0m \u001b[1m0s\u001b[0m 3ms/step - accuracy: 0.8599 - loss: 0.2449 - val_accuracy: 0.4411 - val_loss: 3.4504\n",
      "Epoch 8/8\n",
      "\u001b[1m104/104\u001b[0m \u001b[32m━━━━━━━━━━━━━━━━━━━━\u001b[0m\u001b[37m\u001b[0m \u001b[1m0s\u001b[0m 3ms/step - accuracy: 0.8632 - loss: 0.2422 - val_accuracy: 0.4399 - val_loss: 3.5612\n",
      "\u001b[1m33/33\u001b[0m \u001b[32m━━━━━━━━━━━━━━━━━━━━\u001b[0m\u001b[37m\u001b[0m \u001b[1m0s\u001b[0m 2ms/step \n",
      "Accuracy: 38.59%\n",
      "Epoch 1/8\n",
      "\u001b[1m104/104\u001b[0m \u001b[32m━━━━━━━━━━━━━━━━━━━━\u001b[0m\u001b[37m\u001b[0m \u001b[1m1s\u001b[0m 4ms/step - accuracy: 0.8653 - loss: 0.2354 - val_accuracy: 0.4279 - val_loss: 3.9879\n",
      "Epoch 2/8\n",
      "\u001b[1m104/104\u001b[0m \u001b[32m━━━━━━━━━━━━━━━━━━━━\u001b[0m\u001b[37m\u001b[0m \u001b[1m0s\u001b[0m 3ms/step - accuracy: 0.8587 - loss: 0.2531 - val_accuracy: 0.4351 - val_loss: 3.7042\n",
      "Epoch 3/8\n",
      "\u001b[1m104/104\u001b[0m \u001b[32m━━━━━━━━━━━━━━━━━━━━\u001b[0m\u001b[37m\u001b[0m \u001b[1m0s\u001b[0m 3ms/step - accuracy: 0.8552 - loss: 0.2592 - val_accuracy: 0.4339 - val_loss: 3.5087\n",
      "Epoch 4/8\n",
      "\u001b[1m104/104\u001b[0m \u001b[32m━━━━━━━━━━━━━━━━━━━━\u001b[0m\u001b[37m\u001b[0m \u001b[1m0s\u001b[0m 3ms/step - accuracy: 0.8586 - loss: 0.2467 - val_accuracy: 0.4255 - val_loss: 3.5322\n",
      "Epoch 5/8\n",
      "\u001b[1m104/104\u001b[0m \u001b[32m━━━━━━━━━━━━━━━━━━━━\u001b[0m\u001b[37m\u001b[0m \u001b[1m0s\u001b[0m 3ms/step - accuracy: 0.8703 - loss: 0.2271 - val_accuracy: 0.4351 - val_loss: 3.5481\n",
      "Epoch 6/8\n",
      "\u001b[1m104/104\u001b[0m \u001b[32m━━━━━━━━━━━━━━━━━━━━\u001b[0m\u001b[37m\u001b[0m \u001b[1m0s\u001b[0m 3ms/step - accuracy: 0.8706 - loss: 0.2212 - val_accuracy: 0.4327 - val_loss: 3.5794\n",
      "Epoch 7/8\n",
      "\u001b[1m104/104\u001b[0m \u001b[32m━━━━━━━━━━━━━━━━━━━━\u001b[0m\u001b[37m\u001b[0m \u001b[1m0s\u001b[0m 3ms/step - accuracy: 0.8567 - loss: 0.2536 - val_accuracy: 0.4423 - val_loss: 3.4693\n",
      "Epoch 8/8\n",
      "\u001b[1m104/104\u001b[0m \u001b[32m━━━━━━━━━━━━━━━━━━━━\u001b[0m\u001b[37m\u001b[0m \u001b[1m0s\u001b[0m 3ms/step - accuracy: 0.8639 - loss: 0.2376 - val_accuracy: 0.4423 - val_loss: 3.4886\n",
      "\u001b[1m33/33\u001b[0m \u001b[32m━━━━━━━━━━━━━━━━━━━━\u001b[0m\u001b[37m\u001b[0m \u001b[1m0s\u001b[0m 2ms/step \n",
      "Accuracy: 38.79%\n",
      "Epoch 1/8\n",
      "\u001b[1m104/104\u001b[0m \u001b[32m━━━━━━━━━━━━━━━━━━━━\u001b[0m\u001b[37m\u001b[0m \u001b[1m1s\u001b[0m 4ms/step - accuracy: 0.8614 - loss: 0.2466 - val_accuracy: 0.4351 - val_loss: 3.7779\n",
      "Epoch 2/8\n",
      "\u001b[1m104/104\u001b[0m \u001b[32m━━━━━━━━━━━━━━━━━━━━\u001b[0m\u001b[37m\u001b[0m \u001b[1m0s\u001b[0m 3ms/step - accuracy: 0.8561 - loss: 0.2547 - val_accuracy: 0.4411 - val_loss: 3.6101\n",
      "Epoch 3/8\n",
      "\u001b[1m104/104\u001b[0m \u001b[32m━━━━━━━━━━━━━━━━━━━━\u001b[0m\u001b[37m\u001b[0m \u001b[1m0s\u001b[0m 4ms/step - accuracy: 0.8580 - loss: 0.2430 - val_accuracy: 0.4411 - val_loss: 3.4487\n",
      "Epoch 4/8\n",
      "\u001b[1m104/104\u001b[0m \u001b[32m━━━━━━━━━━━━━━━━━━━━\u001b[0m\u001b[37m\u001b[0m \u001b[1m0s\u001b[0m 3ms/step - accuracy: 0.8631 - loss: 0.2409 - val_accuracy: 0.4471 - val_loss: 3.6224\n",
      "Epoch 5/8\n",
      "\u001b[1m104/104\u001b[0m \u001b[32m━━━━━━━━━━━━━━━━━━━━\u001b[0m\u001b[37m\u001b[0m \u001b[1m0s\u001b[0m 3ms/step - accuracy: 0.8690 - loss: 0.2284 - val_accuracy: 0.4351 - val_loss: 3.6170\n",
      "Epoch 6/8\n",
      "\u001b[1m104/104\u001b[0m \u001b[32m━━━━━━━━━━━━━━━━━━━━\u001b[0m\u001b[37m\u001b[0m \u001b[1m0s\u001b[0m 3ms/step - accuracy: 0.8705 - loss: 0.2342 - val_accuracy: 0.4363 - val_loss: 3.5500\n",
      "Epoch 7/8\n",
      "\u001b[1m104/104\u001b[0m \u001b[32m━━━━━━━━━━━━━━━━━━━━\u001b[0m\u001b[37m\u001b[0m \u001b[1m0s\u001b[0m 3ms/step - accuracy: 0.8615 - loss: 0.2405 - val_accuracy: 0.4387 - val_loss: 3.5248\n",
      "Epoch 8/8\n",
      "\u001b[1m104/104\u001b[0m \u001b[32m━━━━━━━━━━━━━━━━━━━━\u001b[0m\u001b[37m\u001b[0m \u001b[1m0s\u001b[0m 3ms/step - accuracy: 0.8665 - loss: 0.2238 - val_accuracy: 0.4339 - val_loss: 3.4384\n",
      "\u001b[1m33/33\u001b[0m \u001b[32m━━━━━━━━━━━━━━━━━━━━\u001b[0m\u001b[37m\u001b[0m \u001b[1m0s\u001b[0m 2ms/step \n",
      "Accuracy: 39.17%\n",
      "Epoch 1/8\n",
      "\u001b[1m 79/104\u001b[0m \u001b[32m━━━━━━━━━━━━━━━\u001b[0m\u001b[37m━━━━━\u001b[0m \u001b[1m0s\u001b[0m 3ms/step - accuracy: 0.8655 - loss: 0.2385"
     ]
    },
    {
     "ename": "KeyboardInterrupt",
     "evalue": "",
     "output_type": "error",
     "traceback": [
      "\u001b[31m---------------------------------------------------------------------------\u001b[39m",
      "\u001b[31mKeyboardInterrupt\u001b[39m                         Traceback (most recent call last)",
      "\u001b[36mCell\u001b[39m\u001b[36m \u001b[39m\u001b[32mIn[156]\u001b[39m\u001b[32m, line 4\u001b[39m\n\u001b[32m      2\u001b[39m \u001b[38;5;28;01mfor\u001b[39;00m i \u001b[38;5;129;01min\u001b[39;00m \u001b[38;5;28mrange\u001b[39m(\u001b[32m10\u001b[39m):\n\u001b[32m      3\u001b[39m     model.compile(optimizer=\u001b[33m'\u001b[39m\u001b[33madam\u001b[39m\u001b[33m'\u001b[39m, loss=\u001b[33m'\u001b[39m\u001b[33msparse_categorical_crossentropy\u001b[39m\u001b[33m'\u001b[39m, metrics=[\u001b[33m'\u001b[39m\u001b[33maccuracy\u001b[39m\u001b[33m'\u001b[39m])\n\u001b[32m----> \u001b[39m\u001b[32m4\u001b[39m     history = \u001b[43mmodel\u001b[49m\u001b[43m.\u001b[49m\u001b[43mfit\u001b[49m\u001b[43m(\u001b[49m\u001b[43mX_train\u001b[49m\u001b[43m,\u001b[49m\u001b[43m \u001b[49m\u001b[43my_train\u001b[49m\u001b[43m,\u001b[49m\u001b[43m \u001b[49m\u001b[43mepochs\u001b[49m\u001b[43m=\u001b[49m\u001b[32;43m8\u001b[39;49m\u001b[43m,\u001b[49m\u001b[43m \u001b[49m\u001b[43mbatch_size\u001b[49m\u001b[43m=\u001b[49m\u001b[32;43m32\u001b[39;49m\u001b[43m,\u001b[49m\u001b[43m \u001b[49m\u001b[43mvalidation_split\u001b[49m\u001b[43m=\u001b[49m\u001b[32;43m0.2\u001b[39;49m\u001b[43m)\u001b[49m\n\u001b[32m      5\u001b[39m     y_pred_classes = model.predict(X_test)\n\u001b[32m      6\u001b[39m     y_pred = np.argmax(y_pred_classes, axis=\u001b[32m1\u001b[39m)\n",
      "\u001b[36mFile \u001b[39m\u001b[32m~/Documents/TPS/TPS 2A/S8/Deep learning/Workshop deep learning/.venv/lib/python3.12/site-packages/keras/src/utils/traceback_utils.py:117\u001b[39m, in \u001b[36mfilter_traceback.<locals>.error_handler\u001b[39m\u001b[34m(*args, **kwargs)\u001b[39m\n\u001b[32m    115\u001b[39m filtered_tb = \u001b[38;5;28;01mNone\u001b[39;00m\n\u001b[32m    116\u001b[39m \u001b[38;5;28;01mtry\u001b[39;00m:\n\u001b[32m--> \u001b[39m\u001b[32m117\u001b[39m     \u001b[38;5;28;01mreturn\u001b[39;00m \u001b[43mfn\u001b[49m\u001b[43m(\u001b[49m\u001b[43m*\u001b[49m\u001b[43margs\u001b[49m\u001b[43m,\u001b[49m\u001b[43m \u001b[49m\u001b[43m*\u001b[49m\u001b[43m*\u001b[49m\u001b[43mkwargs\u001b[49m\u001b[43m)\u001b[49m\n\u001b[32m    118\u001b[39m \u001b[38;5;28;01mexcept\u001b[39;00m \u001b[38;5;167;01mException\u001b[39;00m \u001b[38;5;28;01mas\u001b[39;00m e:\n\u001b[32m    119\u001b[39m     filtered_tb = _process_traceback_frames(e.__traceback__)\n",
      "\u001b[36mFile \u001b[39m\u001b[32m~/Documents/TPS/TPS 2A/S8/Deep learning/Workshop deep learning/.venv/lib/python3.12/site-packages/keras/src/backend/tensorflow/trainer.py:371\u001b[39m, in \u001b[36mTensorFlowTrainer.fit\u001b[39m\u001b[34m(self, x, y, batch_size, epochs, verbose, callbacks, validation_split, validation_data, shuffle, class_weight, sample_weight, initial_epoch, steps_per_epoch, validation_steps, validation_batch_size, validation_freq)\u001b[39m\n\u001b[32m    369\u001b[39m \u001b[38;5;28;01mfor\u001b[39;00m step, iterator \u001b[38;5;129;01min\u001b[39;00m epoch_iterator:\n\u001b[32m    370\u001b[39m     callbacks.on_train_batch_begin(step)\n\u001b[32m--> \u001b[39m\u001b[32m371\u001b[39m     logs = \u001b[38;5;28;43mself\u001b[39;49m\u001b[43m.\u001b[49m\u001b[43mtrain_function\u001b[49m\u001b[43m(\u001b[49m\u001b[43miterator\u001b[49m\u001b[43m)\u001b[49m\n\u001b[32m    372\u001b[39m     callbacks.on_train_batch_end(step, logs)\n\u001b[32m    373\u001b[39m     \u001b[38;5;28;01mif\u001b[39;00m \u001b[38;5;28mself\u001b[39m.stop_training:\n",
      "\u001b[36mFile \u001b[39m\u001b[32m~/Documents/TPS/TPS 2A/S8/Deep learning/Workshop deep learning/.venv/lib/python3.12/site-packages/keras/src/backend/tensorflow/trainer.py:219\u001b[39m, in \u001b[36mTensorFlowTrainer._make_function.<locals>.function\u001b[39m\u001b[34m(iterator)\u001b[39m\n\u001b[32m    215\u001b[39m \u001b[38;5;28;01mdef\u001b[39;00m\u001b[38;5;250m \u001b[39m\u001b[34mfunction\u001b[39m(iterator):\n\u001b[32m    216\u001b[39m     \u001b[38;5;28;01mif\u001b[39;00m \u001b[38;5;28misinstance\u001b[39m(\n\u001b[32m    217\u001b[39m         iterator, (tf.data.Iterator, tf.distribute.DistributedIterator)\n\u001b[32m    218\u001b[39m     ):\n\u001b[32m--> \u001b[39m\u001b[32m219\u001b[39m         opt_outputs = \u001b[43mmulti_step_on_iterator\u001b[49m\u001b[43m(\u001b[49m\u001b[43miterator\u001b[49m\u001b[43m)\u001b[49m\n\u001b[32m    220\u001b[39m         \u001b[38;5;28;01mif\u001b[39;00m \u001b[38;5;129;01mnot\u001b[39;00m opt_outputs.has_value():\n\u001b[32m    221\u001b[39m             \u001b[38;5;28;01mraise\u001b[39;00m \u001b[38;5;167;01mStopIteration\u001b[39;00m\n",
      "\u001b[36mFile \u001b[39m\u001b[32m~/Documents/TPS/TPS 2A/S8/Deep learning/Workshop deep learning/.venv/lib/python3.12/site-packages/tensorflow/python/util/traceback_utils.py:150\u001b[39m, in \u001b[36mfilter_traceback.<locals>.error_handler\u001b[39m\u001b[34m(*args, **kwargs)\u001b[39m\n\u001b[32m    148\u001b[39m filtered_tb = \u001b[38;5;28;01mNone\u001b[39;00m\n\u001b[32m    149\u001b[39m \u001b[38;5;28;01mtry\u001b[39;00m:\n\u001b[32m--> \u001b[39m\u001b[32m150\u001b[39m   \u001b[38;5;28;01mreturn\u001b[39;00m \u001b[43mfn\u001b[49m\u001b[43m(\u001b[49m\u001b[43m*\u001b[49m\u001b[43margs\u001b[49m\u001b[43m,\u001b[49m\u001b[43m \u001b[49m\u001b[43m*\u001b[49m\u001b[43m*\u001b[49m\u001b[43mkwargs\u001b[49m\u001b[43m)\u001b[49m\n\u001b[32m    151\u001b[39m \u001b[38;5;28;01mexcept\u001b[39;00m \u001b[38;5;167;01mException\u001b[39;00m \u001b[38;5;28;01mas\u001b[39;00m e:\n\u001b[32m    152\u001b[39m   filtered_tb = _process_traceback_frames(e.__traceback__)\n",
      "\u001b[36mFile \u001b[39m\u001b[32m~/Documents/TPS/TPS 2A/S8/Deep learning/Workshop deep learning/.venv/lib/python3.12/site-packages/tensorflow/python/eager/polymorphic_function/polymorphic_function.py:833\u001b[39m, in \u001b[36mFunction.__call__\u001b[39m\u001b[34m(self, *args, **kwds)\u001b[39m\n\u001b[32m    830\u001b[39m compiler = \u001b[33m\"\u001b[39m\u001b[33mxla\u001b[39m\u001b[33m\"\u001b[39m \u001b[38;5;28;01mif\u001b[39;00m \u001b[38;5;28mself\u001b[39m._jit_compile \u001b[38;5;28;01melse\u001b[39;00m \u001b[33m\"\u001b[39m\u001b[33mnonXla\u001b[39m\u001b[33m\"\u001b[39m\n\u001b[32m    832\u001b[39m \u001b[38;5;28;01mwith\u001b[39;00m OptionalXlaContext(\u001b[38;5;28mself\u001b[39m._jit_compile):\n\u001b[32m--> \u001b[39m\u001b[32m833\u001b[39m   result = \u001b[38;5;28;43mself\u001b[39;49m\u001b[43m.\u001b[49m\u001b[43m_call\u001b[49m\u001b[43m(\u001b[49m\u001b[43m*\u001b[49m\u001b[43margs\u001b[49m\u001b[43m,\u001b[49m\u001b[43m \u001b[49m\u001b[43m*\u001b[49m\u001b[43m*\u001b[49m\u001b[43mkwds\u001b[49m\u001b[43m)\u001b[49m\n\u001b[32m    835\u001b[39m new_tracing_count = \u001b[38;5;28mself\u001b[39m.experimental_get_tracing_count()\n\u001b[32m    836\u001b[39m without_tracing = (tracing_count == new_tracing_count)\n",
      "\u001b[36mFile \u001b[39m\u001b[32m~/Documents/TPS/TPS 2A/S8/Deep learning/Workshop deep learning/.venv/lib/python3.12/site-packages/tensorflow/python/eager/polymorphic_function/polymorphic_function.py:878\u001b[39m, in \u001b[36mFunction._call\u001b[39m\u001b[34m(self, *args, **kwds)\u001b[39m\n\u001b[32m    875\u001b[39m \u001b[38;5;28mself\u001b[39m._lock.release()\n\u001b[32m    876\u001b[39m \u001b[38;5;66;03m# In this case we have not created variables on the first call. So we can\u001b[39;00m\n\u001b[32m    877\u001b[39m \u001b[38;5;66;03m# run the first trace but we should fail if variables are created.\u001b[39;00m\n\u001b[32m--> \u001b[39m\u001b[32m878\u001b[39m results = \u001b[43mtracing_compilation\u001b[49m\u001b[43m.\u001b[49m\u001b[43mcall_function\u001b[49m\u001b[43m(\u001b[49m\n\u001b[32m    879\u001b[39m \u001b[43m    \u001b[49m\u001b[43margs\u001b[49m\u001b[43m,\u001b[49m\u001b[43m \u001b[49m\u001b[43mkwds\u001b[49m\u001b[43m,\u001b[49m\u001b[43m \u001b[49m\u001b[38;5;28;43mself\u001b[39;49m\u001b[43m.\u001b[49m\u001b[43m_variable_creation_config\u001b[49m\n\u001b[32m    880\u001b[39m \u001b[43m\u001b[49m\u001b[43m)\u001b[49m\n\u001b[32m    881\u001b[39m \u001b[38;5;28;01mif\u001b[39;00m \u001b[38;5;28mself\u001b[39m._created_variables:\n\u001b[32m    882\u001b[39m   \u001b[38;5;28;01mraise\u001b[39;00m \u001b[38;5;167;01mValueError\u001b[39;00m(\u001b[33m\"\u001b[39m\u001b[33mCreating variables on a non-first call to a function\u001b[39m\u001b[33m\"\u001b[39m\n\u001b[32m    883\u001b[39m                    \u001b[33m\"\u001b[39m\u001b[33m decorated with tf.function.\u001b[39m\u001b[33m\"\u001b[39m)\n",
      "\u001b[36mFile \u001b[39m\u001b[32m~/Documents/TPS/TPS 2A/S8/Deep learning/Workshop deep learning/.venv/lib/python3.12/site-packages/tensorflow/python/eager/polymorphic_function/tracing_compilation.py:139\u001b[39m, in \u001b[36mcall_function\u001b[39m\u001b[34m(args, kwargs, tracing_options)\u001b[39m\n\u001b[32m    137\u001b[39m bound_args = function.function_type.bind(*args, **kwargs)\n\u001b[32m    138\u001b[39m flat_inputs = function.function_type.unpack_inputs(bound_args)\n\u001b[32m--> \u001b[39m\u001b[32m139\u001b[39m \u001b[38;5;28;01mreturn\u001b[39;00m \u001b[43mfunction\u001b[49m\u001b[43m.\u001b[49m\u001b[43m_call_flat\u001b[49m\u001b[43m(\u001b[49m\u001b[43m  \u001b[49m\u001b[38;5;66;43;03m# pylint: disable=protected-access\u001b[39;49;00m\n\u001b[32m    140\u001b[39m \u001b[43m    \u001b[49m\u001b[43mflat_inputs\u001b[49m\u001b[43m,\u001b[49m\u001b[43m \u001b[49m\u001b[43mcaptured_inputs\u001b[49m\u001b[43m=\u001b[49m\u001b[43mfunction\u001b[49m\u001b[43m.\u001b[49m\u001b[43mcaptured_inputs\u001b[49m\n\u001b[32m    141\u001b[39m \u001b[43m\u001b[49m\u001b[43m)\u001b[49m\n",
      "\u001b[36mFile \u001b[39m\u001b[32m~/Documents/TPS/TPS 2A/S8/Deep learning/Workshop deep learning/.venv/lib/python3.12/site-packages/tensorflow/python/eager/polymorphic_function/concrete_function.py:1322\u001b[39m, in \u001b[36mConcreteFunction._call_flat\u001b[39m\u001b[34m(self, tensor_inputs, captured_inputs)\u001b[39m\n\u001b[32m   1318\u001b[39m possible_gradient_type = gradients_util.PossibleTapeGradientTypes(args)\n\u001b[32m   1319\u001b[39m \u001b[38;5;28;01mif\u001b[39;00m (possible_gradient_type == gradients_util.POSSIBLE_GRADIENT_TYPES_NONE\n\u001b[32m   1320\u001b[39m     \u001b[38;5;129;01mand\u001b[39;00m executing_eagerly):\n\u001b[32m   1321\u001b[39m   \u001b[38;5;66;03m# No tape is watching; skip to running the function.\u001b[39;00m\n\u001b[32m-> \u001b[39m\u001b[32m1322\u001b[39m   \u001b[38;5;28;01mreturn\u001b[39;00m \u001b[38;5;28;43mself\u001b[39;49m\u001b[43m.\u001b[49m\u001b[43m_inference_function\u001b[49m\u001b[43m.\u001b[49m\u001b[43mcall_preflattened\u001b[49m\u001b[43m(\u001b[49m\u001b[43margs\u001b[49m\u001b[43m)\u001b[49m\n\u001b[32m   1323\u001b[39m forward_backward = \u001b[38;5;28mself\u001b[39m._select_forward_and_backward_functions(\n\u001b[32m   1324\u001b[39m     args,\n\u001b[32m   1325\u001b[39m     possible_gradient_type,\n\u001b[32m   1326\u001b[39m     executing_eagerly)\n\u001b[32m   1327\u001b[39m forward_function, args_with_tangents = forward_backward.forward()\n",
      "\u001b[36mFile \u001b[39m\u001b[32m~/Documents/TPS/TPS 2A/S8/Deep learning/Workshop deep learning/.venv/lib/python3.12/site-packages/tensorflow/python/eager/polymorphic_function/atomic_function.py:216\u001b[39m, in \u001b[36mAtomicFunction.call_preflattened\u001b[39m\u001b[34m(self, args)\u001b[39m\n\u001b[32m    214\u001b[39m \u001b[38;5;28;01mdef\u001b[39;00m\u001b[38;5;250m \u001b[39m\u001b[34mcall_preflattened\u001b[39m(\u001b[38;5;28mself\u001b[39m, args: Sequence[core.Tensor]) -> Any:\n\u001b[32m    215\u001b[39m \u001b[38;5;250m  \u001b[39m\u001b[33;03m\"\"\"Calls with flattened tensor inputs and returns the structured output.\"\"\"\u001b[39;00m\n\u001b[32m--> \u001b[39m\u001b[32m216\u001b[39m   flat_outputs = \u001b[38;5;28;43mself\u001b[39;49m\u001b[43m.\u001b[49m\u001b[43mcall_flat\u001b[49m\u001b[43m(\u001b[49m\u001b[43m*\u001b[49m\u001b[43margs\u001b[49m\u001b[43m)\u001b[49m\n\u001b[32m    217\u001b[39m   \u001b[38;5;28;01mreturn\u001b[39;00m \u001b[38;5;28mself\u001b[39m.function_type.pack_output(flat_outputs)\n",
      "\u001b[36mFile \u001b[39m\u001b[32m~/Documents/TPS/TPS 2A/S8/Deep learning/Workshop deep learning/.venv/lib/python3.12/site-packages/tensorflow/python/eager/polymorphic_function/atomic_function.py:251\u001b[39m, in \u001b[36mAtomicFunction.call_flat\u001b[39m\u001b[34m(self, *args)\u001b[39m\n\u001b[32m    249\u001b[39m \u001b[38;5;28;01mwith\u001b[39;00m record.stop_recording():\n\u001b[32m    250\u001b[39m   \u001b[38;5;28;01mif\u001b[39;00m \u001b[38;5;28mself\u001b[39m._bound_context.executing_eagerly():\n\u001b[32m--> \u001b[39m\u001b[32m251\u001b[39m     outputs = \u001b[38;5;28;43mself\u001b[39;49m\u001b[43m.\u001b[49m\u001b[43m_bound_context\u001b[49m\u001b[43m.\u001b[49m\u001b[43mcall_function\u001b[49m\u001b[43m(\u001b[49m\n\u001b[32m    252\u001b[39m \u001b[43m        \u001b[49m\u001b[38;5;28;43mself\u001b[39;49m\u001b[43m.\u001b[49m\u001b[43mname\u001b[49m\u001b[43m,\u001b[49m\n\u001b[32m    253\u001b[39m \u001b[43m        \u001b[49m\u001b[38;5;28;43mlist\u001b[39;49m\u001b[43m(\u001b[49m\u001b[43margs\u001b[49m\u001b[43m)\u001b[49m\u001b[43m,\u001b[49m\n\u001b[32m    254\u001b[39m \u001b[43m        \u001b[49m\u001b[38;5;28;43mlen\u001b[39;49m\u001b[43m(\u001b[49m\u001b[38;5;28;43mself\u001b[39;49m\u001b[43m.\u001b[49m\u001b[43mfunction_type\u001b[49m\u001b[43m.\u001b[49m\u001b[43mflat_outputs\u001b[49m\u001b[43m)\u001b[49m\u001b[43m,\u001b[49m\n\u001b[32m    255\u001b[39m \u001b[43m    \u001b[49m\u001b[43m)\u001b[49m\n\u001b[32m    256\u001b[39m   \u001b[38;5;28;01melse\u001b[39;00m:\n\u001b[32m    257\u001b[39m     outputs = make_call_op_in_graph(\n\u001b[32m    258\u001b[39m         \u001b[38;5;28mself\u001b[39m,\n\u001b[32m    259\u001b[39m         \u001b[38;5;28mlist\u001b[39m(args),\n\u001b[32m    260\u001b[39m         \u001b[38;5;28mself\u001b[39m._bound_context.function_call_options.as_attrs(),\n\u001b[32m    261\u001b[39m     )\n",
      "\u001b[36mFile \u001b[39m\u001b[32m~/Documents/TPS/TPS 2A/S8/Deep learning/Workshop deep learning/.venv/lib/python3.12/site-packages/tensorflow/python/eager/context.py:1688\u001b[39m, in \u001b[36mContext.call_function\u001b[39m\u001b[34m(self, name, tensor_inputs, num_outputs)\u001b[39m\n\u001b[32m   1686\u001b[39m cancellation_context = cancellation.context()\n\u001b[32m   1687\u001b[39m \u001b[38;5;28;01mif\u001b[39;00m cancellation_context \u001b[38;5;129;01mis\u001b[39;00m \u001b[38;5;28;01mNone\u001b[39;00m:\n\u001b[32m-> \u001b[39m\u001b[32m1688\u001b[39m   outputs = \u001b[43mexecute\u001b[49m\u001b[43m.\u001b[49m\u001b[43mexecute\u001b[49m\u001b[43m(\u001b[49m\n\u001b[32m   1689\u001b[39m \u001b[43m      \u001b[49m\u001b[43mname\u001b[49m\u001b[43m.\u001b[49m\u001b[43mdecode\u001b[49m\u001b[43m(\u001b[49m\u001b[33;43m\"\u001b[39;49m\u001b[33;43mutf-8\u001b[39;49m\u001b[33;43m\"\u001b[39;49m\u001b[43m)\u001b[49m\u001b[43m,\u001b[49m\n\u001b[32m   1690\u001b[39m \u001b[43m      \u001b[49m\u001b[43mnum_outputs\u001b[49m\u001b[43m=\u001b[49m\u001b[43mnum_outputs\u001b[49m\u001b[43m,\u001b[49m\n\u001b[32m   1691\u001b[39m \u001b[43m      \u001b[49m\u001b[43minputs\u001b[49m\u001b[43m=\u001b[49m\u001b[43mtensor_inputs\u001b[49m\u001b[43m,\u001b[49m\n\u001b[32m   1692\u001b[39m \u001b[43m      \u001b[49m\u001b[43mattrs\u001b[49m\u001b[43m=\u001b[49m\u001b[43mattrs\u001b[49m\u001b[43m,\u001b[49m\n\u001b[32m   1693\u001b[39m \u001b[43m      \u001b[49m\u001b[43mctx\u001b[49m\u001b[43m=\u001b[49m\u001b[38;5;28;43mself\u001b[39;49m\u001b[43m,\u001b[49m\n\u001b[32m   1694\u001b[39m \u001b[43m  \u001b[49m\u001b[43m)\u001b[49m\n\u001b[32m   1695\u001b[39m \u001b[38;5;28;01melse\u001b[39;00m:\n\u001b[32m   1696\u001b[39m   outputs = execute.execute_with_cancellation(\n\u001b[32m   1697\u001b[39m       name.decode(\u001b[33m\"\u001b[39m\u001b[33mutf-8\u001b[39m\u001b[33m\"\u001b[39m),\n\u001b[32m   1698\u001b[39m       num_outputs=num_outputs,\n\u001b[32m   (...)\u001b[39m\u001b[32m   1702\u001b[39m       cancellation_manager=cancellation_context,\n\u001b[32m   1703\u001b[39m   )\n",
      "\u001b[36mFile \u001b[39m\u001b[32m~/Documents/TPS/TPS 2A/S8/Deep learning/Workshop deep learning/.venv/lib/python3.12/site-packages/tensorflow/python/eager/execute.py:53\u001b[39m, in \u001b[36mquick_execute\u001b[39m\u001b[34m(op_name, num_outputs, inputs, attrs, ctx, name)\u001b[39m\n\u001b[32m     51\u001b[39m \u001b[38;5;28;01mtry\u001b[39;00m:\n\u001b[32m     52\u001b[39m   ctx.ensure_initialized()\n\u001b[32m---> \u001b[39m\u001b[32m53\u001b[39m   tensors = \u001b[43mpywrap_tfe\u001b[49m\u001b[43m.\u001b[49m\u001b[43mTFE_Py_Execute\u001b[49m\u001b[43m(\u001b[49m\u001b[43mctx\u001b[49m\u001b[43m.\u001b[49m\u001b[43m_handle\u001b[49m\u001b[43m,\u001b[49m\u001b[43m \u001b[49m\u001b[43mdevice_name\u001b[49m\u001b[43m,\u001b[49m\u001b[43m \u001b[49m\u001b[43mop_name\u001b[49m\u001b[43m,\u001b[49m\n\u001b[32m     54\u001b[39m \u001b[43m                                      \u001b[49m\u001b[43minputs\u001b[49m\u001b[43m,\u001b[49m\u001b[43m \u001b[49m\u001b[43mattrs\u001b[49m\u001b[43m,\u001b[49m\u001b[43m \u001b[49m\u001b[43mnum_outputs\u001b[49m\u001b[43m)\u001b[49m\n\u001b[32m     55\u001b[39m \u001b[38;5;28;01mexcept\u001b[39;00m core._NotOkStatusException \u001b[38;5;28;01mas\u001b[39;00m e:\n\u001b[32m     56\u001b[39m   \u001b[38;5;28;01mif\u001b[39;00m name \u001b[38;5;129;01mis\u001b[39;00m \u001b[38;5;129;01mnot\u001b[39;00m \u001b[38;5;28;01mNone\u001b[39;00m:\n",
      "\u001b[31mKeyboardInterrupt\u001b[39m: "
     ]
    }
   ],
   "source": [
    "results=[]\n",
    "for i in range(10):\n",
    "    model.compile(optimizer='adam', loss='sparse_categorical_crossentropy', metrics=['accuracy'])\n",
    "    history = model.fit(X_train, y_train, epochs=8, batch_size=32, validation_split=0.2)\n",
    "    y_pred_classes = model.predict(X_test)\n",
    "    y_pred = np.argmax(y_pred_classes, axis=1)\n",
    "    accuracy = accuracy_score(y_test, y_pred)\n",
    "    results.append(accuracy)\n",
    "    print(f\"Accuracy: {accuracy * 100:.2f}%\")\n",
    "print(f\"Mean Accuracy: {np.mean(results) * 100:.2f}%\")\n",
    "\n"
   ]
  },
  {
   "cell_type": "code",
   "execution_count": 150,
   "id": "5784491b",
   "metadata": {},
   "outputs": [
    {
     "name": "stdout",
     "output_type": "stream",
     "text": [
      "[0.4157844080846968, 0.41000962463907603, 0.383060635226179, 0.4032723772858518, 0.397497593840231, 0.39846005774783444, 0.3994225216554379, 0.39364773820981713, 0.397497593840231, 0.39557266602502406]\n",
      "0.3994225216554379\n"
     ]
    }
   ],
   "source": [
    "print(results)\n",
    "print(np.mean(results))"
   ]
>>>>>>> 74eff2d (optimisation of results of embedding)
  }
 ],
 "metadata": {
  "kernelspec": {
   "display_name": ".venv",
   "language": "python",
   "name": "python3"
  },
  "language_info": {
   "codemirror_mode": {
    "name": "ipython",
    "version": 3
   },
   "file_extension": ".py",
   "mimetype": "text/x-python",
   "name": "python",
   "nbconvert_exporter": "python",
   "pygments_lexer": "ipython3",
<<<<<<< HEAD
   "version": "3.11.11"
=======
   "version": "3.12.10"
>>>>>>> 74eff2d (optimisation of results of embedding)
  }
 },
 "nbformat": 4,
 "nbformat_minor": 5
}
