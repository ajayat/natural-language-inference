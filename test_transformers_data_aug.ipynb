{
  "cells": [
    {
      "cell_type": "markdown",
      "metadata": {
        "id": "9hPbP053j7wy"
      },
      "source": [
        "# Natural Language Inference\n",
        "\n",
        "This Jupyter Notebook fine-tunes `microsoft/mdeberta-v3-base` on the `Contradictory, My Dear Watson` dataset.\n",
        "It includes data loading, preprocessing, data augmentation, model training, evaluation, and visualization."
      ]
    },
    {
      "cell_type": "markdown",
      "metadata": {
        "id": "kb4jC0vEj7w0"
      },
      "source": [
        "### Environment setup"
      ]
    },
    {
      "cell_type": "code",
      "execution_count": 1,
      "metadata": {
        "id": "mqhGjxHoj7w0"
      },
      "outputs": [
        {
          "name": "stdout",
          "output_type": "stream",
          "text": [
            "Note: you may need to restart the kernel to use updated packages.\n"
          ]
        }
      ],
      "source": [
        "# Install dependencies\n",
        "%pip install -q pandas numpy torch seaborn matplotlib scikit-learn transformers datasets nlpaug"
      ]
    },
    {
      "cell_type": "markdown",
      "metadata": {
        "id": "VbTlBIhLj7w1"
      },
      "source": [
        "#### Import libraries"
      ]
    },
    {
      "cell_type": "code",
      "execution_count": 2,
      "metadata": {
        "id": "tw4RAm1zj7w1"
      },
      "outputs": [],
      "source": [
        "from pathlib import Path\n",
        "from tqdm.notebook import tqdm\n",
        "\n",
        "import pandas as pd\n",
        "import numpy as np\n",
        "import seaborn as sns\n",
        "import matplotlib.pyplot as plt\n",
        "\n",
        "import nltk\n",
        "import torch\n",
        "from sklearn.metrics import accuracy_score, confusion_matrix, classification_report\n",
        "from transformers import AutoTokenizer, AutoModelForSequenceClassification, Trainer, TrainingArguments\n",
        "from datasets import Dataset, concatenate_datasets\n",
        "\n",
        "# Data augmentation\n",
        "from nlpaug.augmenter.word import WordAugmenter, RandomWordAug, SynonymAug\n",
        "from nlpaug.augmenter.char import KeyboardAug"
      ]
    },
    {
      "cell_type": "code",
      "execution_count": 3,
      "metadata": {
        "id": "i8Bk9-ya-7EE"
      },
      "outputs": [],
      "source": [
        "ROOT_PATH = Path.cwd()\n",
        "# Use fixed seed for results reproducibility\n",
        "np.random.seed(0)"
      ]
    },
    {
      "cell_type": "markdown",
      "metadata": {},
      "source": [
        "Little trick to prevent nltk downloading outputs:"
      ]
    },
    {
      "cell_type": "code",
      "execution_count": 4,
      "metadata": {},
      "outputs": [],
      "source": [
        "def nltk_silent_download(*args, func=nltk.download, **kwargs):\n",
        "    return func(*args, quiet=True, **kwargs)\n",
        "\n",
        "nltk.download = nltk_silent_download"
      ]
    },
    {
      "cell_type": "markdown",
      "metadata": {
        "id": "_U6tDwWAj7w1"
      },
      "source": [
        "### Data loading"
      ]
    },
    {
      "cell_type": "code",
      "execution_count": 5,
      "metadata": {
        "id": "roW0dM9Mj7w1"
      },
      "outputs": [
        {
          "data": {
            "text/html": [
              "<div>\n",
              "<style scoped>\n",
              "    .dataframe tbody tr th:only-of-type {\n",
              "        vertical-align: middle;\n",
              "    }\n",
              "\n",
              "    .dataframe tbody tr th {\n",
              "        vertical-align: top;\n",
              "    }\n",
              "\n",
              "    .dataframe thead th {\n",
              "        text-align: right;\n",
              "    }\n",
              "</style>\n",
              "<table border=\"1\" class=\"dataframe\">\n",
              "  <thead>\n",
              "    <tr style=\"text-align: right;\">\n",
              "      <th></th>\n",
              "      <th>id</th>\n",
              "      <th>premise</th>\n",
              "      <th>hypothesis</th>\n",
              "      <th>lang_abv</th>\n",
              "      <th>language</th>\n",
              "      <th>label</th>\n",
              "    </tr>\n",
              "  </thead>\n",
              "  <tbody>\n",
              "    <tr>\n",
              "      <th>6543</th>\n",
              "      <td>af77bed638</td>\n",
              "      <td>The experts point out that it is not age alone...</td>\n",
              "      <td>The Qin Dynasty has the most expensive antique...</td>\n",
              "      <td>en</td>\n",
              "      <td>English</td>\n",
              "      <td>1</td>\n",
              "    </tr>\n",
              "    <tr>\n",
              "      <th>9150</th>\n",
              "      <td>285d11dd62</td>\n",
              "      <td>Wear a nicely ventilated hat and keep to the s...</td>\n",
              "      <td>A sun umbrella might help those who really nee...</td>\n",
              "      <td>en</td>\n",
              "      <td>English</td>\n",
              "      <td>1</td>\n",
              "    </tr>\n",
              "    <tr>\n",
              "      <th>8245</th>\n",
              "      <td>00b1f84085</td>\n",
              "      <td>Each working group met several times to develo...</td>\n",
              "      <td>There were no meetings to discuss changes to t...</td>\n",
              "      <td>en</td>\n",
              "      <td>English</td>\n",
              "      <td>2</td>\n",
              "    </tr>\n",
              "    <tr>\n",
              "      <th>3753</th>\n",
              "      <td>e19376a801</td>\n",
              "      <td>farmworkers conducted by the U.S.</td>\n",
              "      <td>A labor survey also considered the views of ag...</td>\n",
              "      <td>en</td>\n",
              "      <td>English</td>\n",
              "      <td>1</td>\n",
              "    </tr>\n",
              "    <tr>\n",
              "      <th>713</th>\n",
              "      <td>b0afb96e00</td>\n",
              "      <td>كلمتا blood و flood ليس بنفس صوت food.</td>\n",
              "      <td>الغذاء هو بالضبط مثل الدم والفيضان.</td>\n",
              "      <td>ar</td>\n",
              "      <td>Arabic</td>\n",
              "      <td>2</td>\n",
              "    </tr>\n",
              "    <tr>\n",
              "      <th>2799</th>\n",
              "      <td>e33f803e46</td>\n",
              "      <td>LSC set a deadline of October 1, 1998, for sub...</td>\n",
              "      <td>LSC set a deadline to submit state reports to ...</td>\n",
              "      <td>en</td>\n",
              "      <td>English</td>\n",
              "      <td>1</td>\n",
              "    </tr>\n",
              "    <tr>\n",
              "      <th>2335</th>\n",
              "      <td>45280f46e8</td>\n",
              "      <td>Bila shaka, azimio lako lilikuwa la thamani, S...</td>\n",
              "      <td>Waspania walipanga kukutupa majini wakati wa u...</td>\n",
              "      <td>sw</td>\n",
              "      <td>Swahili</td>\n",
              "      <td>1</td>\n",
              "    </tr>\n",
              "    <tr>\n",
              "      <th>2397</th>\n",
              "      <td>0a9e0b89ab</td>\n",
              "      <td>Eh! Monsieur Lawrence, called Poirot.</td>\n",
              "      <td>Poirot did not call upon Monsieur Lawrence.</td>\n",
              "      <td>en</td>\n",
              "      <td>English</td>\n",
              "      <td>2</td>\n",
              "    </tr>\n",
              "    <tr>\n",
              "      <th>3959</th>\n",
              "      <td>f093f8733c</td>\n",
              "      <td>Release 2.0: A Design for Living in the Digita...</td>\n",
              "      <td>Esther Dyson is the Author of Release 2.o: A D...</td>\n",
              "      <td>en</td>\n",
              "      <td>English</td>\n",
              "      <td>0</td>\n",
              "    </tr>\n",
              "    <tr>\n",
              "      <th>5808</th>\n",
              "      <td>49ba04c9a8</td>\n",
              "      <td>aCondition Assessment Survey (CAS).</td>\n",
              "      <td>CAS is a Condition Assessment Survey</td>\n",
              "      <td>en</td>\n",
              "      <td>English</td>\n",
              "      <td>0</td>\n",
              "    </tr>\n",
              "  </tbody>\n",
              "</table>\n",
              "</div>"
            ],
            "text/plain": [
              "              id                                            premise  \\\n",
              "6543  af77bed638  The experts point out that it is not age alone...   \n",
              "9150  285d11dd62  Wear a nicely ventilated hat and keep to the s...   \n",
              "8245  00b1f84085  Each working group met several times to develo...   \n",
              "3753  e19376a801                  farmworkers conducted by the U.S.   \n",
              "713   b0afb96e00             كلمتا blood و flood ليس بنفس صوت food.   \n",
              "2799  e33f803e46  LSC set a deadline of October 1, 1998, for sub...   \n",
              "2335  45280f46e8  Bila shaka, azimio lako lilikuwa la thamani, S...   \n",
              "2397  0a9e0b89ab             Eh! Monsieur Lawrence, called Poirot.    \n",
              "3959  f093f8733c  Release 2.0: A Design for Living in the Digita...   \n",
              "5808  49ba04c9a8                aCondition Assessment Survey (CAS).   \n",
              "\n",
              "                                             hypothesis lang_abv language  \\\n",
              "6543  The Qin Dynasty has the most expensive antique...       en  English   \n",
              "9150  A sun umbrella might help those who really nee...       en  English   \n",
              "8245  There were no meetings to discuss changes to t...       en  English   \n",
              "3753  A labor survey also considered the views of ag...       en  English   \n",
              "713                 الغذاء هو بالضبط مثل الدم والفيضان.       ar   Arabic   \n",
              "2799  LSC set a deadline to submit state reports to ...       en  English   \n",
              "2335  Waspania walipanga kukutupa majini wakati wa u...       sw  Swahili   \n",
              "2397        Poirot did not call upon Monsieur Lawrence.       en  English   \n",
              "3959  Esther Dyson is the Author of Release 2.o: A D...       en  English   \n",
              "5808               CAS is a Condition Assessment Survey       en  English   \n",
              "\n",
              "      label  \n",
              "6543      1  \n",
              "9150      1  \n",
              "8245      2  \n",
              "3753      1  \n",
              "713       2  \n",
              "2799      1  \n",
              "2335      1  \n",
              "2397      2  \n",
              "3959      0  \n",
              "5808      0  "
            ]
          },
          "execution_count": 5,
          "metadata": {},
          "output_type": "execute_result"
        }
      ],
      "source": [
        "df = pd.read_csv(ROOT_PATH / \"data/NLI_dataset.csv\")  # Dataset path\n",
        "df.sample(10)"
      ]
    },
    {
      "cell_type": "markdown",
      "metadata": {
        "id": "w4XYZOceWvJ4"
      },
      "source": [
        "Display label distribution: the dataset is evenly distributed across all labels."
      ]
    },
    {
      "cell_type": "code",
      "execution_count": 6,
      "metadata": {
        "id": "iI0wu0VxWt7m"
      },
      "outputs": [
        {
          "data": {
            "image/png": "[encoded data removed]",
            "text/plain": [
              "<Figure size 1000x600 with 1 Axes>"
            ]
          },
          "metadata": {},
          "output_type": "display_data"
        }
      ],
      "source": [
        "plt.figure(figsize=(10, 6))\n",
        "sns.countplot(x=df.label.replace({0: \"Entailment\", 1: \"Neutral\", 2: \"Contradiction\"}))\n",
        "plt.xlabel(None)\n",
        "plt.ylabel(\"Count\")\n",
        "plt.title(\"Pair-wise sentences distribution\")\n",
        "plt.show()"
      ]
    },
    {
      "cell_type": "markdown",
      "metadata": {
        "id": "m_JGmdbPXSxg"
      },
      "source": [
        "However, the dataset predominantly consists of English sentences."
      ]
    },
    {
      "cell_type": "code",
      "execution_count": 7,
      "metadata": {
        "id": "xJcuSwR9VIZm"
      },
      "outputs": [
        {
          "data": {
            "image/png": "[encoded data removed]",
            "text/plain": [
              "<Figure size 1000x1000 with 1 Axes>"
            ]
          },
          "metadata": {},
          "output_type": "display_data"
        }
      ],
      "source": [
        "labels, frequencies = np.unique(df.language.values, return_counts = True)\n",
        "\n",
        "plt.figure(figsize = (10, 10))\n",
        "plt.pie(frequencies, labels=labels, autopct='%1.1f%%')\n",
        "plt.show()"
      ]
    },
    {
      "cell_type": "markdown",
      "metadata": {
        "id": "-4Nby-Mvj7w2"
      },
      "source": [
        "### Data Augmentation\n",
        "\n",
        "Use `NLPAug` library to augment the data by using synonyms, typo insertion and word swapping."
      ]
    },
    {
      "cell_type": "code",
      "execution_count": 8,
      "metadata": {
        "id": "_WPS4lljj7w2"
      },
      "outputs": [],
      "source": [
        "def augment_text(text, augmenter):\n",
        "    try:\n",
        "        result = augmenter.augment(text)\n",
        "        # Handle list outputs from some augmenters\n",
        "        return result[0] if isinstance(result, list) else str(result)\n",
        "    except Exception as e:\n",
        "        return str(text)  # Ensure string return\n",
        "\n",
        "def augment_df(df, augmenters, sample_frac=0.5):\n",
        "    sample = df.sample(frac=sample_frac)\n",
        "    augmented = []\n",
        "\n",
        "    for _, row in tqdm(sample.iterrows(), total=len(sample)):\n",
        "        for aug, weight in augmenters:\n",
        "            if np.random.random() > weight:\n",
        "                continue  # Skip this augmentation\n",
        "\n",
        "            new_row = row.copy()\n",
        "            premise = new_row['premise'] = augment_text(row['premise'], aug)\n",
        "            hypothesis = new_row['hypothesis'] = augment_text(row['hypothesis'], aug)\n",
        "            if premise != row[\"premise\"] or hypothesis != row[\"hypothesis\"]:\n",
        "                augmented.append(new_row)\n",
        "\n",
        "    return pd.DataFrame(augmented).convert_dtypes()"
      ]
    },
    {
      "cell_type": "markdown",
      "metadata": {
        "id": "KjQLFQq8T7QR"
      },
      "source": [
        "Define augmentation strategies and their probability to be used for each sentence."
      ]
    },
    {
      "cell_type": "code",
      "execution_count": 9,
      "metadata": {
        "id": "lSLivR29BGwt"
      },
      "outputs": [
        {
          "data": {
            "application/vnd.jupyter.widget-view+json": {
              "model_id": "23acddcacf0e4692a15ed8736c6293ba",
              "version_major": 2,
              "version_minor": 0
            },
            "text/plain": [
              "  0%|          | 0/6060 [00:00<?, ?it/s]"
            ]
          },
          "metadata": {},
          "output_type": "display_data"
        },
        {
          "name": "stdout",
          "output_type": "stream",
          "text": [
            "Adding 2344 new examples\n"
          ]
        }
      ],
      "source": [
        "augmenters = [\n",
        "    (SynonymAug(aug_src='wordnet', aug_p=0.1), 0.8),   # Synonym replacement\n",
        "    (RandomWordAug(action='swap', aug_p=0.1), 0.1),    # Word swapping\n",
        "    (KeyboardAug(aug_char_p=0.1, aug_word_p=0.1), 0.3) # Typo simulation\n",
        "]\n",
        "\n",
        "df_aug = augment_df(df, augmenters)\n",
        "print(f\"Adding {len(df_aug)} new examples\")"
      ]
    },
    {
      "cell_type": "markdown",
      "metadata": {
        "id": "ZBykOxZDj7w3"
      },
      "source": [
        "### Model configuration\n",
        "\n",
        "**Architecture:**  \n",
        "- `microsoft/mdeberta-v3-base` transformer from HuggingFace\n",
        "- Classification head with dropout (0.3)\n",
        "\n",
        "**Training Parameters:**\n",
        "- Batch size: 8 (train), 8 (eval)\n",
        "- Learning rate: 2e-5\n",
        "- Epochs: 5\n",
        "- Weight decay: 0.01\n",
        "- Warmup ratio: 0.1\n",
        "\n",
        "Train using the `Trainer` API."
      ]
    },
    {
      "cell_type": "markdown",
      "metadata": {
        "id": "jyv-9MoVJWy6"
      },
      "source": [
        "#### Define the model"
      ]
    },
    {
      "cell_type": "code",
      "execution_count": 10,
      "metadata": {
        "id": "8o6XGXtgJhGB"
      },
      "outputs": [
        {
          "name": "stderr",
          "output_type": "stream",
          "text": [
            "Some weights of DebertaV2ForSequenceClassification were not initialized from the model checkpoint at microsoft/mdeberta-v3-base and are newly initialized: ['classifier.bias', 'classifier.weight', 'pooler.dense.bias', 'pooler.dense.weight']\n",
            "You should probably TRAIN this model on a down-stream task to be able to use it for predictions and inference.\n"
          ]
        },
        {
          "data": {
            "text/plain": [
              "DebertaV2ForSequenceClassification(\n",
              "  (deberta): DebertaV2Model(\n",
              "    (embeddings): DebertaV2Embeddings(\n",
              "      (word_embeddings): Embedding(251000, 768, padding_idx=0)\n",
              "      (LayerNorm): LayerNorm((768,), eps=1e-07, elementwise_affine=True)\n",
              "      (dropout): Dropout(p=0.1, inplace=False)\n",
              "    )\n",
              "    (encoder): DebertaV2Encoder(\n",
              "      (layer): ModuleList(\n",
              "        (0-11): 12 x DebertaV2Layer(\n",
              "          (attention): DebertaV2Attention(\n",
              "            (self): DisentangledSelfAttention(\n",
              "              (query_proj): Linear(in_features=768, out_features=768, bias=True)\n",
              "              (key_proj): Linear(in_features=768, out_features=768, bias=True)\n",
              "              (value_proj): Linear(in_features=768, out_features=768, bias=True)\n",
              "              (pos_dropout): Dropout(p=0.1, inplace=False)\n",
              "              (dropout): Dropout(p=0.1, inplace=False)\n",
              "            )\n",
              "            (output): DebertaV2SelfOutput(\n",
              "              (dense): Linear(in_features=768, out_features=768, bias=True)\n",
              "              (LayerNorm): LayerNorm((768,), eps=1e-07, elementwise_affine=True)\n",
              "              (dropout): Dropout(p=0.1, inplace=False)\n",
              "            )\n",
              "          )\n",
              "          (intermediate): DebertaV2Intermediate(\n",
              "            (dense): Linear(in_features=768, out_features=3072, bias=True)\n",
              "            (intermediate_act_fn): GELUActivation()\n",
              "          )\n",
              "          (output): DebertaV2Output(\n",
              "            (dense): Linear(in_features=3072, out_features=768, bias=True)\n",
              "            (LayerNorm): LayerNorm((768,), eps=1e-07, elementwise_affine=True)\n",
              "            (dropout): Dropout(p=0.1, inplace=False)\n",
              "          )\n",
              "        )\n",
              "      )\n",
              "      (rel_embeddings): Embedding(512, 768)\n",
              "      (LayerNorm): LayerNorm((768,), eps=1e-07, elementwise_affine=True)\n",
              "    )\n",
              "  )\n",
              "  (pooler): ContextPooler(\n",
              "    (dense): Linear(in_features=768, out_features=768, bias=True)\n",
              "    (dropout): Dropout(p=0, inplace=False)\n",
              "  )\n",
              "  (classifier): Linear(\n",
              "    in_features=768, out_features=3, bias=True\n",
              "    (dropout): Dropout(p=0.3, inplace=False)\n",
              "  )\n",
              "  (dropout): Dropout(p=0.1, inplace=False)\n",
              ")"
            ]
          },
          "execution_count": 10,
          "metadata": {},
          "output_type": "execute_result"
        }
      ],
      "source": [
        "MODEL_NAME = \"microsoft/mdeberta-v3-base\"\n",
        "\n",
        "model = AutoModelForSequenceClassification.from_pretrained(MODEL_NAME, num_labels=3)\n",
        "model.classifier.dropout = torch.nn.Dropout(0.3)\n",
        "\n",
        "device = torch.device(\"cuda\" if torch.cuda.is_available() else \"cpu\")\n",
        "model.to(device)  # Move model to GPU if available"
      ]
    },
    {
      "cell_type": "markdown",
      "metadata": {
        "id": "f-ix6gD6JJFR"
      },
      "source": [
        "#### Tokenization"
      ]
    },
    {
      "cell_type": "code",
      "execution_count": 11,
      "metadata": {
        "id": "Ts_F70Doj7w3"
      },
      "outputs": [
        {
          "name": "stderr",
          "output_type": "stream",
          "text": [
            "/home/adrien/Documents/TPS/2A/NLI/.venv/lib/python3.11/site-packages/transformers/convert_slow_tokenizer.py:559: UserWarning: The sentencepiece tokenizer that you are converting to a fast tokenizer uses the byte fallback option which is not implemented in the fast tokenizers. In practice this means that the fast version of the tokenizer can produce unknown tokens whereas the sentencepiece version would have converted these unknown tokens into a sequence of byte tokens matching the original piece of text.\n",
            "  warnings.warn(\n"
          ]
        },
        {
          "data": {
            "application/vnd.jupyter.widget-view+json": {
              "model_id": "259fdc726734412fb6f94c93dcc264e5",
              "version_major": 2,
              "version_minor": 0
            },
            "text/plain": [
              "Map:   0%|          | 0/12120 [00:00<?, ? examples/s]"
            ]
          },
          "metadata": {},
          "output_type": "display_data"
        },
        {
          "data": {
            "application/vnd.jupyter.widget-view+json": {
              "model_id": "bdd10c3334d84f3596d56c31e9fb409d",
              "version_major": 2,
              "version_minor": 0
            },
            "text/plain": [
              "Map:   0%|          | 0/2344 [00:00<?, ? examples/s]"
            ]
          },
          "metadata": {},
          "output_type": "display_data"
        }
      ],
      "source": [
        "tokenizer = AutoTokenizer.from_pretrained(\"microsoft/mdeberta-v3-base\")\n",
        "\n",
        "def tokenize_function(row):\n",
        "    return tokenizer(\n",
        "        row['premise'],\n",
        "        row['hypothesis'],\n",
        "        truncation=True,\n",
        "        padding='max_length',\n",
        "        max_length=256\n",
        "    )\n",
        "\n",
        "# Dataset tokenized\n",
        "dataset = Dataset.from_pandas(df).map(tokenize_function, batched=True)\n",
        "dataset_aug = Dataset.from_pandas(df_aug).map(tokenize_function, batched=True)"
      ]
    },
    {
      "cell_type": "markdown",
      "metadata": {
        "id": "tPKA5r_TJQCf"
      },
      "source": [
        "#### Train-test split:\n",
        "- **Test set** is sampled from original dataset\n",
        "- **Train set** is a concatenation of the sampled train part with augmented data"
      ]
    },
    {
      "cell_type": "code",
      "execution_count": 12,
      "metadata": {
        "id": "gzApPkdTI3o8"
      },
      "outputs": [],
      "source": [
        "# Train-test split\n",
        "split_set = dataset.train_test_split(test_size=0.2, seed=0)\n",
        "train_set = concatenate_datasets([split_set['train'], dataset_aug])\n",
        "test_set = split_set['test']"
      ]
    },
    {
      "cell_type": "markdown",
      "metadata": {
        "id": "VQrSbqSFT7QT"
      },
      "source": [
        "#### Training hyperparameters"
      ]
    },
    {
      "cell_type": "code",
      "execution_count": 13,
      "metadata": {
        "id": "peRqyrEqT7QT"
      },
      "outputs": [
        {
          "name": "stderr",
          "output_type": "stream",
          "text": [
            "/home/adrien/Documents/TPS/2A/NLI/.venv/lib/python3.11/site-packages/transformers/training_args.py:1611: FutureWarning: `evaluation_strategy` is deprecated and will be removed in version 4.46 of 🤗 Transformers. Use `eval_strategy` instead\n",
            "  warnings.warn(\n",
            "/tmp/ipykernel_403767/1258284267.py:22: FutureWarning: `tokenizer` is deprecated and will be removed in version 5.0.0 for `Trainer.__init__`. Use `processing_class` instead.\n",
            "  trainer = Trainer(\n"
          ]
        }
      ],
      "source": [
        "model_path = ROOT_PATH / f\"models/{MODEL_NAME.rpartition('/')[-1]}\"\n",
        "\n",
        "training_args = TrainingArguments(\n",
        "    output_dir=model_path,\n",
        "    evaluation_strategy='epoch',\n",
        "    save_strategy='epoch',\n",
        "    learning_rate=2e-5,\n",
        "    per_device_train_batch_size=8,\n",
        "    per_device_eval_batch_size=8,\n",
        "    num_train_epochs=5,\n",
        "    weight_decay=0.01,\n",
        "    warmup_ratio=0.1,\n",
        "    load_best_model_at_end=True,\n",
        "    metric_for_best_model='accuracy',\n",
        "    report_to='none'  # Disabling wandb callbacks\n",
        ")\n",
        "\n",
        "def compute_metrics(pred):\n",
        "    y_pred = np.argmax(pred.predictions, axis=1)\n",
        "    return {'accuracy': accuracy_score(pred.label_ids, y_pred)}\n",
        "\n",
        "trainer = Trainer(\n",
        "    model=model,\n",
        "    args=training_args,\n",
        "    train_dataset=train_set,\n",
        "    eval_dataset=test_set,\n",
        "    tokenizer=tokenizer,\n",
        "    compute_metrics=compute_metrics\n",
        ")"
      ]
    },
    {
      "cell_type": "markdown",
      "metadata": {
        "id": "KkuxGob7j7w4"
      },
      "source": [
        "### Training"
      ]
    },
    {
      "cell_type": "code",
      "execution_count": null,
      "metadata": {
        "id": "jxQF4kis6StP"
      },
      "outputs": [],
      "source": [
        "trainer.train()"
      ]
    },
    {
      "cell_type": "markdown",
      "metadata": {
        "id": "6aBONMs6Ltem"
      },
      "source": [
        "Save the best model and the tokenizer to disk."
      ]
    },
    {
      "cell_type": "code",
      "execution_count": null,
      "metadata": {
        "id": "nA9nEKB7LwLl"
      },
      "outputs": [],
      "source": [
        "# Save the best model\n",
        "trainer.save_model(model_path)\n",
        "tokenizer.save_pretrained(model_path)\n",
        "print(f\"Model saved to {model_path}\")"
      ]
    },
    {
      "cell_type": "markdown",
      "metadata": {
        "id": "Wl19KSO2K5PP"
      },
      "source": [
        "### Evaluation & Visualization"
      ]
    },
    {
      "cell_type": "markdown",
      "metadata": {
        "id": "qZ94KVS5LHkg"
      },
      "source": [
        "Compute accuracy on the test set."
      ]
    },
    {
      "cell_type": "code",
      "execution_count": null,
      "metadata": {
        "id": "OvK1-BMbj7w4"
      },
      "outputs": [],
      "source": [
        "pred = trainer.predict(test_set)\n",
        "y_true = test_set['label']\n",
        "y_pred = np.argmax(pred.predictions, axis=-1)\n",
        "accuracy = accuracy_score(y_true, y_pred)\n",
        "print(f\"\\nAccuracy: {accuracy:.3f}\")"
      ]
    },
    {
      "cell_type": "markdown",
      "metadata": {
        "id": "mNVClqebLOXF"
      },
      "source": [
        "Display the confusion matrix using `seaborn`."
      ]
    },
    {
      "cell_type": "code",
      "execution_count": null,
      "metadata": {
        "id": "_d1sOBH1LDcQ"
      },
      "outputs": [],
      "source": [
        "plt.figure(figsize=(8,6))\n",
        "sns.heatmap(confusion_matrix(y_true, y_pred),\n",
        "            annot=True,\n",
        "            fmt='d',\n",
        "            cmap='Blues',\n",
        "            xticklabels=['Entailment', 'Neutral', 'Contradiction'],\n",
        "            yticklabels=['Entailment', 'Neutral', 'Contradiction'])\n",
        "plt.title('Confusion Matrix')\n",
        "plt.xlabel('Predicted')\n",
        "plt.ylabel('True')\n",
        "plt.show()"
      ]
    },
    {
      "cell_type": "code",
      "execution_count": null,
      "metadata": {
        "id": "jF49SrkCLWO7"
      },
      "outputs": [],
      "source": [
        "print(\"\\nClassification Report:\")\n",
        "print(classification_report(y_true, y_pred, target_names=['Entailment', 'Neutral', 'Contradiction']))"
      ]
    }
  ],
  "metadata": {
    "colab": {
      "provenance": []
    },
    "kernelspec": {
      "display_name": ".venv",
      "language": "python",
      "name": "python3"
    },
    "language_info": {
      "codemirror_mode": {
        "name": "ipython",
        "version": 3
      },
      "file_extension": ".py",
      "mimetype": "text/x-python",
      "name": "python",
      "nbconvert_exporter": "python",
      "pygments_lexer": "ipython3",
      "version": "3.11.11"
    }
  },
  "nbformat": 4,
  "nbformat_minor": 0
}
